{
  "nbformat": 4,
  "nbformat_minor": 0,
  "metadata": {
    "colab": {
      "name": "Crime Hostpot Analysis (Vancouver).ipynb",
      "provenance": [],
      "collapsed_sections": []
    },
    "kernelspec": {
      "name": "python3",
      "display_name": "Python 3"
    }
  },
  "cells": [
    {
      "cell_type": "markdown",
      "metadata": {
        "id": "ilFINAd3c5D_"
      },
      "source": [
        ">The first and foremost step in clustering is to examine the data and determine what really needs to be clustered. This is the most important as well as a tedious step. The original Vancouver dataset contained a column stating different types of crime prevalent in Vancouver, along with the Neighbourhood where it took place, and the corresponding Longitude and Latitude.\n",
        "\n",
        ">Since the data had a lot of qualitative data as well, it was not ideal to get good clustering results. Hence to counter that, the data was transformed such that we get the count of each crime type for each neighbourhood."
      ]
    },
    {
      "cell_type": "code",
      "metadata": {
        "colab": {
          "base_uri": "https://localhost:8080/"
        },
        "id": "QZQ86ZpDImL3",
        "outputId": "50cc153a-e965-4e32-95b4-0f969c4f156b"
      },
      "source": [
        "from google.colab import drive\n",
        "drive.mount('/content/drive')"
      ],
      "execution_count": null,
      "outputs": [
        {
          "output_type": "stream",
          "text": [
            "Drive already mounted at /content/drive; to attempt to forcibly remount, call drive.mount(\"/content/drive\", force_remount=True).\n"
          ],
          "name": "stdout"
        }
      ]
    },
    {
      "cell_type": "markdown",
      "metadata": {
        "id": "_sGQJSid3fLx"
      },
      "source": [
        "## Data Cleaning and Transformation\n",
        "\n"
      ]
    },
    {
      "cell_type": "markdown",
      "metadata": {
        "id": "iU_4kulS373T"
      },
      "source": [
        "> Description: The data is the count of different types of crimes committed againts each corresponding neighbourhood, along with the respective Latitude and Longitude values\n",
        "\n"
      ]
    },
    {
      "cell_type": "code",
      "metadata": {
        "id": "sQ_4lXlOm1U1",
        "colab": {
          "base_uri": "https://localhost:8080/",
          "height": 1000
        },
        "outputId": "7ef5546e-d492-4742-d24a-62d787ed99fd"
      },
      "source": [
        "#Upload the dataset file to your drive and then put it's entire path below\n",
        "#You can get the Vancouver Crime Dataset from the following link: https://drive.google.com/file/d/1HkQqxdTbPgHO15OzqlWgyUFnrz5F_Mh3/view?usp=sharing\n",
        "\n",
        "import pandas as pd\n",
        "df=pd.read_csv('/content/drive/My Drive/Colab Notebooks Datasets/Neighbourhood Crime Data.csv')\n",
        "df.head(df.shape[0])"
      ],
      "execution_count": null,
      "outputs": [
        {
          "output_type": "execute_result",
          "data": {
            "text/html": [
              "<div>\n",
              "<style scoped>\n",
              "    .dataframe tbody tr th:only-of-type {\n",
              "        vertical-align: middle;\n",
              "    }\n",
              "\n",
              "    .dataframe tbody tr th {\n",
              "        vertical-align: top;\n",
              "    }\n",
              "\n",
              "    .dataframe thead th {\n",
              "        text-align: right;\n",
              "    }\n",
              "</style>\n",
              "<table border=\"1\" class=\"dataframe\">\n",
              "  <thead>\n",
              "    <tr style=\"text-align: right;\">\n",
              "      <th></th>\n",
              "      <th>Neighbourhood</th>\n",
              "      <th>Break and Enter Commercial</th>\n",
              "      <th>Break and Enter Residential/Other</th>\n",
              "      <th>Mischief</th>\n",
              "      <th>Other Theft</th>\n",
              "      <th>Theft from Vehicle</th>\n",
              "      <th>Theft of Bicycle</th>\n",
              "      <th>Theft of Vehicle</th>\n",
              "      <th>Vehicle Collision or Pedestrian Struck (with Fatality)</th>\n",
              "      <th>Vehicle Collision or Pedestrian Struck (with Injury)</th>\n",
              "      <th>Grand Total</th>\n",
              "      <th>Lat-Long</th>\n",
              "      <th>X</th>\n",
              "      <th>Y</th>\n",
              "    </tr>\n",
              "  </thead>\n",
              "  <tbody>\n",
              "    <tr>\n",
              "      <th>0</th>\n",
              "      <td>Arbutus Ridge</td>\n",
              "      <td>325</td>\n",
              "      <td>1672</td>\n",
              "      <td>934</td>\n",
              "      <td>337</td>\n",
              "      <td>1852</td>\n",
              "      <td>160</td>\n",
              "      <td>498</td>\n",
              "      <td>3</td>\n",
              "      <td>285</td>\n",
              "      <td>6066</td>\n",
              "      <td>(49.25484525,-123.160674)</td>\n",
              "      <td>488319.9640</td>\n",
              "      <td>5454695.008</td>\n",
              "    </tr>\n",
              "    <tr>\n",
              "      <th>1</th>\n",
              "      <td>Central Business District</td>\n",
              "      <td>9371</td>\n",
              "      <td>3505</td>\n",
              "      <td>16672</td>\n",
              "      <td>19244</td>\n",
              "      <td>48003</td>\n",
              "      <td>6907</td>\n",
              "      <td>4016</td>\n",
              "      <td>41</td>\n",
              "      <td>3188</td>\n",
              "      <td>110947</td>\n",
              "      <td>(49.2857901,-123.115764)</td>\n",
              "      <td>491566.1638</td>\n",
              "      <td>5458706.223</td>\n",
              "    </tr>\n",
              "    <tr>\n",
              "      <th>2</th>\n",
              "      <td>Dunbar-Southlands</td>\n",
              "      <td>294</td>\n",
              "      <td>1847</td>\n",
              "      <td>1324</td>\n",
              "      <td>241</td>\n",
              "      <td>2899</td>\n",
              "      <td>240</td>\n",
              "      <td>629</td>\n",
              "      <td>3</td>\n",
              "      <td>269</td>\n",
              "      <td>7746</td>\n",
              "      <td>(49.25062249,-123.1852799)</td>\n",
              "      <td>486561.3973</td>\n",
              "      <td>5454681.789</td>\n",
              "    </tr>\n",
              "    <tr>\n",
              "      <th>3</th>\n",
              "      <td>Fairview</td>\n",
              "      <td>3303</td>\n",
              "      <td>3834</td>\n",
              "      <td>3196</td>\n",
              "      <td>3269</td>\n",
              "      <td>11934</td>\n",
              "      <td>3394</td>\n",
              "      <td>2037</td>\n",
              "      <td>14</td>\n",
              "      <td>1180</td>\n",
              "      <td>32161</td>\n",
              "      <td>(49.26736012,-123.1292449)</td>\n",
              "      <td>490561.1254</td>\n",
              "      <td>5456813.337</td>\n",
              "    </tr>\n",
              "    <tr>\n",
              "      <th>4</th>\n",
              "      <td>Grandview-Woodland</td>\n",
              "      <td>2082</td>\n",
              "      <td>4515</td>\n",
              "      <td>4970</td>\n",
              "      <td>2508</td>\n",
              "      <td>7342</td>\n",
              "      <td>1403</td>\n",
              "      <td>3111</td>\n",
              "      <td>9</td>\n",
              "      <td>1240</td>\n",
              "      <td>27180</td>\n",
              "      <td>(49.27475329,-123.0673365)</td>\n",
              "      <td>495098.3049</td>\n",
              "      <td>5458046.768</td>\n",
              "    </tr>\n",
              "    <tr>\n",
              "      <th>5</th>\n",
              "      <td>Hastings-Sunrise</td>\n",
              "      <td>929</td>\n",
              "      <td>3199</td>\n",
              "      <td>2904</td>\n",
              "      <td>1379</td>\n",
              "      <td>5654</td>\n",
              "      <td>321</td>\n",
              "      <td>2452</td>\n",
              "      <td>18</td>\n",
              "      <td>1270</td>\n",
              "      <td>18126</td>\n",
              "      <td>(49.27633928,-123.0427116)</td>\n",
              "      <td>496899.7762</td>\n",
              "      <td>5458151.929</td>\n",
              "    </tr>\n",
              "    <tr>\n",
              "      <th>6</th>\n",
              "      <td>Kensington-Cedar Cottage</td>\n",
              "      <td>1277</td>\n",
              "      <td>4136</td>\n",
              "      <td>3760</td>\n",
              "      <td>2961</td>\n",
              "      <td>7474</td>\n",
              "      <td>859</td>\n",
              "      <td>2919</td>\n",
              "      <td>11</td>\n",
              "      <td>1544</td>\n",
              "      <td>24941</td>\n",
              "      <td>(49.24632019,-123.0740992)</td>\n",
              "      <td>494719.1472</td>\n",
              "      <td>5455099.663</td>\n",
              "    </tr>\n",
              "    <tr>\n",
              "      <th>7</th>\n",
              "      <td>Kerrisdale</td>\n",
              "      <td>326</td>\n",
              "      <td>1826</td>\n",
              "      <td>1049</td>\n",
              "      <td>265</td>\n",
              "      <td>2805</td>\n",
              "      <td>179</td>\n",
              "      <td>547</td>\n",
              "      <td>7</td>\n",
              "      <td>443</td>\n",
              "      <td>7447</td>\n",
              "      <td>(49.23550641,-123.1556061)</td>\n",
              "      <td>488392.0172</td>\n",
              "      <td>5452821.073</td>\n",
              "    </tr>\n",
              "    <tr>\n",
              "      <th>8</th>\n",
              "      <td>Killarney</td>\n",
              "      <td>302</td>\n",
              "      <td>2130</td>\n",
              "      <td>1761</td>\n",
              "      <td>245</td>\n",
              "      <td>3990</td>\n",
              "      <td>163</td>\n",
              "      <td>1302</td>\n",
              "      <td>12</td>\n",
              "      <td>570</td>\n",
              "      <td>10475</td>\n",
              "      <td>(49.22129651,-123.0385735)</td>\n",
              "      <td>497319.8795</td>\n",
              "      <td>5451989.922</td>\n",
              "    </tr>\n",
              "    <tr>\n",
              "      <th>9</th>\n",
              "      <td>Kitsilano</td>\n",
              "      <td>2092</td>\n",
              "      <td>4390</td>\n",
              "      <td>3692</td>\n",
              "      <td>1730</td>\n",
              "      <td>8912</td>\n",
              "      <td>2464</td>\n",
              "      <td>2366</td>\n",
              "      <td>13</td>\n",
              "      <td>1040</td>\n",
              "      <td>26699</td>\n",
              "      <td>(49.26597507,-123.16554)</td>\n",
              "      <td>488285.7883</td>\n",
              "      <td>5457107.754</td>\n",
              "    </tr>\n",
              "    <tr>\n",
              "      <th>10</th>\n",
              "      <td>Marpole</td>\n",
              "      <td>1098</td>\n",
              "      <td>2527</td>\n",
              "      <td>1905</td>\n",
              "      <td>612</td>\n",
              "      <td>4151</td>\n",
              "      <td>232</td>\n",
              "      <td>1617</td>\n",
              "      <td>10</td>\n",
              "      <td>931</td>\n",
              "      <td>13083</td>\n",
              "      <td>(49.21087024,-123.12959)</td>\n",
              "      <td>490529.5502</td>\n",
              "      <td>5450811.310</td>\n",
              "    </tr>\n",
              "    <tr>\n",
              "      <th>11</th>\n",
              "      <td>Mount Pleasant</td>\n",
              "      <td>2769</td>\n",
              "      <td>3278</td>\n",
              "      <td>4070</td>\n",
              "      <td>3698</td>\n",
              "      <td>9679</td>\n",
              "      <td>2746</td>\n",
              "      <td>2654</td>\n",
              "      <td>18</td>\n",
              "      <td>1624</td>\n",
              "      <td>30536</td>\n",
              "      <td>(49.26277566,-123.1016082)</td>\n",
              "      <td>492765.0779</td>\n",
              "      <td>5456742.910</td>\n",
              "    </tr>\n",
              "    <tr>\n",
              "      <th>12</th>\n",
              "      <td>Musqueam</td>\n",
              "      <td>17</td>\n",
              "      <td>86</td>\n",
              "      <td>104</td>\n",
              "      <td>1</td>\n",
              "      <td>217</td>\n",
              "      <td>7</td>\n",
              "      <td>40</td>\n",
              "      <td>1</td>\n",
              "      <td>59</td>\n",
              "      <td>532</td>\n",
              "      <td>(49.23292287,-123.202673)</td>\n",
              "      <td>485639.0352</td>\n",
              "      <td>5453043.099</td>\n",
              "    </tr>\n",
              "    <tr>\n",
              "      <th>13</th>\n",
              "      <td>Oakridge</td>\n",
              "      <td>332</td>\n",
              "      <td>2089</td>\n",
              "      <td>889</td>\n",
              "      <td>1176</td>\n",
              "      <td>2290</td>\n",
              "      <td>172</td>\n",
              "      <td>669</td>\n",
              "      <td>6</td>\n",
              "      <td>414</td>\n",
              "      <td>8037</td>\n",
              "      <td>(49.22597502,-123.1166219)</td>\n",
              "      <td>491143.8080</td>\n",
              "      <td>5452913.977</td>\n",
              "    </tr>\n",
              "    <tr>\n",
              "      <th>14</th>\n",
              "      <td>Renfrew-Collingwood</td>\n",
              "      <td>1197</td>\n",
              "      <td>4296</td>\n",
              "      <td>3886</td>\n",
              "      <td>4119</td>\n",
              "      <td>8420</td>\n",
              "      <td>419</td>\n",
              "      <td>3011</td>\n",
              "      <td>12</td>\n",
              "      <td>1401</td>\n",
              "      <td>26761</td>\n",
              "      <td>(49.24482683,-123.0430743)</td>\n",
              "      <td>497198.4343</td>\n",
              "      <td>5454810.862</td>\n",
              "    </tr>\n",
              "    <tr>\n",
              "      <th>15</th>\n",
              "      <td>Riley Park</td>\n",
              "      <td>848</td>\n",
              "      <td>2706</td>\n",
              "      <td>1795</td>\n",
              "      <td>410</td>\n",
              "      <td>4269</td>\n",
              "      <td>621</td>\n",
              "      <td>1197</td>\n",
              "      <td>4</td>\n",
              "      <td>671</td>\n",
              "      <td>12521</td>\n",
              "      <td>(49.24082278,-123.1016128)</td>\n",
              "      <td>492503.3974</td>\n",
              "      <td>5454978.044</td>\n",
              "    </tr>\n",
              "    <tr>\n",
              "      <th>16</th>\n",
              "      <td>Shaughnessy</td>\n",
              "      <td>129</td>\n",
              "      <td>1774</td>\n",
              "      <td>633</td>\n",
              "      <td>25</td>\n",
              "      <td>1769</td>\n",
              "      <td>139</td>\n",
              "      <td>371</td>\n",
              "      <td>7</td>\n",
              "      <td>579</td>\n",
              "      <td>5426</td>\n",
              "      <td>(49.24652249,-123.1413935)</td>\n",
              "      <td>489874.6007</td>\n",
              "      <td>5454817.907</td>\n",
              "    </tr>\n",
              "    <tr>\n",
              "      <th>17</th>\n",
              "      <td>South Cambie</td>\n",
              "      <td>314</td>\n",
              "      <td>1109</td>\n",
              "      <td>606</td>\n",
              "      <td>759</td>\n",
              "      <td>1529</td>\n",
              "      <td>221</td>\n",
              "      <td>435</td>\n",
              "      <td>2</td>\n",
              "      <td>237</td>\n",
              "      <td>5212</td>\n",
              "      <td>(49.24518588,-123.1219242)</td>\n",
              "      <td>491194.8738</td>\n",
              "      <td>5454991.488</td>\n",
              "    </tr>\n",
              "    <tr>\n",
              "      <th>18</th>\n",
              "      <td>Stanley Park</td>\n",
              "      <td>72</td>\n",
              "      <td>65</td>\n",
              "      <td>246</td>\n",
              "      <td>13</td>\n",
              "      <td>2868</td>\n",
              "      <td>214</td>\n",
              "      <td>74</td>\n",
              "      <td>6</td>\n",
              "      <td>217</td>\n",
              "      <td>3775</td>\n",
              "      <td>(49.30441928,-123.144338)</td>\n",
              "      <td>490092.3500</td>\n",
              "      <td>5460895.915</td>\n",
              "    </tr>\n",
              "    <tr>\n",
              "      <th>19</th>\n",
              "      <td>Strathcona</td>\n",
              "      <td>2168</td>\n",
              "      <td>2019</td>\n",
              "      <td>4556</td>\n",
              "      <td>994</td>\n",
              "      <td>7343</td>\n",
              "      <td>1015</td>\n",
              "      <td>1650</td>\n",
              "      <td>20</td>\n",
              "      <td>1154</td>\n",
              "      <td>20919</td>\n",
              "      <td>(49.27650815,-123.0871548)</td>\n",
              "      <td>493296.7967</td>\n",
              "      <td>5458468.860</td>\n",
              "    </tr>\n",
              "    <tr>\n",
              "      <th>20</th>\n",
              "      <td>Sunset</td>\n",
              "      <td>1105</td>\n",
              "      <td>2578</td>\n",
              "      <td>3243</td>\n",
              "      <td>1401</td>\n",
              "      <td>5226</td>\n",
              "      <td>255</td>\n",
              "      <td>2275</td>\n",
              "      <td>17</td>\n",
              "      <td>1296</td>\n",
              "      <td>17396</td>\n",
              "      <td>(49.21833823,-123.092094)</td>\n",
              "      <td>493273.6908</td>\n",
              "      <td>5451914.585</td>\n",
              "    </tr>\n",
              "    <tr>\n",
              "      <th>21</th>\n",
              "      <td>Victoria-Fraserview</td>\n",
              "      <td>386</td>\n",
              "      <td>2499</td>\n",
              "      <td>1761</td>\n",
              "      <td>483</td>\n",
              "      <td>3390</td>\n",
              "      <td>132</td>\n",
              "      <td>1372</td>\n",
              "      <td>10</td>\n",
              "      <td>786</td>\n",
              "      <td>10819</td>\n",
              "      <td>(49.21859145,-123.0661391)</td>\n",
              "      <td>495260.6875</td>\n",
              "      <td>5452077.113</td>\n",
              "    </tr>\n",
              "    <tr>\n",
              "      <th>22</th>\n",
              "      <td>West End</td>\n",
              "      <td>2775</td>\n",
              "      <td>3480</td>\n",
              "      <td>5325</td>\n",
              "      <td>6033</td>\n",
              "      <td>16904</td>\n",
              "      <td>2985</td>\n",
              "      <td>2660</td>\n",
              "      <td>6</td>\n",
              "      <td>1184</td>\n",
              "      <td>41352</td>\n",
              "      <td>(49.29006843,-123.1360318)</td>\n",
              "      <td>490377.1554</td>\n",
              "      <td>5459175.692</td>\n",
              "    </tr>\n",
              "    <tr>\n",
              "      <th>23</th>\n",
              "      <td>West Point Grey</td>\n",
              "      <td>331</td>\n",
              "      <td>1299</td>\n",
              "      <td>879</td>\n",
              "      <td>260</td>\n",
              "      <td>1971</td>\n",
              "      <td>372</td>\n",
              "      <td>450</td>\n",
              "      <td>4</td>\n",
              "      <td>305</td>\n",
              "      <td>5871</td>\n",
              "      <td>(49.26096227,-123.2019571)</td>\n",
              "      <td>485434.8964</td>\n",
              "      <td>5456947.975</td>\n",
              "    </tr>\n",
              "  </tbody>\n",
              "</table>\n",
              "</div>"
            ],
            "text/plain": [
              "                Neighbourhood  ...            Y\n",
              "0               Arbutus Ridge  ...  5454695.008\n",
              "1   Central Business District  ...  5458706.223\n",
              "2           Dunbar-Southlands  ...  5454681.789\n",
              "3                    Fairview  ...  5456813.337\n",
              "4          Grandview-Woodland  ...  5458046.768\n",
              "5            Hastings-Sunrise  ...  5458151.929\n",
              "6    Kensington-Cedar Cottage  ...  5455099.663\n",
              "7                  Kerrisdale  ...  5452821.073\n",
              "8                   Killarney  ...  5451989.922\n",
              "9                   Kitsilano  ...  5457107.754\n",
              "10                    Marpole  ...  5450811.310\n",
              "11             Mount Pleasant  ...  5456742.910\n",
              "12                   Musqueam  ...  5453043.099\n",
              "13                   Oakridge  ...  5452913.977\n",
              "14        Renfrew-Collingwood  ...  5454810.862\n",
              "15                 Riley Park  ...  5454978.044\n",
              "16                Shaughnessy  ...  5454817.907\n",
              "17               South Cambie  ...  5454991.488\n",
              "18               Stanley Park  ...  5460895.915\n",
              "19                 Strathcona  ...  5458468.860\n",
              "20                     Sunset  ...  5451914.585\n",
              "21        Victoria-Fraserview  ...  5452077.113\n",
              "22                   West End  ...  5459175.692\n",
              "23            West Point Grey  ...  5456947.975\n",
              "\n",
              "[24 rows x 14 columns]"
            ]
          },
          "metadata": {
            "tags": []
          },
          "execution_count": 100
        }
      ]
    },
    {
      "cell_type": "markdown",
      "metadata": {
        "id": "ztA043cY4q0z"
      },
      "source": [
        "\n",
        "\n",
        "> Creating a copy of the dataframe for later use\n",
        "\n"
      ]
    },
    {
      "cell_type": "code",
      "metadata": {
        "id": "eKILGqg39Y80"
      },
      "source": [
        "dfc=df.copy()"
      ],
      "execution_count": null,
      "outputs": []
    },
    {
      "cell_type": "markdown",
      "metadata": {
        "id": "V0lPQQ3H5B2O"
      },
      "source": [
        "\n",
        "\n",
        "> Using Descriptive Statistics to create a summary of all the features\n",
        "\n"
      ]
    },
    {
      "cell_type": "code",
      "metadata": {
        "id": "8fL6tYIPLMpN",
        "colab": {
          "base_uri": "https://localhost:8080/",
          "height": 418
        },
        "outputId": "787d61cb-9167-476b-cc79-c2a25730505f"
      },
      "source": [
        "df.describe()"
      ],
      "execution_count": null,
      "outputs": [
        {
          "output_type": "execute_result",
          "data": {
            "text/html": [
              "<div>\n",
              "<style scoped>\n",
              "    .dataframe tbody tr th:only-of-type {\n",
              "        vertical-align: middle;\n",
              "    }\n",
              "\n",
              "    .dataframe tbody tr th {\n",
              "        vertical-align: top;\n",
              "    }\n",
              "\n",
              "    .dataframe thead th {\n",
              "        text-align: right;\n",
              "    }\n",
              "</style>\n",
              "<table border=\"1\" class=\"dataframe\">\n",
              "  <thead>\n",
              "    <tr style=\"text-align: right;\">\n",
              "      <th></th>\n",
              "      <th>Break and Enter Commercial</th>\n",
              "      <th>Break and Enter Residential/Other</th>\n",
              "      <th>Mischief</th>\n",
              "      <th>Other Theft</th>\n",
              "      <th>Theft from Vehicle</th>\n",
              "      <th>Theft of Bicycle</th>\n",
              "      <th>Theft of Vehicle</th>\n",
              "      <th>Vehicle Collision or Pedestrian Struck (with Fatality)</th>\n",
              "      <th>Vehicle Collision or Pedestrian Struck (with Injury)</th>\n",
              "      <th>Grand Total</th>\n",
              "      <th>X</th>\n",
              "      <th>Y</th>\n",
              "    </tr>\n",
              "  </thead>\n",
              "  <tbody>\n",
              "    <tr>\n",
              "      <th>count</th>\n",
              "      <td>24.000000</td>\n",
              "      <td>24.000000</td>\n",
              "      <td>24.000000</td>\n",
              "      <td>24.000000</td>\n",
              "      <td>24.000000</td>\n",
              "      <td>24.00000</td>\n",
              "      <td>24.000000</td>\n",
              "      <td>24.000000</td>\n",
              "      <td>24.000000</td>\n",
              "      <td>24.000000</td>\n",
              "      <td>24.000000</td>\n",
              "      <td>2.400000e+01</td>\n",
              "    </tr>\n",
              "    <tr>\n",
              "      <th>mean</th>\n",
              "      <td>1410.083333</td>\n",
              "      <td>2535.791667</td>\n",
              "      <td>2923.333333</td>\n",
              "      <td>2173.458333</td>\n",
              "      <td>7120.458333</td>\n",
              "      <td>1067.50000</td>\n",
              "      <td>1598.000000</td>\n",
              "      <td>10.583333</td>\n",
              "      <td>911.958333</td>\n",
              "      <td>19751.166667</td>\n",
              "      <td>491512.829921</td>\n",
              "      <td>5.455446e+06</td>\n",
              "    </tr>\n",
              "    <tr>\n",
              "      <th>std</th>\n",
              "      <td>1953.104016</td>\n",
              "      <td>1253.885057</td>\n",
              "      <td>3326.105330</td>\n",
              "      <td>3960.075164</td>\n",
              "      <td>9528.074649</td>\n",
              "      <td>1606.50022</td>\n",
              "      <td>1131.289683</td>\n",
              "      <td>8.459194</td>\n",
              "      <td>676.983301</td>\n",
              "      <td>22223.313483</td>\n",
              "      <td>3460.920135</td>\n",
              "      <td>2.677164e+03</td>\n",
              "    </tr>\n",
              "    <tr>\n",
              "      <th>min</th>\n",
              "      <td>17.000000</td>\n",
              "      <td>65.000000</td>\n",
              "      <td>104.000000</td>\n",
              "      <td>1.000000</td>\n",
              "      <td>217.000000</td>\n",
              "      <td>7.00000</td>\n",
              "      <td>40.000000</td>\n",
              "      <td>1.000000</td>\n",
              "      <td>59.000000</td>\n",
              "      <td>532.000000</td>\n",
              "      <td>485434.896400</td>\n",
              "      <td>5.450811e+06</td>\n",
              "    </tr>\n",
              "    <tr>\n",
              "      <th>25%</th>\n",
              "      <td>322.250000</td>\n",
              "      <td>1813.000000</td>\n",
              "      <td>922.750000</td>\n",
              "      <td>263.750000</td>\n",
              "      <td>2676.250000</td>\n",
              "      <td>177.25000</td>\n",
              "      <td>534.750000</td>\n",
              "      <td>5.500000</td>\n",
              "      <td>386.750000</td>\n",
              "      <td>7101.750000</td>\n",
              "      <td>489503.954825</td>\n",
              "      <td>5.453011e+06</td>\n",
              "    </tr>\n",
              "    <tr>\n",
              "      <th>50%</th>\n",
              "      <td>888.500000</td>\n",
              "      <td>2513.000000</td>\n",
              "      <td>1850.000000</td>\n",
              "      <td>876.500000</td>\n",
              "      <td>4210.000000</td>\n",
              "      <td>288.00000</td>\n",
              "      <td>1494.500000</td>\n",
              "      <td>9.500000</td>\n",
              "      <td>858.500000</td>\n",
              "      <td>12802.000000</td>\n",
              "      <td>491169.340900</td>\n",
              "      <td>5.454985e+06</td>\n",
              "    </tr>\n",
              "    <tr>\n",
              "      <th>75%</th>\n",
              "      <td>2084.500000</td>\n",
              "      <td>3486.250000</td>\n",
              "      <td>3791.500000</td>\n",
              "      <td>2621.250000</td>\n",
              "      <td>7710.500000</td>\n",
              "      <td>1112.00000</td>\n",
              "      <td>2502.500000</td>\n",
              "      <td>13.250000</td>\n",
              "      <td>1247.500000</td>\n",
              "      <td>26714.500000</td>\n",
              "      <td>493652.384325</td>\n",
              "      <td>5.457343e+06</td>\n",
              "    </tr>\n",
              "    <tr>\n",
              "      <th>max</th>\n",
              "      <td>9371.000000</td>\n",
              "      <td>4515.000000</td>\n",
              "      <td>16672.000000</td>\n",
              "      <td>19244.000000</td>\n",
              "      <td>48003.000000</td>\n",
              "      <td>6907.00000</td>\n",
              "      <td>4016.000000</td>\n",
              "      <td>41.000000</td>\n",
              "      <td>3188.000000</td>\n",
              "      <td>110947.000000</td>\n",
              "      <td>497319.879500</td>\n",
              "      <td>5.460896e+06</td>\n",
              "    </tr>\n",
              "  </tbody>\n",
              "</table>\n",
              "</div>"
            ],
            "text/plain": [
              "       Break and Enter Commercial  ...             Y\n",
              "count                   24.000000  ...  2.400000e+01\n",
              "mean                  1410.083333  ...  5.455446e+06\n",
              "std                   1953.104016  ...  2.677164e+03\n",
              "min                     17.000000  ...  5.450811e+06\n",
              "25%                    322.250000  ...  5.453011e+06\n",
              "50%                    888.500000  ...  5.454985e+06\n",
              "75%                   2084.500000  ...  5.457343e+06\n",
              "max                   9371.000000  ...  5.460896e+06\n",
              "\n",
              "[8 rows x 12 columns]"
            ]
          },
          "metadata": {
            "tags": []
          },
          "execution_count": 102
        }
      ]
    },
    {
      "cell_type": "markdown",
      "metadata": {
        "id": "IRBKB3LF5QW4"
      },
      "source": [
        "> **Normalization of data**: The range of mean and standard deviation feature varies between different features. Also the mean values of some of them significantly differs from others. This different range of data among features may bias the result in case of clustering algorithms, in our case Euclidean Distance to calculate distance between points. So we will first normalize them all between 0 and 1 using MinMaxScaling().\n",
        "\n"
      ]
    },
    {
      "cell_type": "markdown",
      "metadata": {
        "id": "cjnS_8fL5nsL"
      },
      "source": [
        "\n",
        "\n",
        "> Dropping the features that won't be included in clustering\n",
        "\n"
      ]
    },
    {
      "cell_type": "code",
      "metadata": {
        "colab": {
          "base_uri": "https://localhost:8080/"
        },
        "id": "UPZNfNUiLgnu",
        "outputId": "c32ad66c-e3b3-4748-c2f7-bdc563c2af2a"
      },
      "source": [
        "df = df.drop(['Grand Total','Lat-Long', 'X', 'Y'], axis = 1)\n",
        "# dfc = dfc.drop(['Grand Total','Lat-Long', 'X', 'Y'], axis = 1)\n",
        "df.columns"
      ],
      "execution_count": null,
      "outputs": [
        {
          "output_type": "execute_result",
          "data": {
            "text/plain": [
              "Index(['Neighbourhood', 'Break and Enter Commercial',\n",
              "       'Break and Enter Residential/Other', 'Mischief', 'Other Theft',\n",
              "       'Theft from Vehicle', 'Theft of Bicycle', 'Theft of Vehicle',\n",
              "       'Vehicle Collision or Pedestrian Struck (with Fatality)',\n",
              "       'Vehicle Collision or Pedestrian Struck (with Injury)'],\n",
              "      dtype='object')"
            ]
          },
          "metadata": {
            "tags": []
          },
          "execution_count": 103
        }
      ]
    },
    {
      "cell_type": "code",
      "metadata": {
        "id": "_INsM_oa9B38"
      },
      "source": [
        "# Normalization of features\n",
        "from sklearn.preprocessing import MinMaxScaler\n",
        "mx = MinMaxScaler()\n",
        "df[['Break and Enter Commercial','Break and Enter Residential/Other','Mischief','Other Theft','Theft from Vehicle','Theft of Bicycle', 'Theft of Vehicle', 'Vehicle Collision or Pedestrian Struck (with Fatality)', 'Vehicle Collision or Pedestrian Struck (with Injury)']] = pd.DataFrame(mx.fit_transform(df.drop('Neighbourhood',axis=1)))"
      ],
      "execution_count": null,
      "outputs": []
    },
    {
      "cell_type": "code",
      "metadata": {
        "colab": {
          "base_uri": "https://localhost:8080/",
          "height": 306
        },
        "id": "SysJIyuhwMUx",
        "outputId": "7ce94d6d-9d88-4e81-c1e0-d49618050e3e"
      },
      "source": [
        "# Data after Normalization\n",
        "df.head()"
      ],
      "execution_count": null,
      "outputs": [
        {
          "output_type": "execute_result",
          "data": {
            "text/html": [
              "<div>\n",
              "<style scoped>\n",
              "    .dataframe tbody tr th:only-of-type {\n",
              "        vertical-align: middle;\n",
              "    }\n",
              "\n",
              "    .dataframe tbody tr th {\n",
              "        vertical-align: top;\n",
              "    }\n",
              "\n",
              "    .dataframe thead th {\n",
              "        text-align: right;\n",
              "    }\n",
              "</style>\n",
              "<table border=\"1\" class=\"dataframe\">\n",
              "  <thead>\n",
              "    <tr style=\"text-align: right;\">\n",
              "      <th></th>\n",
              "      <th>Neighbourhood</th>\n",
              "      <th>Break and Enter Commercial</th>\n",
              "      <th>Break and Enter Residential/Other</th>\n",
              "      <th>Mischief</th>\n",
              "      <th>Other Theft</th>\n",
              "      <th>Theft from Vehicle</th>\n",
              "      <th>Theft of Bicycle</th>\n",
              "      <th>Theft of Vehicle</th>\n",
              "      <th>Vehicle Collision or Pedestrian Struck (with Fatality)</th>\n",
              "      <th>Vehicle Collision or Pedestrian Struck (with Injury)</th>\n",
              "    </tr>\n",
              "  </thead>\n",
              "  <tbody>\n",
              "    <tr>\n",
              "      <th>0</th>\n",
              "      <td>Arbutus Ridge</td>\n",
              "      <td>0.032927</td>\n",
              "      <td>0.361124</td>\n",
              "      <td>0.050097</td>\n",
              "      <td>0.017461</td>\n",
              "      <td>0.034215</td>\n",
              "      <td>0.022174</td>\n",
              "      <td>0.115191</td>\n",
              "      <td>0.050</td>\n",
              "      <td>0.072228</td>\n",
              "    </tr>\n",
              "    <tr>\n",
              "      <th>1</th>\n",
              "      <td>Central Business District</td>\n",
              "      <td>1.000000</td>\n",
              "      <td>0.773034</td>\n",
              "      <td>1.000000</td>\n",
              "      <td>1.000000</td>\n",
              "      <td>1.000000</td>\n",
              "      <td>1.000000</td>\n",
              "      <td>1.000000</td>\n",
              "      <td>1.000</td>\n",
              "      <td>1.000000</td>\n",
              "    </tr>\n",
              "    <tr>\n",
              "      <th>2</th>\n",
              "      <td>Dunbar-Southlands</td>\n",
              "      <td>0.029613</td>\n",
              "      <td>0.400449</td>\n",
              "      <td>0.073636</td>\n",
              "      <td>0.012472</td>\n",
              "      <td>0.056125</td>\n",
              "      <td>0.033768</td>\n",
              "      <td>0.148139</td>\n",
              "      <td>0.050</td>\n",
              "      <td>0.067114</td>\n",
              "    </tr>\n",
              "    <tr>\n",
              "      <th>3</th>\n",
              "      <td>Fairview</td>\n",
              "      <td>0.351294</td>\n",
              "      <td>0.846966</td>\n",
              "      <td>0.186625</td>\n",
              "      <td>0.169828</td>\n",
              "      <td>0.245197</td>\n",
              "      <td>0.490870</td>\n",
              "      <td>0.502264</td>\n",
              "      <td>0.325</td>\n",
              "      <td>0.358261</td>\n",
              "    </tr>\n",
              "    <tr>\n",
              "      <th>4</th>\n",
              "      <td>Grandview-Woodland</td>\n",
              "      <td>0.220761</td>\n",
              "      <td>1.000000</td>\n",
              "      <td>0.293699</td>\n",
              "      <td>0.130281</td>\n",
              "      <td>0.149102</td>\n",
              "      <td>0.202319</td>\n",
              "      <td>0.772384</td>\n",
              "      <td>0.200</td>\n",
              "      <td>0.377437</td>\n",
              "    </tr>\n",
              "  </tbody>\n",
              "</table>\n",
              "</div>"
            ],
            "text/plain": [
              "               Neighbourhood  ...  Vehicle Collision or Pedestrian Struck (with Injury)\n",
              "0              Arbutus Ridge  ...                                           0.072228   \n",
              "1  Central Business District  ...                                           1.000000   \n",
              "2          Dunbar-Southlands  ...                                           0.067114   \n",
              "3                   Fairview  ...                                           0.358261   \n",
              "4         Grandview-Woodland  ...                                           0.377437   \n",
              "\n",
              "[5 rows x 10 columns]"
            ]
          },
          "metadata": {
            "tags": []
          },
          "execution_count": 105
        }
      ]
    },
    {
      "cell_type": "markdown",
      "metadata": {
        "id": "-fUWHs0u6vOK"
      },
      "source": [
        "## Determining the right number of clusters"
      ]
    },
    {
      "cell_type": "markdown",
      "metadata": {
        "id": "hYc3Ey5TM-Fr"
      },
      "source": [
        "> We don't know the number of clusters beforehand and neither can we assume them. We will determine it in case of KMeans Clustering algorithm using **Elbow Method**. This is called Elbow Method because we will choose the cluster at that point of the graph from where it stops falling steeply (just like an elbow of hand). It is the point where the WCSS(Within Cluster Sum of Squares) decreases very slowly. \n",
        "\n",
        "> WCSS is the distance between points in a cluster.\n",
        "\n",
        "\n",
        "\n"
      ]
    },
    {
      "cell_type": "code",
      "metadata": {
        "id": "AH17UoNn-Lnl",
        "colab": {
          "base_uri": "https://localhost:8080/",
          "height": 317
        },
        "outputId": "01be1a6a-0960-40a6-c17a-32d39404bc5a"
      },
      "source": [
        "from sklearn.cluster import KMeans\n",
        "import matplotlib.pyplot as plt\n",
        "wcss=[]\n",
        "for i in range(1,10):\n",
        "  kmeans=KMeans(i,random_state=3)\n",
        "  kmeans.fit(df.drop('Neighbourhood',axis=1))\n",
        "  wcss.append(kmeans.inertia_)\n",
        "plt.plot(range(1,10),wcss,'-o')\n",
        "plt.xlabel('No. of clusters')\n",
        "plt.ylabel('WCSS')\n",
        "print(wcss)"
      ],
      "execution_count": null,
      "outputs": [
        {
          "output_type": "stream",
          "text": [
            "[10.858338468230103, 5.46074289950369, 1.8623573622748446, 1.1775174711456946, 0.9169325230485207, 0.677786385170947, 0.44561117168636905, 0.35503266899937647, 0.28020223224417107]\n"
          ],
          "name": "stdout"
        },
        {
          "output_type": "display_data",
          "data": {
            "image/png": "[encoded data removed]",
            "text/plain": [
              "<Figure size 432x288 with 1 Axes>"
            ]
          },
          "metadata": {
            "tags": [],
            "needs_background": "light"
          }
        }
      ]
    },
    {
      "cell_type": "markdown",
      "metadata": {
        "id": "_zqZxwkGyY5B"
      },
      "source": [
        "> From WCSS values and the above shown Plot we can see that 3 or 4 can be the ideal number of clusters.\n",
        "\n",
        "> We will use some metric to choose the ideal number of clusters to remove any confusion\n",
        "\n",
        "\n",
        "\n"
      ]
    },
    {
      "cell_type": "markdown",
      "metadata": {
        "id": "fueUGlmdymbz"
      },
      "source": [
        ">We can use suitable metrics to decide exact number of cluster between 3 and 4. The metrics we will use are:\n",
        "\n",
        ">1. Silhoutte Score- It ranges from -1 to 1. Higher the value better our clusters are. Closer to 1 means perfect clusters. 0 mean the point lies at the border of it's cluster. Negative value means that the point is classified into wrong cluster.\n",
        "\n",
        ">2. Calinski-Harabasz Index denotes how the data points are spread within a cluster. Higher the score, denser is the cluster thus the cluster is better. It starts from 0 and have no upper limit.\n",
        "\n",
        ">3. Davies Boulden Index measures the average similarity between cluster using the ratio of the distance between a cluster and it's closest point & the average distance between each data point of a cluster and it's cluster center.Closer the score is to 0, better our clusters are as it indicates clusters are well separated.\n"
      ]
    },
    {
      "cell_type": "code",
      "metadata": {
        "id": "NL8eQS7wDepo"
      },
      "source": [
        "# Importing the metric libraries\n",
        "from sklearn.metrics import silhouette_score,calinski_harabasz_score,davies_bouldin_score"
      ],
      "execution_count": null,
      "outputs": []
    },
    {
      "cell_type": "markdown",
      "metadata": {
        "id": "3WlSUEmA-1_m"
      },
      "source": [
        "## K-Means Clustering"
      ]
    },
    {
      "cell_type": "code",
      "metadata": {
        "id": "ZAHPItDc-e8u",
        "colab": {
          "base_uri": "https://localhost:8080/"
        },
        "outputId": "203cccc5-5aa0-4e78-88eb-dce45f0dd16a"
      },
      "source": [
        "# Running the Clustering algo through different number of clusters\n",
        "l1 = []\n",
        "l2 = []\n",
        "l3 = []\n",
        "l4 = []\n",
        "\n",
        "for i in (3,4,5):\n",
        "  kmean = KMeans(i,random_state=42)\n",
        "  mod_k = kmean.fit(df.drop('Neighbourhood',axis=1))\n",
        "  pred_k1 = mod_k.predict(df.drop('Neighbourhood',axis=1))\n",
        "  kmean_sil = silhouette_score(df.drop('Neighbourhood',axis=1),pred_k1,metric='euclidean')\n",
        "  kmean_cal = calinski_harabasz_score(df.drop('Neighbourhood',axis=1),pred_k1)\n",
        "  kmean_dav = davies_bouldin_score(df.drop('Neighbourhood',axis=1),pred_k1)\n",
        "  print(i,'\\t','Silhouette Score:' ,kmean_sil,',Calinski Harbasz Score: ',kmean_cal,',Davies Bouldin Score: ',kmean_dav)\n",
        "  l1.append(kmean_sil)\n",
        "  l2.append(kmean_cal)\n",
        "  l3.append(kmean_dav)\n",
        "  l4.append(i)"
      ],
      "execution_count": null,
      "outputs": [
        {
          "output_type": "stream",
          "text": [
            "3 \t Silhouette Score: 0.5101578969232564 ,Calinski Harbasz Score:  50.71948248275578 ,Davies Bouldin Score:  0.4973888249838292\n",
            "4 \t Silhouette Score: 0.4199446848843322 ,Calinski Harbasz Score:  54.809213645411795 ,Davies Bouldin Score:  0.6504019952413668\n",
            "5 \t Silhouette Score: 0.40124402237409024 ,Calinski Harbasz Score:  51.499621894329636 ,Davies Bouldin Score:  0.6423543070999966\n"
          ],
          "name": "stdout"
        }
      ]
    },
    {
      "cell_type": "code",
      "metadata": {
        "id": "hpdUmjC0HfHe",
        "colab": {
          "base_uri": "https://localhost:8080/",
          "height": 141
        },
        "outputId": "b18bd5ab-c1b3-45dd-fb70-eb162cce1827"
      },
      "source": [
        "pd.DataFrame({'Cluster_number':l4,'Silhoutte Score':l1,'Calinski Harabasz Index':l2,'Davies Bouldin Score':l3})"
      ],
      "execution_count": null,
      "outputs": [
        {
          "output_type": "execute_result",
          "data": {
            "text/html": [
              "<div>\n",
              "<style scoped>\n",
              "    .dataframe tbody tr th:only-of-type {\n",
              "        vertical-align: middle;\n",
              "    }\n",
              "\n",
              "    .dataframe tbody tr th {\n",
              "        vertical-align: top;\n",
              "    }\n",
              "\n",
              "    .dataframe thead th {\n",
              "        text-align: right;\n",
              "    }\n",
              "</style>\n",
              "<table border=\"1\" class=\"dataframe\">\n",
              "  <thead>\n",
              "    <tr style=\"text-align: right;\">\n",
              "      <th></th>\n",
              "      <th>Cluster_number</th>\n",
              "      <th>Silhoutte Score</th>\n",
              "      <th>Calinski Harabasz Index</th>\n",
              "      <th>Davies Bouldin Score</th>\n",
              "    </tr>\n",
              "  </thead>\n",
              "  <tbody>\n",
              "    <tr>\n",
              "      <th>0</th>\n",
              "      <td>3</td>\n",
              "      <td>0.510158</td>\n",
              "      <td>50.719482</td>\n",
              "      <td>0.497389</td>\n",
              "    </tr>\n",
              "    <tr>\n",
              "      <th>1</th>\n",
              "      <td>4</td>\n",
              "      <td>0.419945</td>\n",
              "      <td>54.809214</td>\n",
              "      <td>0.650402</td>\n",
              "    </tr>\n",
              "    <tr>\n",
              "      <th>2</th>\n",
              "      <td>5</td>\n",
              "      <td>0.401244</td>\n",
              "      <td>51.499622</td>\n",
              "      <td>0.642354</td>\n",
              "    </tr>\n",
              "  </tbody>\n",
              "</table>\n",
              "</div>"
            ],
            "text/plain": [
              "   Cluster_number  ...  Davies Bouldin Score\n",
              "0               3  ...              0.497389\n",
              "1               4  ...              0.650402\n",
              "2               5  ...              0.642354\n",
              "\n",
              "[3 rows x 4 columns]"
            ]
          },
          "metadata": {
            "tags": []
          },
          "execution_count": 109
        }
      ]
    },
    {
      "cell_type": "markdown",
      "metadata": {
        "id": "6fExURZs4kH8"
      },
      "source": [
        ">As expected from screeplot, 3 has best SilHouette Score and Davies Bouldin Score and second best Calinski Harabasz Score. So 3 number of clusters can be an ideal choice."
      ]
    },
    {
      "cell_type": "markdown",
      "metadata": {
        "id": "93SGusO29ixB"
      },
      "source": [
        ">Let's try performing KMeans Clustering on unnormalized data and check what's happening"
      ]
    },
    {
      "cell_type": "code",
      "metadata": {
        "id": "bnPUVe4vEFJ1",
        "colab": {
          "base_uri": "https://localhost:8080/"
        },
        "outputId": "e9651d6b-6928-4ba9-e793-95f42ab6e539"
      },
      "source": [
        "l1 = []\n",
        "l2 = []\n",
        "l3 = []\n",
        "l4 = []\n",
        "for i in (3,4,5):\n",
        "  kmean = KMeans(i,random_state=42)\n",
        "  mod_k = kmean.fit(dfc.drop(['Neighbourhood', 'Grand Total', 'Lat-Long', 'X', 'Y'], axis=1))\n",
        "  pred_k2 = mod_k.predict(dfc.drop(['Neighbourhood', 'Grand Total', 'Lat-Long', 'X', 'Y'],axis=1))\n",
        "  kmean_sil = silhouette_score(dfc.drop(['Neighbourhood', 'Grand Total', 'Lat-Long', 'X', 'Y'],axis=1),pred_k2,metric='euclidean')\n",
        "  kmean_cal = calinski_harabasz_score(dfc.drop(['Neighbourhood', 'Grand Total', 'Lat-Long', 'X', 'Y'],axis=1),pred_k2)\n",
        "  kmean_dav = davies_bouldin_score(dfc.drop(['Neighbourhood', 'Grand Total', 'Lat-Long', 'X', 'Y'],axis=1),pred_k2)\n",
        "  print(i,'\\t','Silhouette Score:' ,kmean_sil,',Calinski Harbasz Score: ',kmean_cal,',Davies Bouldin Score: ',kmean_dav)\n",
        "  l1.append(kmean_sil)\n",
        "  l2.append(kmean_cal)\n",
        "  l3.append(kmean_dav)\n",
        "  l4.append(i)"
      ],
      "execution_count": null,
      "outputs": [
        {
          "output_type": "stream",
          "text": [
            "3 \t Silhouette Score: 0.5615182129112963 ,Calinski Harbasz Score:  157.57430018530758 ,Davies Bouldin Score:  0.42432829374013403\n",
            "4 \t Silhouette Score: 0.5160667085721896 ,Calinski Harbasz Score:  186.90626281341093 ,Davies Bouldin Score:  0.5087516348784258\n",
            "5 \t Silhouette Score: 0.4139555712232837 ,Calinski Harbasz Score:  201.4172293533278 ,Davies Bouldin Score:  0.45354564662039315\n"
          ],
          "name": "stdout"
        }
      ]
    },
    {
      "cell_type": "code",
      "metadata": {
        "id": "1A2TZ6LfIA1Z",
        "colab": {
          "base_uri": "https://localhost:8080/",
          "height": 141
        },
        "outputId": "c64794ee-8e1f-4983-f29b-d2c3596e239c"
      },
      "source": [
        "pd.DataFrame({'Cluster_number':l4,'Silhoutte Score':l1,'Calinski Harabasz Index':l2,'Davies Bouldin Score':l3})"
      ],
      "execution_count": null,
      "outputs": [
        {
          "output_type": "execute_result",
          "data": {
            "text/html": [
              "<div>\n",
              "<style scoped>\n",
              "    .dataframe tbody tr th:only-of-type {\n",
              "        vertical-align: middle;\n",
              "    }\n",
              "\n",
              "    .dataframe tbody tr th {\n",
              "        vertical-align: top;\n",
              "    }\n",
              "\n",
              "    .dataframe thead th {\n",
              "        text-align: right;\n",
              "    }\n",
              "</style>\n",
              "<table border=\"1\" class=\"dataframe\">\n",
              "  <thead>\n",
              "    <tr style=\"text-align: right;\">\n",
              "      <th></th>\n",
              "      <th>Cluster_number</th>\n",
              "      <th>Silhoutte Score</th>\n",
              "      <th>Calinski Harabasz Index</th>\n",
              "      <th>Davies Bouldin Score</th>\n",
              "    </tr>\n",
              "  </thead>\n",
              "  <tbody>\n",
              "    <tr>\n",
              "      <th>0</th>\n",
              "      <td>3</td>\n",
              "      <td>0.561518</td>\n",
              "      <td>157.574300</td>\n",
              "      <td>0.424328</td>\n",
              "    </tr>\n",
              "    <tr>\n",
              "      <th>1</th>\n",
              "      <td>4</td>\n",
              "      <td>0.516067</td>\n",
              "      <td>186.906263</td>\n",
              "      <td>0.508752</td>\n",
              "    </tr>\n",
              "    <tr>\n",
              "      <th>2</th>\n",
              "      <td>5</td>\n",
              "      <td>0.413956</td>\n",
              "      <td>201.417229</td>\n",
              "      <td>0.453546</td>\n",
              "    </tr>\n",
              "  </tbody>\n",
              "</table>\n",
              "</div>"
            ],
            "text/plain": [
              "   Cluster_number  ...  Davies Bouldin Score\n",
              "0               3  ...              0.424328\n",
              "1               4  ...              0.508752\n",
              "2               5  ...              0.453546\n",
              "\n",
              "[3 rows x 4 columns]"
            ]
          },
          "metadata": {
            "tags": []
          },
          "execution_count": 111
        }
      ]
    },
    {
      "cell_type": "markdown",
      "metadata": {
        "id": "SJXp6DzK5mWE"
      },
      "source": [
        ">We can see that best cluster no. in this case as well is 3."
      ]
    },
    {
      "cell_type": "markdown",
      "metadata": {
        "id": "uxtt5jtE-9q0"
      },
      "source": [
        "## Hierarchical Clustering"
      ]
    },
    {
      "cell_type": "markdown",
      "metadata": {
        "id": "ktJPHus-6LWe"
      },
      "source": [
        "> **Hierarchical Clustering** : Next algorithm that can be used is a Hierarchical Clustering technique called Agglomerative Clustering. It is a bottom-up clustering approach.\n",
        "\n",
        ">The Heirarchical Clustering can be visualized using a dendrogram."
      ]
    },
    {
      "cell_type": "code",
      "metadata": {
        "id": "JY6YfTkqBzzl",
        "colab": {
          "base_uri": "https://localhost:8080/",
          "height": 271
        },
        "outputId": "83979298-d569-4a23-b8df-54d82d08f5d3"
      },
      "source": [
        "from scipy.cluster.hierarchy import dendrogram\n",
        "import scipy.cluster.hierarchy as sch\n",
        "dendrogram=sch.dendrogram(sch.linkage(df.drop('Neighbourhood',axis=1),method='ward'))"
      ],
      "execution_count": null,
      "outputs": [
        {
          "output_type": "display_data",
          "data": {
            "image/png": "[encoded data removed]",
            "text/plain": [
              "<Figure size 432x288 with 1 Axes>"
            ]
          },
          "metadata": {
            "tags": [],
            "needs_background": "light"
          }
        }
      ]
    },
    {
      "cell_type": "markdown",
      "metadata": {
        "id": "3k8SjvmX80vz"
      },
      "source": [
        ">From the dendrogram we can see that the ideal number of clusters for the dataset is 3, the kmeans algorithm also gave the same result. We will again use Silhoutte Score, Calinski Harabarz Index and Davis Bouldin Score to validate this."
      ]
    },
    {
      "cell_type": "code",
      "metadata": {
        "id": "WZ5uJiFiCag9"
      },
      "source": [
        "list1 = ['single','complete','average','ward']"
      ],
      "execution_count": null,
      "outputs": []
    },
    {
      "cell_type": "code",
      "metadata": {
        "id": "vL5_ihwtCp8a",
        "colab": {
          "base_uri": "https://localhost:8080/"
        },
        "outputId": "3171ac19-fb57-4b6a-84cd-cc2fb27f9321"
      },
      "source": [
        "from sklearn.cluster import AgglomerativeClustering\n",
        "l1=[]\n",
        "l2=[]\n",
        "l3=[]\n",
        "l4=[]\n",
        "l5=[]\n",
        "for j in list1:\n",
        "  for i in (3,4,5):\n",
        "    agg_m=AgglomerativeClustering(n_clusters=i,affinity='euclidean',linkage=j)\n",
        "    mod_k=agg_m.fit(df.drop('Neighbourhood',axis=1))\n",
        "    #pred_k=mod_k.predict(df.drop('Neighbourhood',axis=1))\n",
        "    kmean_sil=silhouette_score(df.drop('Neighbourhood',axis=1),agg_m.labels_,metric='euclidean')\n",
        "    kmean_cal=calinski_harabasz_score(df.drop('Neighbourhood',axis=1),agg_m.labels_)\n",
        "    kmean_dav=davies_bouldin_score(df.drop('Neighbourhood',axis=1),agg_m.labels_)\n",
        "    print(i,j)\n",
        "    print(i,'\\t','Silhouette Score:' ,kmean_sil,',Calinski Harbasz Score: ',kmean_cal,',Davies Bouldin Score: ',kmean_dav)\n",
        "    print('---------')\n",
        "    print('\\n')\n",
        "    l1.append(i)\n",
        "    l2.append(j)\n",
        "    l3.append(kmean_sil)\n",
        "    l4.append(kmean_cal)\n",
        "    l5.append(kmean_dav)"
      ],
      "execution_count": null,
      "outputs": [
        {
          "output_type": "stream",
          "text": [
            "3 single\n",
            "3 \t Silhouette Score: 0.15182073904872628 ,Calinski Harbasz Score:  12.284775523056982 ,Davies Bouldin Score:  0.4821728846396103\n",
            "---------\n",
            "\n",
            "\n",
            "4 single\n",
            "4 \t Silhouette Score: 0.336031698455353 ,Calinski Harbasz Score:  26.180056810838533 ,Davies Bouldin Score:  0.5313875647130155\n",
            "---------\n",
            "\n",
            "\n",
            "5 single\n",
            "5 \t Silhouette Score: 0.31237672242816816 ,Calinski Harbasz Score:  19.70696358811715 ,Davies Bouldin Score:  0.5299927742053796\n",
            "---------\n",
            "\n",
            "\n",
            "3 complete\n",
            "3 \t Silhouette Score: 0.433712851892372 ,Calinski Harbasz Score:  40.75031033481905 ,Davies Bouldin Score:  0.512536005630173\n",
            "---------\n",
            "\n",
            "\n",
            "4 complete\n",
            "4 \t Silhouette Score: 0.4199446848843322 ,Calinski Harbasz Score:  54.80921364541179 ,Davies Bouldin Score:  0.6504019952413668\n",
            "---------\n",
            "\n",
            "\n",
            "5 complete\n",
            "5 \t Silhouette Score: 0.40124402237409024 ,Calinski Harbasz Score:  51.49962189432964 ,Davies Bouldin Score:  0.6423543070999966\n",
            "---------\n",
            "\n",
            "\n",
            "3 average\n",
            "3 \t Silhouette Score: 0.5101578969232564 ,Calinski Harbasz Score:  50.71948248275578 ,Davies Bouldin Score:  0.4973888249838292\n",
            "---------\n",
            "\n",
            "\n",
            "4 average\n",
            "4 \t Silhouette Score: 0.3915600401218291 ,Calinski Harbasz Score:  45.08683376647983 ,Davies Bouldin Score:  0.6312696515382236\n",
            "---------\n",
            "\n",
            "\n",
            "5 average\n",
            "5 \t Silhouette Score: 0.35836522995786074 ,Calinski Harbasz Score:  47.250805478568616 ,Davies Bouldin Score:  0.6068239973110015\n",
            "---------\n",
            "\n",
            "\n",
            "3 ward\n",
            "3 \t Silhouette Score: 0.433712851892372 ,Calinski Harbasz Score:  40.75031033481905 ,Davies Bouldin Score:  0.512536005630173\n",
            "---------\n",
            "\n",
            "\n",
            "4 ward\n",
            "4 \t Silhouette Score: 0.4199446848843322 ,Calinski Harbasz Score:  54.80921364541179 ,Davies Bouldin Score:  0.6504019952413668\n",
            "---------\n",
            "\n",
            "\n",
            "5 ward\n",
            "5 \t Silhouette Score: 0.40124402237409024 ,Calinski Harbasz Score:  51.49962189432964 ,Davies Bouldin Score:  0.6423543070999966\n",
            "---------\n",
            "\n",
            "\n"
          ],
          "name": "stdout"
        }
      ]
    },
    {
      "cell_type": "code",
      "metadata": {
        "id": "05U6NSesJPag",
        "colab": {
          "base_uri": "https://localhost:8080/",
          "height": 417
        },
        "outputId": "7bf6d410-94ff-4dbf-fdc4-7ca64ecf0ef4"
      },
      "source": [
        "pd.DataFrame({'Cluster':l1,'Linkage':l2,'Silhoutte Score':l3,'Calinski Harabasz Index':l4,'Davies Bouldin Score':l5})"
      ],
      "execution_count": null,
      "outputs": [
        {
          "output_type": "execute_result",
          "data": {
            "text/html": [
              "<div>\n",
              "<style scoped>\n",
              "    .dataframe tbody tr th:only-of-type {\n",
              "        vertical-align: middle;\n",
              "    }\n",
              "\n",
              "    .dataframe tbody tr th {\n",
              "        vertical-align: top;\n",
              "    }\n",
              "\n",
              "    .dataframe thead th {\n",
              "        text-align: right;\n",
              "    }\n",
              "</style>\n",
              "<table border=\"1\" class=\"dataframe\">\n",
              "  <thead>\n",
              "    <tr style=\"text-align: right;\">\n",
              "      <th></th>\n",
              "      <th>Cluster</th>\n",
              "      <th>Linkage</th>\n",
              "      <th>Silhoutte Score</th>\n",
              "      <th>Calinski Harabasz Index</th>\n",
              "      <th>Davies Bouldin Score</th>\n",
              "    </tr>\n",
              "  </thead>\n",
              "  <tbody>\n",
              "    <tr>\n",
              "      <th>0</th>\n",
              "      <td>3</td>\n",
              "      <td>single</td>\n",
              "      <td>0.151821</td>\n",
              "      <td>12.284776</td>\n",
              "      <td>0.482173</td>\n",
              "    </tr>\n",
              "    <tr>\n",
              "      <th>1</th>\n",
              "      <td>4</td>\n",
              "      <td>single</td>\n",
              "      <td>0.336032</td>\n",
              "      <td>26.180057</td>\n",
              "      <td>0.531388</td>\n",
              "    </tr>\n",
              "    <tr>\n",
              "      <th>2</th>\n",
              "      <td>5</td>\n",
              "      <td>single</td>\n",
              "      <td>0.312377</td>\n",
              "      <td>19.706964</td>\n",
              "      <td>0.529993</td>\n",
              "    </tr>\n",
              "    <tr>\n",
              "      <th>3</th>\n",
              "      <td>3</td>\n",
              "      <td>complete</td>\n",
              "      <td>0.433713</td>\n",
              "      <td>40.750310</td>\n",
              "      <td>0.512536</td>\n",
              "    </tr>\n",
              "    <tr>\n",
              "      <th>4</th>\n",
              "      <td>4</td>\n",
              "      <td>complete</td>\n",
              "      <td>0.419945</td>\n",
              "      <td>54.809214</td>\n",
              "      <td>0.650402</td>\n",
              "    </tr>\n",
              "    <tr>\n",
              "      <th>5</th>\n",
              "      <td>5</td>\n",
              "      <td>complete</td>\n",
              "      <td>0.401244</td>\n",
              "      <td>51.499622</td>\n",
              "      <td>0.642354</td>\n",
              "    </tr>\n",
              "    <tr>\n",
              "      <th>6</th>\n",
              "      <td>3</td>\n",
              "      <td>average</td>\n",
              "      <td>0.510158</td>\n",
              "      <td>50.719482</td>\n",
              "      <td>0.497389</td>\n",
              "    </tr>\n",
              "    <tr>\n",
              "      <th>7</th>\n",
              "      <td>4</td>\n",
              "      <td>average</td>\n",
              "      <td>0.391560</td>\n",
              "      <td>45.086834</td>\n",
              "      <td>0.631270</td>\n",
              "    </tr>\n",
              "    <tr>\n",
              "      <th>8</th>\n",
              "      <td>5</td>\n",
              "      <td>average</td>\n",
              "      <td>0.358365</td>\n",
              "      <td>47.250805</td>\n",
              "      <td>0.606824</td>\n",
              "    </tr>\n",
              "    <tr>\n",
              "      <th>9</th>\n",
              "      <td>3</td>\n",
              "      <td>ward</td>\n",
              "      <td>0.433713</td>\n",
              "      <td>40.750310</td>\n",
              "      <td>0.512536</td>\n",
              "    </tr>\n",
              "    <tr>\n",
              "      <th>10</th>\n",
              "      <td>4</td>\n",
              "      <td>ward</td>\n",
              "      <td>0.419945</td>\n",
              "      <td>54.809214</td>\n",
              "      <td>0.650402</td>\n",
              "    </tr>\n",
              "    <tr>\n",
              "      <th>11</th>\n",
              "      <td>5</td>\n",
              "      <td>ward</td>\n",
              "      <td>0.401244</td>\n",
              "      <td>51.499622</td>\n",
              "      <td>0.642354</td>\n",
              "    </tr>\n",
              "  </tbody>\n",
              "</table>\n",
              "</div>"
            ],
            "text/plain": [
              "    Cluster   Linkage  ...  Calinski Harabasz Index  Davies Bouldin Score\n",
              "0         3    single  ...                12.284776              0.482173\n",
              "1         4    single  ...                26.180057              0.531388\n",
              "2         5    single  ...                19.706964              0.529993\n",
              "3         3  complete  ...                40.750310              0.512536\n",
              "4         4  complete  ...                54.809214              0.650402\n",
              "5         5  complete  ...                51.499622              0.642354\n",
              "6         3   average  ...                50.719482              0.497389\n",
              "7         4   average  ...                45.086834              0.631270\n",
              "8         5   average  ...                47.250805              0.606824\n",
              "9         3      ward  ...                40.750310              0.512536\n",
              "10        4      ward  ...                54.809214              0.650402\n",
              "11        5      ward  ...                51.499622              0.642354\n",
              "\n",
              "[12 rows x 5 columns]"
            ]
          },
          "metadata": {
            "tags": []
          },
          "execution_count": 115
        }
      ]
    },
    {
      "cell_type": "markdown",
      "metadata": {
        "id": "cz-XgecM9fjB"
      },
      "source": [
        ">As observed from the output, ideal number of clusters is indeed 3 with linkage method '**average**'."
      ]
    },
    {
      "cell_type": "code",
      "metadata": {
        "id": "bVKAHSsbDXEN",
        "colab": {
          "base_uri": "https://localhost:8080/"
        },
        "outputId": "d798aa38-2890-4f2f-bbab-b7bec83dc3b3"
      },
      "source": [
        "# Using the algorithm on Unnormalized data\n",
        "l1=[]\n",
        "l2=[]\n",
        "l3=[]\n",
        "l4=[]\n",
        "l5=[]\n",
        "for j in list1:\n",
        " for i in (3,4,5):\n",
        "  agm=AgglomerativeClustering(n_clusters=i,affinity='euclidean',linkage=j)\n",
        "  mod_k=agm.fit(dfc.drop(['Neighbourhood', 'Grand Total', 'Lat-Long', 'X', 'Y'],axis=1))\n",
        "  #pred_k=mod_k.predict(df.drop('Neighbourhood',axis=1))\n",
        "  kmean_sil=silhouette_score(dfc.drop(['Neighbourhood', 'Grand Total', 'Lat-Long', 'X', 'Y'],axis=1),agm.labels_,metric='euclidean')\n",
        "  kmean_cal=calinski_harabasz_score(dfc.drop(['Neighbourhood', 'Grand Total', 'Lat-Long', 'X', 'Y'],axis=1),agm.labels_)\n",
        "  kmean_dav=davies_bouldin_score(dfc.drop(['Neighbourhood', 'Grand Total', 'Lat-Long', 'X', 'Y'],axis=1),agm.labels_)\n",
        "  print(i,j)\n",
        "  print(i,'\\t','Silhouette Score:' ,kmean_sil,',Calinski Harbasz Score: ',kmean_cal,',Davies Bouldin Score: ',kmean_dav)\n",
        "  print('---------')\n",
        "  print('\\n')\n",
        "  l1.append(i)\n",
        "  l2.append(j)\n",
        "  l3.append(kmean_sil)\n",
        "  l4.append(kmean_cal)\n",
        "  l5.append(kmean_dav)"
      ],
      "execution_count": null,
      "outputs": [
        {
          "output_type": "stream",
          "text": [
            "3 single\n",
            "3 \t Silhouette Score: 0.5235497748252753 ,Calinski Harbasz Score:  69.31360121473055 ,Davies Bouldin Score:  0.20622632719201972\n",
            "---------\n",
            "\n",
            "\n",
            "4 single\n",
            "4 \t Silhouette Score: 0.040045734076529164 ,Calinski Harbasz Score:  45.99714706050404 ,Davies Bouldin Score:  0.5617833083417635\n",
            "---------\n",
            "\n",
            "\n",
            "5 single\n",
            "5 \t Silhouette Score: 0.34899554594344107 ,Calinski Harbasz Score:  133.91264422727926 ,Davies Bouldin Score:  0.40500345884332106\n",
            "---------\n",
            "\n",
            "\n",
            "3 complete\n",
            "3 \t Silhouette Score: 0.5615182129112963 ,Calinski Harbasz Score:  157.57430018530758 ,Davies Bouldin Score:  0.42432829374013403\n",
            "---------\n",
            "\n",
            "\n",
            "4 complete\n",
            "4 \t Silhouette Score: 0.5269127758449531 ,Calinski Harbasz Score:  168.06960724175372 ,Davies Bouldin Score:  0.3573408246604552\n",
            "---------\n",
            "\n",
            "\n",
            "5 complete\n",
            "5 \t Silhouette Score: 0.4139555712232837 ,Calinski Harbasz Score:  201.41722935332783 ,Davies Bouldin Score:  0.45354564662039315\n",
            "---------\n",
            "\n",
            "\n",
            "3 average\n",
            "3 \t Silhouette Score: 0.5235497748252753 ,Calinski Harbasz Score:  69.31360121473055 ,Davies Bouldin Score:  0.20622632719201972\n",
            "---------\n",
            "\n",
            "\n",
            "4 average\n",
            "4 \t Silhouette Score: 0.5269127758449531 ,Calinski Harbasz Score:  168.06960724175372 ,Davies Bouldin Score:  0.3573408246604552\n",
            "---------\n",
            "\n",
            "\n",
            "5 average\n",
            "5 \t Silhouette Score: 0.4466502746286125 ,Calinski Harbasz Score:  143.89270336064803 ,Davies Bouldin Score:  0.3534263109440235\n",
            "---------\n",
            "\n",
            "\n",
            "3 ward\n",
            "3 \t Silhouette Score: 0.5364258028939708 ,Calinski Harbasz Score:  146.79182336203667 ,Davies Bouldin Score:  0.42661143081890446\n",
            "---------\n",
            "\n",
            "\n",
            "4 ward\n",
            "4 \t Silhouette Score: 0.5184824060198353 ,Calinski Harbasz Score:  174.96525683787897 ,Davies Bouldin Score:  0.36501435370080865\n",
            "---------\n",
            "\n",
            "\n",
            "5 ward\n",
            "5 \t Silhouette Score: 0.45391106180701485 ,Calinski Harbasz Score:  187.7363780179187 ,Davies Bouldin Score:  0.5330033905213533\n",
            "---------\n",
            "\n",
            "\n"
          ],
          "name": "stdout"
        }
      ]
    },
    {
      "cell_type": "code",
      "metadata": {
        "id": "iYDBRv-vJy03",
        "colab": {
          "base_uri": "https://localhost:8080/",
          "height": 417
        },
        "outputId": "e459a501-4d13-4888-a0ce-a76ddfb552b6"
      },
      "source": [
        "pd.DataFrame({'Cluster':l1,'Linkage':l2,'Silhoutte Score':l3,'Calinski Harabasz Index':l4,'Davies Bouldin Score':l5})"
      ],
      "execution_count": null,
      "outputs": [
        {
          "output_type": "execute_result",
          "data": {
            "text/html": [
              "<div>\n",
              "<style scoped>\n",
              "    .dataframe tbody tr th:only-of-type {\n",
              "        vertical-align: middle;\n",
              "    }\n",
              "\n",
              "    .dataframe tbody tr th {\n",
              "        vertical-align: top;\n",
              "    }\n",
              "\n",
              "    .dataframe thead th {\n",
              "        text-align: right;\n",
              "    }\n",
              "</style>\n",
              "<table border=\"1\" class=\"dataframe\">\n",
              "  <thead>\n",
              "    <tr style=\"text-align: right;\">\n",
              "      <th></th>\n",
              "      <th>Cluster</th>\n",
              "      <th>Linkage</th>\n",
              "      <th>Silhoutte Score</th>\n",
              "      <th>Calinski Harabasz Index</th>\n",
              "      <th>Davies Bouldin Score</th>\n",
              "    </tr>\n",
              "  </thead>\n",
              "  <tbody>\n",
              "    <tr>\n",
              "      <th>0</th>\n",
              "      <td>3</td>\n",
              "      <td>single</td>\n",
              "      <td>0.523550</td>\n",
              "      <td>69.313601</td>\n",
              "      <td>0.206226</td>\n",
              "    </tr>\n",
              "    <tr>\n",
              "      <th>1</th>\n",
              "      <td>4</td>\n",
              "      <td>single</td>\n",
              "      <td>0.040046</td>\n",
              "      <td>45.997147</td>\n",
              "      <td>0.561783</td>\n",
              "    </tr>\n",
              "    <tr>\n",
              "      <th>2</th>\n",
              "      <td>5</td>\n",
              "      <td>single</td>\n",
              "      <td>0.348996</td>\n",
              "      <td>133.912644</td>\n",
              "      <td>0.405003</td>\n",
              "    </tr>\n",
              "    <tr>\n",
              "      <th>3</th>\n",
              "      <td>3</td>\n",
              "      <td>complete</td>\n",
              "      <td>0.561518</td>\n",
              "      <td>157.574300</td>\n",
              "      <td>0.424328</td>\n",
              "    </tr>\n",
              "    <tr>\n",
              "      <th>4</th>\n",
              "      <td>4</td>\n",
              "      <td>complete</td>\n",
              "      <td>0.526913</td>\n",
              "      <td>168.069607</td>\n",
              "      <td>0.357341</td>\n",
              "    </tr>\n",
              "    <tr>\n",
              "      <th>5</th>\n",
              "      <td>5</td>\n",
              "      <td>complete</td>\n",
              "      <td>0.413956</td>\n",
              "      <td>201.417229</td>\n",
              "      <td>0.453546</td>\n",
              "    </tr>\n",
              "    <tr>\n",
              "      <th>6</th>\n",
              "      <td>3</td>\n",
              "      <td>average</td>\n",
              "      <td>0.523550</td>\n",
              "      <td>69.313601</td>\n",
              "      <td>0.206226</td>\n",
              "    </tr>\n",
              "    <tr>\n",
              "      <th>7</th>\n",
              "      <td>4</td>\n",
              "      <td>average</td>\n",
              "      <td>0.526913</td>\n",
              "      <td>168.069607</td>\n",
              "      <td>0.357341</td>\n",
              "    </tr>\n",
              "    <tr>\n",
              "      <th>8</th>\n",
              "      <td>5</td>\n",
              "      <td>average</td>\n",
              "      <td>0.446650</td>\n",
              "      <td>143.892703</td>\n",
              "      <td>0.353426</td>\n",
              "    </tr>\n",
              "    <tr>\n",
              "      <th>9</th>\n",
              "      <td>3</td>\n",
              "      <td>ward</td>\n",
              "      <td>0.536426</td>\n",
              "      <td>146.791823</td>\n",
              "      <td>0.426611</td>\n",
              "    </tr>\n",
              "    <tr>\n",
              "      <th>10</th>\n",
              "      <td>4</td>\n",
              "      <td>ward</td>\n",
              "      <td>0.518482</td>\n",
              "      <td>174.965257</td>\n",
              "      <td>0.365014</td>\n",
              "    </tr>\n",
              "    <tr>\n",
              "      <th>11</th>\n",
              "      <td>5</td>\n",
              "      <td>ward</td>\n",
              "      <td>0.453911</td>\n",
              "      <td>187.736378</td>\n",
              "      <td>0.533003</td>\n",
              "    </tr>\n",
              "  </tbody>\n",
              "</table>\n",
              "</div>"
            ],
            "text/plain": [
              "    Cluster   Linkage  ...  Calinski Harabasz Index  Davies Bouldin Score\n",
              "0         3    single  ...                69.313601              0.206226\n",
              "1         4    single  ...                45.997147              0.561783\n",
              "2         5    single  ...               133.912644              0.405003\n",
              "3         3  complete  ...               157.574300              0.424328\n",
              "4         4  complete  ...               168.069607              0.357341\n",
              "5         5  complete  ...               201.417229              0.453546\n",
              "6         3   average  ...                69.313601              0.206226\n",
              "7         4   average  ...               168.069607              0.357341\n",
              "8         5   average  ...               143.892703              0.353426\n",
              "9         3      ward  ...               146.791823              0.426611\n",
              "10        4      ward  ...               174.965257              0.365014\n",
              "11        5      ward  ...               187.736378              0.533003\n",
              "\n",
              "[12 rows x 5 columns]"
            ]
          },
          "metadata": {
            "tags": []
          },
          "execution_count": 117
        }
      ]
    },
    {
      "cell_type": "markdown",
      "metadata": {
        "id": "QmBqgzQu-MxU"
      },
      "source": [
        ">In case of unnormalized dataset, **3** as the number of clusters with **complete** and **averga** linkage are giving comparable resultss."
      ]
    },
    {
      "cell_type": "markdown",
      "metadata": {
        "id": "tV0ZDp_O_JUb"
      },
      "source": [
        "## Fuzzy C-Means Clustering"
      ]
    },
    {
      "cell_type": "code",
      "metadata": {
        "colab": {
          "base_uri": "https://localhost:8080/"
        },
        "id": "u_0UFXiU_R2D",
        "outputId": "0336df9b-b7c9-4dbe-e395-6ef883c397a8"
      },
      "source": [
        "!pip install fuzzy-c-means"
      ],
      "execution_count": null,
      "outputs": [
        {
          "output_type": "stream",
          "text": [
            "Requirement already satisfied: fuzzy-c-means in /usr/local/lib/python3.7/dist-packages (1.2.4)\n",
            "Requirement already satisfied: jaxlib<0.2.0,>=0.1.57 in /usr/local/lib/python3.7/dist-packages (from fuzzy-c-means) (0.1.60+cuda101)\n",
            "Requirement already satisfied: jax<0.3.0,>=0.2.7 in /usr/local/lib/python3.7/dist-packages (from fuzzy-c-means) (0.2.9)\n",
            "Requirement already satisfied: flatbuffers in /usr/local/lib/python3.7/dist-packages (from jaxlib<0.2.0,>=0.1.57->fuzzy-c-means) (1.12)\n",
            "Requirement already satisfied: numpy<1.20,>=1.12 in /usr/local/lib/python3.7/dist-packages (from jaxlib<0.2.0,>=0.1.57->fuzzy-c-means) (1.19.5)\n",
            "Requirement already satisfied: scipy in /usr/local/lib/python3.7/dist-packages (from jaxlib<0.2.0,>=0.1.57->fuzzy-c-means) (1.4.1)\n",
            "Requirement already satisfied: absl-py in /usr/local/lib/python3.7/dist-packages (from jaxlib<0.2.0,>=0.1.57->fuzzy-c-means) (0.10.0)\n",
            "Requirement already satisfied: opt-einsum in /usr/local/lib/python3.7/dist-packages (from jax<0.3.0,>=0.2.7->fuzzy-c-means) (3.3.0)\n",
            "Requirement already satisfied: six in /usr/local/lib/python3.7/dist-packages (from absl-py->jaxlib<0.2.0,>=0.1.57->fuzzy-c-means) (1.15.0)\n"
          ],
          "name": "stdout"
        }
      ]
    },
    {
      "cell_type": "code",
      "metadata": {
        "id": "Sd1Pugdbq6fX"
      },
      "source": [
        "# Importing the relevant libraries\n",
        "# %matplotlib inline\n",
        "import numpy as np\n",
        "from fcmeans import FCM\n",
        "from matplotlib import pyplot as plt"
      ],
      "execution_count": null,
      "outputs": []
    },
    {
      "cell_type": "code",
      "metadata": {
        "id": "qJxzmLeVrE8c"
      },
      "source": [
        "# Determining the clustering accuracy for different number of clusters\n",
        "X = df.iloc[:,1:10].values\n",
        "\n",
        "n_clusters_list = [2, 3, 4, 5, 6, 7]\n",
        "models = list()\n",
        "for n_clusters in n_clusters_list:\n",
        "    fcm = FCM(n_clusters)\n",
        "    abc = fcm.fit(X)\n",
        "    models.append(fcm)"
      ],
      "execution_count": null,
      "outputs": []
    },
    {
      "cell_type": "markdown",
      "metadata": {
        "id": "6sdUzqtIALhG"
      },
      "source": [
        ">Fuzzy logic principles can be used to cluster multidimensional data, assigning each point a membership in each cluster center from 0 to 100 percent. This can be very powerful compared to traditional hard-thresholded clustering where every point is assigned a crisp, exact label.\n",
        "\n",
        ">A metric used to determine the right number of clusters in case of Fuzzy c-means is **FPC: Fuzzy Partition Coefficient**. The FPC is defined on the range from 0 to 1, with 1 being best. It is a metric which tells us how cleanly our data is described by a certain model. Next we will cluster our set of data - which we till now know has three clusters - several times, with between 2 and 5 clusters. We will then show the results of the clustering, and plot the fuzzy partition coefficient. When the FPC is maximized, our data is described best. Another similar metric is FPEC, which when is minimized, will describe our data the best."
      ]
    },
    {
      "cell_type": "code",
      "metadata": {
        "colab": {
          "base_uri": "https://localhost:8080/",
          "height": 515
        },
        "id": "u-HgBIRZsSWq",
        "outputId": "27c2ac70-f7f8-4395-fc63-a36f523a5956"
      },
      "source": [
        "# num_clusters = len(n_clusters_list)\n",
        "# f, axes = plt.subplots(3, 2, figsize=(11,16))\n",
        "# for n_clusters, model, axe in zip(n_clusters_list, models, axes.ravel()):\n",
        "#     # get validation metrics\n",
        "#     pc = model.partition_coefficient\n",
        "#     pec = model.partition_entropy_coefficient\n",
        "    \n",
        "#     fcm_centers = model.centers\n",
        "#     fcm_labels = model.predict(X)\n",
        "#     # plot result\n",
        "#     axe.scatter(X[:,0], X[:,1], c=fcm_labels, alpha=.1)\n",
        "#     axe.scatter(fcm_centers[:,0], fcm_centers[:,1], marker=\"+\", s=500, c='black')\n",
        "#     axe.set_title(f'n_clusters = {n_clusters}, PC = {pc:.3f}, PEC = {pec:.3f}')\n",
        "# plt.show()\n",
        "\n",
        "\n",
        "FPC = []\n",
        "FPEC = []\n",
        "for model in models:\n",
        "  FPC.append(model.partition_coefficient)\n",
        "  FPEC.append(model.partition_entropy_coefficient)\n",
        "\n",
        "fig2, ax2 = plt.subplots(1, 2, figsize = (16,8))\n",
        "ax2[0].plot(n_clusters_list, FPC)\n",
        "ax2[1].plot(n_clusters_list, FPEC)\n",
        "ax2[0].set_xlabel(\"Number of centers\")\n",
        "ax2[0].set_ylabel(\"Fuzzy partition coefficient\")\n",
        "ax2[1].set_xlabel(\"Number of centers\")\n",
        "ax2[1].set_ylabel(\"Fuzzy partition coefficient\")"
      ],
      "execution_count": null,
      "outputs": [
        {
          "output_type": "execute_result",
          "data": {
            "text/plain": [
              "Text(0, 0.5, 'Fuzzy partition coefficient')"
            ]
          },
          "metadata": {
            "tags": []
          },
          "execution_count": 121
        },
        {
          "output_type": "display_data",
          "data": {
            "image/png": "[encoded data removed]",
            "text/plain": [
              "<Figure size 1152x576 with 2 Axes>"
            ]
          },
          "metadata": {
            "tags": [],
            "needs_background": "light"
          }
        }
      ]
    },
    {
      "cell_type": "markdown",
      "metadata": {
        "id": "-y_jFe5ABuks"
      },
      "source": [
        ">Since Fuzzy algorithm works differently, it is giving 2 and 3 both as the right number of clusters. Right now it will be suggested to proceed with the number 3 keeping other algos in mind. The reason why 2 is being given by the fuzzy as the right number of clusters is because the the third cluster has very few values (probably just one) as compared to the other two clusters. Since clustering the entire dataset into just two clusters will not give a significant distinction between different data points, it will recommended to proceed with 3 as the number of clusters. "
      ]
    },
    {
      "cell_type": "code",
      "metadata": {
        "colab": {
          "base_uri": "https://localhost:8080/"
        },
        "id": "dQXILCEg8f-h",
        "outputId": "ca1f89b5-1ee5-4361-bbf7-f9bb4f38868c"
      },
      "source": [
        "l1 = []\n",
        "l2 = []\n",
        "l3 = []\n",
        "l4 = []\n",
        "X = df.iloc[:,1:10].values\n",
        "\n",
        "for i in (2,3,4,5):\n",
        "  fcm = FCM(i)\n",
        "  mod_k = fcm.fit(X)\n",
        "  fcm_k1 = fcm.predict(X)\n",
        "  fcm_sil = silhouette_score(X,fcm_k1,metric='euclidean')\n",
        "  fcm_cal = calinski_harabasz_score(X,fcm_k1)\n",
        "  fcm_dav = davies_bouldin_score(X,fcm_k1)\n",
        "  print(i,'\\t','Silhouette Score:' ,fcm_sil,',Calinski Harbasz Score: ',fcm_cal,',Davies Bouldin Score: ',fcm_dav)\n",
        "  l1.append(fcm_sil)\n",
        "  l2.append(fcm_cal)\n",
        "  l3.append(fcm_dav)\n",
        "  l4.append(i)"
      ],
      "execution_count": null,
      "outputs": [
        {
          "output_type": "stream",
          "text": [
            "2 \t Silhouette Score: 0.4785404763724821 ,Calinski Harbasz Score:  20.18174641078488 ,Davies Bouldin Score:  0.7663325161242579\n",
            "3 \t Silhouette Score: 0.5101578969232564 ,Calinski Harbasz Score:  50.71948248275577 ,Davies Bouldin Score:  0.4973888249838292\n",
            "4 \t Silhouette Score: 0.4199446848843322 ,Calinski Harbasz Score:  54.809213645411795 ,Davies Bouldin Score:  0.6504019952413667\n",
            "5 \t Silhouette Score: 0.31398419066385935 ,Calinski Harbasz Score:  10.788771718292452 ,Davies Bouldin Score:  0.9729776767684942\n"
          ],
          "name": "stdout"
        }
      ]
    },
    {
      "cell_type": "code",
      "metadata": {
        "colab": {
          "base_uri": "https://localhost:8080/",
          "height": 171
        },
        "id": "Sbmu2v_B_zih",
        "outputId": "7f68973c-77f5-409c-9293-04f163fde188"
      },
      "source": [
        "pd.DataFrame({'Cluster_number':l4, 'Silhouette Score':l1, 'Calinski Harbasz Score':l2, 'Davies Bouldin Score':l3})"
      ],
      "execution_count": null,
      "outputs": [
        {
          "output_type": "execute_result",
          "data": {
            "text/html": [
              "<div>\n",
              "<style scoped>\n",
              "    .dataframe tbody tr th:only-of-type {\n",
              "        vertical-align: middle;\n",
              "    }\n",
              "\n",
              "    .dataframe tbody tr th {\n",
              "        vertical-align: top;\n",
              "    }\n",
              "\n",
              "    .dataframe thead th {\n",
              "        text-align: right;\n",
              "    }\n",
              "</style>\n",
              "<table border=\"1\" class=\"dataframe\">\n",
              "  <thead>\n",
              "    <tr style=\"text-align: right;\">\n",
              "      <th></th>\n",
              "      <th>Cluster_number</th>\n",
              "      <th>Silhouette Score</th>\n",
              "      <th>Calinski Harbasz Score</th>\n",
              "      <th>Davies Bouldin Score</th>\n",
              "    </tr>\n",
              "  </thead>\n",
              "  <tbody>\n",
              "    <tr>\n",
              "      <th>0</th>\n",
              "      <td>2</td>\n",
              "      <td>0.478540</td>\n",
              "      <td>20.181746</td>\n",
              "      <td>0.766333</td>\n",
              "    </tr>\n",
              "    <tr>\n",
              "      <th>1</th>\n",
              "      <td>3</td>\n",
              "      <td>0.510158</td>\n",
              "      <td>50.719482</td>\n",
              "      <td>0.497389</td>\n",
              "    </tr>\n",
              "    <tr>\n",
              "      <th>2</th>\n",
              "      <td>4</td>\n",
              "      <td>0.419945</td>\n",
              "      <td>54.809214</td>\n",
              "      <td>0.650402</td>\n",
              "    </tr>\n",
              "    <tr>\n",
              "      <th>3</th>\n",
              "      <td>5</td>\n",
              "      <td>0.313984</td>\n",
              "      <td>10.788772</td>\n",
              "      <td>0.972978</td>\n",
              "    </tr>\n",
              "  </tbody>\n",
              "</table>\n",
              "</div>"
            ],
            "text/plain": [
              "   Cluster_number  ...  Davies Bouldin Score\n",
              "0               2  ...              0.766333\n",
              "1               3  ...              0.497389\n",
              "2               4  ...              0.650402\n",
              "3               5  ...              0.972978\n",
              "\n",
              "[4 rows x 4 columns]"
            ]
          },
          "metadata": {
            "tags": []
          },
          "execution_count": 123
        }
      ]
    },
    {
      "cell_type": "markdown",
      "metadata": {
        "id": "JSTsHQbcGiTb"
      },
      "source": [
        ">With the help of the above calculated three metrics, we can see that Silhouette Score and Davies Bouldin Score are the best for 3 as the number of clusters, and Calinski Harbasz Score is the second best. That helps us proceed with 3 as the right number of clusters."
      ]
    },
    {
      "cell_type": "code",
      "metadata": {
        "colab": {
          "base_uri": "https://localhost:8080/"
        },
        "id": "LSdnIE2OAwxS",
        "outputId": "dd12ab5a-63e4-4aaf-92b2-c59780f79220"
      },
      "source": [
        "dfc.columns"
      ],
      "execution_count": null,
      "outputs": [
        {
          "output_type": "execute_result",
          "data": {
            "text/plain": [
              "Index(['Neighbourhood', 'Break and Enter Commercial',\n",
              "       'Break and Enter Residential/Other', 'Mischief', 'Other Theft',\n",
              "       'Theft from Vehicle', 'Theft of Bicycle', 'Theft of Vehicle',\n",
              "       'Vehicle Collision or Pedestrian Struck (with Fatality)',\n",
              "       'Vehicle Collision or Pedestrian Struck (with Injury)', 'Grand Total',\n",
              "       'Lat-Long', 'X', 'Y'],\n",
              "      dtype='object')"
            ]
          },
          "metadata": {
            "tags": []
          },
          "execution_count": 124
        }
      ]
    },
    {
      "cell_type": "code",
      "metadata": {
        "colab": {
          "base_uri": "https://localhost:8080/"
        },
        "id": "qBb9AC8RAr_p",
        "outputId": "d93f4b75-52cc-4753-cd5b-e13ad323dbf1"
      },
      "source": [
        "# Let's try performing Fuzzy C-means Clustering on unnormalized data and check what's happening\n",
        "l1 = []\n",
        "l2 = []\n",
        "l3 = []\n",
        "l4 = []\n",
        "\n",
        "X = df.iloc[:,1:10].values\n",
        "\n",
        "for i in (2,3,4,5):\n",
        "  fcm = FCM(i)\n",
        "  mod_k = fcm.fit(X)\n",
        "  fcm_k2 = fcm.predict(X)\n",
        "  fcm_sil = silhouette_score(X,fcm_k2,metric='euclidean')\n",
        "  fcm_cal = calinski_harabasz_score(X,fcm_k2)\n",
        "  fcm_dav = davies_bouldin_score(X,fcm_k2)\n",
        "  print(i,'\\t','Silhouette Score:' ,fcm_sil,',Calinski Harbasz Score: ',fcm_cal,',Davies Bouldin Score: ',fcm_dav)\n",
        "  l1.append(fcm_sil)\n",
        "  l2.append(fcm_cal)\n",
        "  l3.append(fcm_dav)\n",
        "  l4.append(i)"
      ],
      "execution_count": null,
      "outputs": [
        {
          "output_type": "stream",
          "text": [
            "2 \t Silhouette Score: 0.4785404763724821 ,Calinski Harbasz Score:  20.18174641078488 ,Davies Bouldin Score:  0.7663325161242579\n",
            "3 \t Silhouette Score: 0.5101578969232564 ,Calinski Harbasz Score:  50.71948248275577 ,Davies Bouldin Score:  0.4973888249838292\n",
            "4 \t Silhouette Score: 0.4199446848843322 ,Calinski Harbasz Score:  54.809213645411795 ,Davies Bouldin Score:  0.6504019952413667\n",
            "5 \t Silhouette Score: 0.31398419066385935 ,Calinski Harbasz Score:  10.788771718292452 ,Davies Bouldin Score:  0.9729776767684942\n"
          ],
          "name": "stdout"
        }
      ]
    },
    {
      "cell_type": "code",
      "metadata": {
        "colab": {
          "base_uri": "https://localhost:8080/",
          "height": 171
        },
        "id": "TQ3MJvUkB3qY",
        "outputId": "55039621-6d78-4a5d-ec6a-574255ded905"
      },
      "source": [
        "pd.DataFrame({'Cluster_number':l4, 'Silhouette Score':l1, 'Calinski Harbasz Score':l2, 'Davies Bouldin Score':l3})"
      ],
      "execution_count": null,
      "outputs": [
        {
          "output_type": "execute_result",
          "data": {
            "text/html": [
              "<div>\n",
              "<style scoped>\n",
              "    .dataframe tbody tr th:only-of-type {\n",
              "        vertical-align: middle;\n",
              "    }\n",
              "\n",
              "    .dataframe tbody tr th {\n",
              "        vertical-align: top;\n",
              "    }\n",
              "\n",
              "    .dataframe thead th {\n",
              "        text-align: right;\n",
              "    }\n",
              "</style>\n",
              "<table border=\"1\" class=\"dataframe\">\n",
              "  <thead>\n",
              "    <tr style=\"text-align: right;\">\n",
              "      <th></th>\n",
              "      <th>Cluster_number</th>\n",
              "      <th>Silhouette Score</th>\n",
              "      <th>Calinski Harbasz Score</th>\n",
              "      <th>Davies Bouldin Score</th>\n",
              "    </tr>\n",
              "  </thead>\n",
              "  <tbody>\n",
              "    <tr>\n",
              "      <th>0</th>\n",
              "      <td>2</td>\n",
              "      <td>0.478540</td>\n",
              "      <td>20.181746</td>\n",
              "      <td>0.766333</td>\n",
              "    </tr>\n",
              "    <tr>\n",
              "      <th>1</th>\n",
              "      <td>3</td>\n",
              "      <td>0.510158</td>\n",
              "      <td>50.719482</td>\n",
              "      <td>0.497389</td>\n",
              "    </tr>\n",
              "    <tr>\n",
              "      <th>2</th>\n",
              "      <td>4</td>\n",
              "      <td>0.419945</td>\n",
              "      <td>54.809214</td>\n",
              "      <td>0.650402</td>\n",
              "    </tr>\n",
              "    <tr>\n",
              "      <th>3</th>\n",
              "      <td>5</td>\n",
              "      <td>0.313984</td>\n",
              "      <td>10.788772</td>\n",
              "      <td>0.972978</td>\n",
              "    </tr>\n",
              "  </tbody>\n",
              "</table>\n",
              "</div>"
            ],
            "text/plain": [
              "   Cluster_number  ...  Davies Bouldin Score\n",
              "0               2  ...              0.766333\n",
              "1               3  ...              0.497389\n",
              "2               4  ...              0.650402\n",
              "3               5  ...              0.972978\n",
              "\n",
              "[4 rows x 4 columns]"
            ]
          },
          "metadata": {
            "tags": []
          },
          "execution_count": 126
        }
      ]
    },
    {
      "cell_type": "markdown",
      "metadata": {
        "id": "yVsVmthAHKKs"
      },
      "source": [
        ">With the help of the above calculated three metrics, we can see that Silhouette Score and Davies Bouldin Score are the best for 3 as the number of clusters, and Calinski Harbasz Score is the second best. That helps us proceed with 3 as the right number of clusters, in case we choose to have unnormalized data as our underlying dataset."
      ]
    },
    {
      "cell_type": "markdown",
      "metadata": {
        "id": "5lpkZdntCrku"
      },
      "source": [
        "## Applying the Algorithms and Visualizing them"
      ]
    },
    {
      "cell_type": "code",
      "metadata": {
        "id": "24aW5iv3cOVH"
      },
      "source": [
        "kmeansf = KMeans(n_clusters = 3,random_state = 31)\n",
        "kmeansf.fit(df.drop(['Neighbourhood'],axis = 1))\n",
        "pred_kmeans = kmeansf.predict(df.drop(['Neighbourhood'],axis=1))\n",
        "df['pred_kmeans'] = pred_kmeans"
      ],
      "execution_count": null,
      "outputs": []
    },
    {
      "cell_type": "code",
      "metadata": {
        "id": "V7K1TI2bCzO4",
        "colab": {
          "base_uri": "https://localhost:8080/",
          "height": 323
        },
        "outputId": "353911e0-54b7-460f-9a75-df0dd32d2c5e"
      },
      "source": [
        "df.head()"
      ],
      "execution_count": null,
      "outputs": [
        {
          "output_type": "execute_result",
          "data": {
            "text/html": [
              "<div>\n",
              "<style scoped>\n",
              "    .dataframe tbody tr th:only-of-type {\n",
              "        vertical-align: middle;\n",
              "    }\n",
              "\n",
              "    .dataframe tbody tr th {\n",
              "        vertical-align: top;\n",
              "    }\n",
              "\n",
              "    .dataframe thead th {\n",
              "        text-align: right;\n",
              "    }\n",
              "</style>\n",
              "<table border=\"1\" class=\"dataframe\">\n",
              "  <thead>\n",
              "    <tr style=\"text-align: right;\">\n",
              "      <th></th>\n",
              "      <th>Neighbourhood</th>\n",
              "      <th>Break and Enter Commercial</th>\n",
              "      <th>Break and Enter Residential/Other</th>\n",
              "      <th>Mischief</th>\n",
              "      <th>Other Theft</th>\n",
              "      <th>Theft from Vehicle</th>\n",
              "      <th>Theft of Bicycle</th>\n",
              "      <th>Theft of Vehicle</th>\n",
              "      <th>Vehicle Collision or Pedestrian Struck (with Fatality)</th>\n",
              "      <th>Vehicle Collision or Pedestrian Struck (with Injury)</th>\n",
              "      <th>pred_kmeans</th>\n",
              "    </tr>\n",
              "  </thead>\n",
              "  <tbody>\n",
              "    <tr>\n",
              "      <th>0</th>\n",
              "      <td>Arbutus Ridge</td>\n",
              "      <td>0.032927</td>\n",
              "      <td>0.361124</td>\n",
              "      <td>0.050097</td>\n",
              "      <td>0.017461</td>\n",
              "      <td>0.034215</td>\n",
              "      <td>0.022174</td>\n",
              "      <td>0.115191</td>\n",
              "      <td>0.050</td>\n",
              "      <td>0.072228</td>\n",
              "      <td>0</td>\n",
              "    </tr>\n",
              "    <tr>\n",
              "      <th>1</th>\n",
              "      <td>Central Business District</td>\n",
              "      <td>1.000000</td>\n",
              "      <td>0.773034</td>\n",
              "      <td>1.000000</td>\n",
              "      <td>1.000000</td>\n",
              "      <td>1.000000</td>\n",
              "      <td>1.000000</td>\n",
              "      <td>1.000000</td>\n",
              "      <td>1.000</td>\n",
              "      <td>1.000000</td>\n",
              "      <td>2</td>\n",
              "    </tr>\n",
              "    <tr>\n",
              "      <th>2</th>\n",
              "      <td>Dunbar-Southlands</td>\n",
              "      <td>0.029613</td>\n",
              "      <td>0.400449</td>\n",
              "      <td>0.073636</td>\n",
              "      <td>0.012472</td>\n",
              "      <td>0.056125</td>\n",
              "      <td>0.033768</td>\n",
              "      <td>0.148139</td>\n",
              "      <td>0.050</td>\n",
              "      <td>0.067114</td>\n",
              "      <td>0</td>\n",
              "    </tr>\n",
              "    <tr>\n",
              "      <th>3</th>\n",
              "      <td>Fairview</td>\n",
              "      <td>0.351294</td>\n",
              "      <td>0.846966</td>\n",
              "      <td>0.186625</td>\n",
              "      <td>0.169828</td>\n",
              "      <td>0.245197</td>\n",
              "      <td>0.490870</td>\n",
              "      <td>0.502264</td>\n",
              "      <td>0.325</td>\n",
              "      <td>0.358261</td>\n",
              "      <td>1</td>\n",
              "    </tr>\n",
              "    <tr>\n",
              "      <th>4</th>\n",
              "      <td>Grandview-Woodland</td>\n",
              "      <td>0.220761</td>\n",
              "      <td>1.000000</td>\n",
              "      <td>0.293699</td>\n",
              "      <td>0.130281</td>\n",
              "      <td>0.149102</td>\n",
              "      <td>0.202319</td>\n",
              "      <td>0.772384</td>\n",
              "      <td>0.200</td>\n",
              "      <td>0.377437</td>\n",
              "      <td>1</td>\n",
              "    </tr>\n",
              "  </tbody>\n",
              "</table>\n",
              "</div>"
            ],
            "text/plain": [
              "               Neighbourhood  ...  pred_kmeans\n",
              "0              Arbutus Ridge  ...            0\n",
              "1  Central Business District  ...            2\n",
              "2          Dunbar-Southlands  ...            0\n",
              "3                   Fairview  ...            1\n",
              "4         Grandview-Woodland  ...            1\n",
              "\n",
              "[5 rows x 11 columns]"
            ]
          },
          "metadata": {
            "tags": []
          },
          "execution_count": 128
        }
      ]
    },
    {
      "cell_type": "markdown",
      "metadata": {
        "id": "7KKMF9YdHi2Y"
      },
      "source": [
        ">We will be pivoting the resulting dataset after k-means clustering to help us visualize it later using a box-plot."
      ]
    },
    {
      "cell_type": "code",
      "metadata": {
        "id": "ns2v97TzDWr2",
        "colab": {
          "base_uri": "https://localhost:8080/",
          "height": 202
        },
        "outputId": "b501f7d0-79af-4c03-f681-58f8f87b3aac"
      },
      "source": [
        "df_k = pd.melt(frame=df.drop('Neighbourhood',axis=1),id_vars='pred_kmeans',var_name='parameters',value_name='values')\n",
        "df_k.head()"
      ],
      "execution_count": null,
      "outputs": [
        {
          "output_type": "execute_result",
          "data": {
            "text/html": [
              "<div>\n",
              "<style scoped>\n",
              "    .dataframe tbody tr th:only-of-type {\n",
              "        vertical-align: middle;\n",
              "    }\n",
              "\n",
              "    .dataframe tbody tr th {\n",
              "        vertical-align: top;\n",
              "    }\n",
              "\n",
              "    .dataframe thead th {\n",
              "        text-align: right;\n",
              "    }\n",
              "</style>\n",
              "<table border=\"1\" class=\"dataframe\">\n",
              "  <thead>\n",
              "    <tr style=\"text-align: right;\">\n",
              "      <th></th>\n",
              "      <th>pred_kmeans</th>\n",
              "      <th>parameters</th>\n",
              "      <th>values</th>\n",
              "    </tr>\n",
              "  </thead>\n",
              "  <tbody>\n",
              "    <tr>\n",
              "      <th>0</th>\n",
              "      <td>0</td>\n",
              "      <td>Break and Enter Commercial</td>\n",
              "      <td>0.032927</td>\n",
              "    </tr>\n",
              "    <tr>\n",
              "      <th>1</th>\n",
              "      <td>2</td>\n",
              "      <td>Break and Enter Commercial</td>\n",
              "      <td>1.000000</td>\n",
              "    </tr>\n",
              "    <tr>\n",
              "      <th>2</th>\n",
              "      <td>0</td>\n",
              "      <td>Break and Enter Commercial</td>\n",
              "      <td>0.029613</td>\n",
              "    </tr>\n",
              "    <tr>\n",
              "      <th>3</th>\n",
              "      <td>1</td>\n",
              "      <td>Break and Enter Commercial</td>\n",
              "      <td>0.351294</td>\n",
              "    </tr>\n",
              "    <tr>\n",
              "      <th>4</th>\n",
              "      <td>1</td>\n",
              "      <td>Break and Enter Commercial</td>\n",
              "      <td>0.220761</td>\n",
              "    </tr>\n",
              "  </tbody>\n",
              "</table>\n",
              "</div>"
            ],
            "text/plain": [
              "   pred_kmeans                  parameters    values\n",
              "0            0  Break and Enter Commercial  0.032927\n",
              "1            2  Break and Enter Commercial  1.000000\n",
              "2            0  Break and Enter Commercial  0.029613\n",
              "3            1  Break and Enter Commercial  0.351294\n",
              "4            1  Break and Enter Commercial  0.220761"
            ]
          },
          "metadata": {
            "tags": []
          },
          "execution_count": 129
        }
      ]
    },
    {
      "cell_type": "markdown",
      "metadata": {
        "id": "CRWJ1CHxHt9s"
      },
      "source": [
        ">The below shown is a Seaborn Boxplot that is a plot of values for each type of crime against its cluster"
      ]
    },
    {
      "cell_type": "code",
      "metadata": {
        "id": "O2IlTbyHc1oM",
        "colab": {
          "base_uri": "https://localhost:8080/",
          "height": 1000
        },
        "outputId": "e97162b1-affe-47e5-890b-9cf2facc2286"
      },
      "source": [
        "import seaborn as sns \n",
        "sns.factorplot(data = df_k, y = 'values', x = 'pred_kmeans',col = 'parameters', kind = 'box',sharey = False, col_wrap = 3)"
      ],
      "execution_count": null,
      "outputs": [
        {
          "output_type": "stream",
          "text": [
            "/usr/local/lib/python3.7/dist-packages/seaborn/categorical.py:3714: UserWarning: The `factorplot` function has been renamed to `catplot`. The original name will be removed in a future release. Please update your code. Note that the default `kind` in `factorplot` (`'point'`) has changed `'strip'` in `catplot`.\n",
            "  warnings.warn(msg)\n"
          ],
          "name": "stderr"
        },
        {
          "output_type": "execute_result",
          "data": {
            "text/plain": [
              "<seaborn.axisgrid.FacetGrid at 0x7f4ee175c2d0>"
            ]
          },
          "metadata": {
            "tags": []
          },
          "execution_count": 130
        },
        {
          "output_type": "display_data",
          "data": {
            "image/png": "[encoded data removed]",
            "text/plain": [
              "<Figure size 1080x1080 with 9 Axes>"
            ]
          },
          "metadata": {
            "tags": [],
            "needs_background": "light"
          }
        }
      ]
    },
    {
      "cell_type": "code",
      "metadata": {
        "id": "zuw6EKnVCRFk"
      },
      "source": [
        "agg_mod_ = AgglomerativeClustering(n_clusters = 3, affinity = 'euclidean', linkage = 'ward')\n",
        "agg_mod_.fit(df.drop('Neighbourhood', axis=1))\n",
        "df['pred_agg']=agg_mod_.labels_"
      ],
      "execution_count": null,
      "outputs": []
    },
    {
      "cell_type": "code",
      "metadata": {
        "id": "JXMe6MWGEFo6",
        "colab": {
          "base_uri": "https://localhost:8080/",
          "height": 202
        },
        "outputId": "d33fbe22-d467-45b9-c12a-899a352da788"
      },
      "source": [
        "df2 = pd.melt(frame=df.drop(['Neighbourhood','pred_kmeans'],axis=1),id_vars='pred_agg',var_name='parameters',value_name='values')\n",
        "df2.head()"
      ],
      "execution_count": null,
      "outputs": [
        {
          "output_type": "execute_result",
          "data": {
            "text/html": [
              "<div>\n",
              "<style scoped>\n",
              "    .dataframe tbody tr th:only-of-type {\n",
              "        vertical-align: middle;\n",
              "    }\n",
              "\n",
              "    .dataframe tbody tr th {\n",
              "        vertical-align: top;\n",
              "    }\n",
              "\n",
              "    .dataframe thead th {\n",
              "        text-align: right;\n",
              "    }\n",
              "</style>\n",
              "<table border=\"1\" class=\"dataframe\">\n",
              "  <thead>\n",
              "    <tr style=\"text-align: right;\">\n",
              "      <th></th>\n",
              "      <th>pred_agg</th>\n",
              "      <th>parameters</th>\n",
              "      <th>values</th>\n",
              "    </tr>\n",
              "  </thead>\n",
              "  <tbody>\n",
              "    <tr>\n",
              "      <th>0</th>\n",
              "      <td>1</td>\n",
              "      <td>Break and Enter Commercial</td>\n",
              "      <td>0.032927</td>\n",
              "    </tr>\n",
              "    <tr>\n",
              "      <th>1</th>\n",
              "      <td>2</td>\n",
              "      <td>Break and Enter Commercial</td>\n",
              "      <td>1.000000</td>\n",
              "    </tr>\n",
              "    <tr>\n",
              "      <th>2</th>\n",
              "      <td>1</td>\n",
              "      <td>Break and Enter Commercial</td>\n",
              "      <td>0.029613</td>\n",
              "    </tr>\n",
              "    <tr>\n",
              "      <th>3</th>\n",
              "      <td>0</td>\n",
              "      <td>Break and Enter Commercial</td>\n",
              "      <td>0.351294</td>\n",
              "    </tr>\n",
              "    <tr>\n",
              "      <th>4</th>\n",
              "      <td>0</td>\n",
              "      <td>Break and Enter Commercial</td>\n",
              "      <td>0.220761</td>\n",
              "    </tr>\n",
              "  </tbody>\n",
              "</table>\n",
              "</div>"
            ],
            "text/plain": [
              "   pred_agg                  parameters    values\n",
              "0         1  Break and Enter Commercial  0.032927\n",
              "1         2  Break and Enter Commercial  1.000000\n",
              "2         1  Break and Enter Commercial  0.029613\n",
              "3         0  Break and Enter Commercial  0.351294\n",
              "4         0  Break and Enter Commercial  0.220761"
            ]
          },
          "metadata": {
            "tags": []
          },
          "execution_count": 132
        }
      ]
    },
    {
      "cell_type": "code",
      "metadata": {
        "id": "pon-1LEBCQ9Y",
        "colab": {
          "base_uri": "https://localhost:8080/",
          "height": 1000
        },
        "outputId": "9a22eddc-e738-4a1f-eff9-ec1dffca8daa"
      },
      "source": [
        "sns.factorplot(data=df2,y='values',x='pred_agg',col='parameters',kind='box',sharey=False, col_wrap = 3)"
      ],
      "execution_count": null,
      "outputs": [
        {
          "output_type": "stream",
          "text": [
            "/usr/local/lib/python3.7/dist-packages/seaborn/categorical.py:3714: UserWarning: The `factorplot` function has been renamed to `catplot`. The original name will be removed in a future release. Please update your code. Note that the default `kind` in `factorplot` (`'point'`) has changed `'strip'` in `catplot`.\n",
            "  warnings.warn(msg)\n"
          ],
          "name": "stderr"
        },
        {
          "output_type": "execute_result",
          "data": {
            "text/plain": [
              "<seaborn.axisgrid.FacetGrid at 0x7f4ee11c9a90>"
            ]
          },
          "metadata": {
            "tags": []
          },
          "execution_count": 133
        },
        {
          "output_type": "display_data",
          "data": {
            "image/png": "[encoded data removed]",
            "text/plain": [
              "<Figure size 1080x1080 with 9 Axes>"
            ]
          },
          "metadata": {
            "tags": [],
            "needs_background": "light"
          }
        }
      ]
    },
    {
      "cell_type": "code",
      "metadata": {
        "id": "mGRnVD6nCjwi"
      },
      "source": [
        "X = df.iloc[:, [1,10]].values\n",
        "\n",
        "fcmf = FCM(3)\n",
        "fcmf.fit(X)\n",
        "pred_fcm = fcmf.predict(X)\n",
        "df['pred_fcm'] = pred_fcm"
      ],
      "execution_count": null,
      "outputs": []
    },
    {
      "cell_type": "code",
      "metadata": {
        "colab": {
          "base_uri": "https://localhost:8080/",
          "height": 395
        },
        "id": "cn5kxsarEC_L",
        "outputId": "88e9a407-f198-469b-eb1c-e8cebba6980c"
      },
      "source": [
        "df.head()"
      ],
      "execution_count": null,
      "outputs": [
        {
          "output_type": "execute_result",
          "data": {
            "text/html": [
              "<div>\n",
              "<style scoped>\n",
              "    .dataframe tbody tr th:only-of-type {\n",
              "        vertical-align: middle;\n",
              "    }\n",
              "\n",
              "    .dataframe tbody tr th {\n",
              "        vertical-align: top;\n",
              "    }\n",
              "\n",
              "    .dataframe thead th {\n",
              "        text-align: right;\n",
              "    }\n",
              "</style>\n",
              "<table border=\"1\" class=\"dataframe\">\n",
              "  <thead>\n",
              "    <tr style=\"text-align: right;\">\n",
              "      <th></th>\n",
              "      <th>Neighbourhood</th>\n",
              "      <th>Break and Enter Commercial</th>\n",
              "      <th>Break and Enter Residential/Other</th>\n",
              "      <th>Mischief</th>\n",
              "      <th>Other Theft</th>\n",
              "      <th>Theft from Vehicle</th>\n",
              "      <th>Theft of Bicycle</th>\n",
              "      <th>Theft of Vehicle</th>\n",
              "      <th>Vehicle Collision or Pedestrian Struck (with Fatality)</th>\n",
              "      <th>Vehicle Collision or Pedestrian Struck (with Injury)</th>\n",
              "      <th>pred_kmeans</th>\n",
              "      <th>pred_agg</th>\n",
              "      <th>pred_fcm</th>\n",
              "    </tr>\n",
              "  </thead>\n",
              "  <tbody>\n",
              "    <tr>\n",
              "      <th>0</th>\n",
              "      <td>Arbutus Ridge</td>\n",
              "      <td>0.032927</td>\n",
              "      <td>0.361124</td>\n",
              "      <td>0.050097</td>\n",
              "      <td>0.017461</td>\n",
              "      <td>0.034215</td>\n",
              "      <td>0.022174</td>\n",
              "      <td>0.115191</td>\n",
              "      <td>0.050</td>\n",
              "      <td>0.072228</td>\n",
              "      <td>0</td>\n",
              "      <td>1</td>\n",
              "      <td>0</td>\n",
              "    </tr>\n",
              "    <tr>\n",
              "      <th>1</th>\n",
              "      <td>Central Business District</td>\n",
              "      <td>1.000000</td>\n",
              "      <td>0.773034</td>\n",
              "      <td>1.000000</td>\n",
              "      <td>1.000000</td>\n",
              "      <td>1.000000</td>\n",
              "      <td>1.000000</td>\n",
              "      <td>1.000000</td>\n",
              "      <td>1.000</td>\n",
              "      <td>1.000000</td>\n",
              "      <td>2</td>\n",
              "      <td>2</td>\n",
              "      <td>2</td>\n",
              "    </tr>\n",
              "    <tr>\n",
              "      <th>2</th>\n",
              "      <td>Dunbar-Southlands</td>\n",
              "      <td>0.029613</td>\n",
              "      <td>0.400449</td>\n",
              "      <td>0.073636</td>\n",
              "      <td>0.012472</td>\n",
              "      <td>0.056125</td>\n",
              "      <td>0.033768</td>\n",
              "      <td>0.148139</td>\n",
              "      <td>0.050</td>\n",
              "      <td>0.067114</td>\n",
              "      <td>0</td>\n",
              "      <td>1</td>\n",
              "      <td>0</td>\n",
              "    </tr>\n",
              "    <tr>\n",
              "      <th>3</th>\n",
              "      <td>Fairview</td>\n",
              "      <td>0.351294</td>\n",
              "      <td>0.846966</td>\n",
              "      <td>0.186625</td>\n",
              "      <td>0.169828</td>\n",
              "      <td>0.245197</td>\n",
              "      <td>0.490870</td>\n",
              "      <td>0.502264</td>\n",
              "      <td>0.325</td>\n",
              "      <td>0.358261</td>\n",
              "      <td>1</td>\n",
              "      <td>0</td>\n",
              "      <td>1</td>\n",
              "    </tr>\n",
              "    <tr>\n",
              "      <th>4</th>\n",
              "      <td>Grandview-Woodland</td>\n",
              "      <td>0.220761</td>\n",
              "      <td>1.000000</td>\n",
              "      <td>0.293699</td>\n",
              "      <td>0.130281</td>\n",
              "      <td>0.149102</td>\n",
              "      <td>0.202319</td>\n",
              "      <td>0.772384</td>\n",
              "      <td>0.200</td>\n",
              "      <td>0.377437</td>\n",
              "      <td>1</td>\n",
              "      <td>0</td>\n",
              "      <td>1</td>\n",
              "    </tr>\n",
              "  </tbody>\n",
              "</table>\n",
              "</div>"
            ],
            "text/plain": [
              "               Neighbourhood  Break and Enter Commercial  ...  pred_agg  pred_fcm\n",
              "0              Arbutus Ridge                    0.032927  ...         1         0\n",
              "1  Central Business District                    1.000000  ...         2         2\n",
              "2          Dunbar-Southlands                    0.029613  ...         1         0\n",
              "3                   Fairview                    0.351294  ...         0         1\n",
              "4         Grandview-Woodland                    0.220761  ...         0         1\n",
              "\n",
              "[5 rows x 13 columns]"
            ]
          },
          "metadata": {
            "tags": []
          },
          "execution_count": 135
        }
      ]
    },
    {
      "cell_type": "code",
      "metadata": {
        "colab": {
          "base_uri": "https://localhost:8080/",
          "height": 202
        },
        "id": "rB8fFHpDEyFX",
        "outputId": "cdd24c88-ffd9-4c46-f955-5a9eea2aabb2"
      },
      "source": [
        "df3 = pd.melt(frame=df.drop(['Neighbourhood', 'pred_kmeans', 'pred_agg'],axis=1),id_vars='pred_fcm',var_name='parameters',value_name='values')\n",
        "df3.head()"
      ],
      "execution_count": null,
      "outputs": [
        {
          "output_type": "execute_result",
          "data": {
            "text/html": [
              "<div>\n",
              "<style scoped>\n",
              "    .dataframe tbody tr th:only-of-type {\n",
              "        vertical-align: middle;\n",
              "    }\n",
              "\n",
              "    .dataframe tbody tr th {\n",
              "        vertical-align: top;\n",
              "    }\n",
              "\n",
              "    .dataframe thead th {\n",
              "        text-align: right;\n",
              "    }\n",
              "</style>\n",
              "<table border=\"1\" class=\"dataframe\">\n",
              "  <thead>\n",
              "    <tr style=\"text-align: right;\">\n",
              "      <th></th>\n",
              "      <th>pred_fcm</th>\n",
              "      <th>parameters</th>\n",
              "      <th>values</th>\n",
              "    </tr>\n",
              "  </thead>\n",
              "  <tbody>\n",
              "    <tr>\n",
              "      <th>0</th>\n",
              "      <td>0</td>\n",
              "      <td>Break and Enter Commercial</td>\n",
              "      <td>0.032927</td>\n",
              "    </tr>\n",
              "    <tr>\n",
              "      <th>1</th>\n",
              "      <td>2</td>\n",
              "      <td>Break and Enter Commercial</td>\n",
              "      <td>1.000000</td>\n",
              "    </tr>\n",
              "    <tr>\n",
              "      <th>2</th>\n",
              "      <td>0</td>\n",
              "      <td>Break and Enter Commercial</td>\n",
              "      <td>0.029613</td>\n",
              "    </tr>\n",
              "    <tr>\n",
              "      <th>3</th>\n",
              "      <td>1</td>\n",
              "      <td>Break and Enter Commercial</td>\n",
              "      <td>0.351294</td>\n",
              "    </tr>\n",
              "    <tr>\n",
              "      <th>4</th>\n",
              "      <td>1</td>\n",
              "      <td>Break and Enter Commercial</td>\n",
              "      <td>0.220761</td>\n",
              "    </tr>\n",
              "  </tbody>\n",
              "</table>\n",
              "</div>"
            ],
            "text/plain": [
              "   pred_fcm                  parameters    values\n",
              "0         0  Break and Enter Commercial  0.032927\n",
              "1         2  Break and Enter Commercial  1.000000\n",
              "2         0  Break and Enter Commercial  0.029613\n",
              "3         1  Break and Enter Commercial  0.351294\n",
              "4         1  Break and Enter Commercial  0.220761"
            ]
          },
          "metadata": {
            "tags": []
          },
          "execution_count": 136
        }
      ]
    },
    {
      "cell_type": "code",
      "metadata": {
        "colab": {
          "base_uri": "https://localhost:8080/",
          "height": 1000
        },
        "id": "o4WJDorwFJU3",
        "outputId": "21af81b9-4e98-4aa5-eaed-54f67e7c88da"
      },
      "source": [
        "sns.factorplot(data = df3, y = 'values', x = 'pred_fcm', col = 'parameters', kind = 'box', sharey = False, col_wrap = 3)"
      ],
      "execution_count": null,
      "outputs": [
        {
          "output_type": "stream",
          "text": [
            "/usr/local/lib/python3.7/dist-packages/seaborn/categorical.py:3714: UserWarning: The `factorplot` function has been renamed to `catplot`. The original name will be removed in a future release. Please update your code. Note that the default `kind` in `factorplot` (`'point'`) has changed `'strip'` in `catplot`.\n",
            "  warnings.warn(msg)\n"
          ],
          "name": "stderr"
        },
        {
          "output_type": "execute_result",
          "data": {
            "text/plain": [
              "<seaborn.axisgrid.FacetGrid at 0x7f4ee0caea10>"
            ]
          },
          "metadata": {
            "tags": []
          },
          "execution_count": 137
        },
        {
          "output_type": "display_data",
          "data": {
            "image/png": "[encoded data removed]",
            "text/plain": [
              "<Figure size 1080x1080 with 9 Axes>"
            ]
          },
          "metadata": {
            "tags": [],
            "needs_background": "light"
          }
        }
      ]
    },
    {
      "cell_type": "markdown",
      "metadata": {
        "id": "m6xs59QfF7-m"
      },
      "source": [
        ">We see that all the algorithms, KMeans Clustering, Agglomerative Clustering and Fuzzy C-means have exactly the same value range for  each of the feature/category, suggesting that the clustering happened perfectly and as expected.\n",
        "\n",
        ">Upon observating the boxplots we can conclude that one cluster contains values with higher crime rate followed by moderate and low crime rate respectively for other clusters"
      ]
    },
    {
      "cell_type": "markdown",
      "metadata": {
        "id": "OWlD9tjhquUJ"
      },
      "source": [
        "## Map - Visualization"
      ]
    },
    {
      "cell_type": "code",
      "metadata": {
        "colab": {
          "base_uri": "https://localhost:8080/",
          "height": 395
        },
        "id": "_aY58jIAuRss",
        "outputId": "b18786ee-0b11-48a4-ec6a-c63cd0bf6cf2"
      },
      "source": [
        "df['Lat-Long'] = dfc['Lat-Long']\n",
        "df.head()"
      ],
      "execution_count": null,
      "outputs": [
        {
          "output_type": "execute_result",
          "data": {
            "text/html": [
              "<div>\n",
              "<style scoped>\n",
              "    .dataframe tbody tr th:only-of-type {\n",
              "        vertical-align: middle;\n",
              "    }\n",
              "\n",
              "    .dataframe tbody tr th {\n",
              "        vertical-align: top;\n",
              "    }\n",
              "\n",
              "    .dataframe thead th {\n",
              "        text-align: right;\n",
              "    }\n",
              "</style>\n",
              "<table border=\"1\" class=\"dataframe\">\n",
              "  <thead>\n",
              "    <tr style=\"text-align: right;\">\n",
              "      <th></th>\n",
              "      <th>Neighbourhood</th>\n",
              "      <th>Break and Enter Commercial</th>\n",
              "      <th>Break and Enter Residential/Other</th>\n",
              "      <th>Mischief</th>\n",
              "      <th>Other Theft</th>\n",
              "      <th>Theft from Vehicle</th>\n",
              "      <th>Theft of Bicycle</th>\n",
              "      <th>Theft of Vehicle</th>\n",
              "      <th>Vehicle Collision or Pedestrian Struck (with Fatality)</th>\n",
              "      <th>Vehicle Collision or Pedestrian Struck (with Injury)</th>\n",
              "      <th>pred_kmeans</th>\n",
              "      <th>pred_agg</th>\n",
              "      <th>pred_fcm</th>\n",
              "      <th>Lat-Long</th>\n",
              "    </tr>\n",
              "  </thead>\n",
              "  <tbody>\n",
              "    <tr>\n",
              "      <th>0</th>\n",
              "      <td>Arbutus Ridge</td>\n",
              "      <td>0.032927</td>\n",
              "      <td>0.361124</td>\n",
              "      <td>0.050097</td>\n",
              "      <td>0.017461</td>\n",
              "      <td>0.034215</td>\n",
              "      <td>0.022174</td>\n",
              "      <td>0.115191</td>\n",
              "      <td>0.050</td>\n",
              "      <td>0.072228</td>\n",
              "      <td>0</td>\n",
              "      <td>1</td>\n",
              "      <td>0</td>\n",
              "      <td>(49.25484525,-123.160674)</td>\n",
              "    </tr>\n",
              "    <tr>\n",
              "      <th>1</th>\n",
              "      <td>Central Business District</td>\n",
              "      <td>1.000000</td>\n",
              "      <td>0.773034</td>\n",
              "      <td>1.000000</td>\n",
              "      <td>1.000000</td>\n",
              "      <td>1.000000</td>\n",
              "      <td>1.000000</td>\n",
              "      <td>1.000000</td>\n",
              "      <td>1.000</td>\n",
              "      <td>1.000000</td>\n",
              "      <td>2</td>\n",
              "      <td>2</td>\n",
              "      <td>2</td>\n",
              "      <td>(49.2857901,-123.115764)</td>\n",
              "    </tr>\n",
              "    <tr>\n",
              "      <th>2</th>\n",
              "      <td>Dunbar-Southlands</td>\n",
              "      <td>0.029613</td>\n",
              "      <td>0.400449</td>\n",
              "      <td>0.073636</td>\n",
              "      <td>0.012472</td>\n",
              "      <td>0.056125</td>\n",
              "      <td>0.033768</td>\n",
              "      <td>0.148139</td>\n",
              "      <td>0.050</td>\n",
              "      <td>0.067114</td>\n",
              "      <td>0</td>\n",
              "      <td>1</td>\n",
              "      <td>0</td>\n",
              "      <td>(49.25062249,-123.1852799)</td>\n",
              "    </tr>\n",
              "    <tr>\n",
              "      <th>3</th>\n",
              "      <td>Fairview</td>\n",
              "      <td>0.351294</td>\n",
              "      <td>0.846966</td>\n",
              "      <td>0.186625</td>\n",
              "      <td>0.169828</td>\n",
              "      <td>0.245197</td>\n",
              "      <td>0.490870</td>\n",
              "      <td>0.502264</td>\n",
              "      <td>0.325</td>\n",
              "      <td>0.358261</td>\n",
              "      <td>1</td>\n",
              "      <td>0</td>\n",
              "      <td>1</td>\n",
              "      <td>(49.26736012,-123.1292449)</td>\n",
              "    </tr>\n",
              "    <tr>\n",
              "      <th>4</th>\n",
              "      <td>Grandview-Woodland</td>\n",
              "      <td>0.220761</td>\n",
              "      <td>1.000000</td>\n",
              "      <td>0.293699</td>\n",
              "      <td>0.130281</td>\n",
              "      <td>0.149102</td>\n",
              "      <td>0.202319</td>\n",
              "      <td>0.772384</td>\n",
              "      <td>0.200</td>\n",
              "      <td>0.377437</td>\n",
              "      <td>1</td>\n",
              "      <td>0</td>\n",
              "      <td>1</td>\n",
              "      <td>(49.27475329,-123.0673365)</td>\n",
              "    </tr>\n",
              "  </tbody>\n",
              "</table>\n",
              "</div>"
            ],
            "text/plain": [
              "               Neighbourhood  ...                    Lat-Long\n",
              "0              Arbutus Ridge  ...   (49.25484525,-123.160674)\n",
              "1  Central Business District  ...    (49.2857901,-123.115764)\n",
              "2          Dunbar-Southlands  ...  (49.25062249,-123.1852799)\n",
              "3                   Fairview  ...  (49.26736012,-123.1292449)\n",
              "4         Grandview-Woodland  ...  (49.27475329,-123.0673365)\n",
              "\n",
              "[5 rows x 14 columns]"
            ]
          },
          "metadata": {
            "tags": []
          },
          "execution_count": 138
        }
      ]
    },
    {
      "cell_type": "code",
      "metadata": {
        "id": "kHuhSylC6Y9D",
        "colab": {
          "base_uri": "https://localhost:8080/",
          "height": 606
        },
        "outputId": "2de64688-82c0-4e4d-e3e2-6c9809b1ffdf"
      },
      "source": [
        "df[df['pred_kmeans']==0]"
      ],
      "execution_count": null,
      "outputs": [
        {
          "output_type": "execute_result",
          "data": {
            "text/html": [
              "<div>\n",
              "<style scoped>\n",
              "    .dataframe tbody tr th:only-of-type {\n",
              "        vertical-align: middle;\n",
              "    }\n",
              "\n",
              "    .dataframe tbody tr th {\n",
              "        vertical-align: top;\n",
              "    }\n",
              "\n",
              "    .dataframe thead th {\n",
              "        text-align: right;\n",
              "    }\n",
              "</style>\n",
              "<table border=\"1\" class=\"dataframe\">\n",
              "  <thead>\n",
              "    <tr style=\"text-align: right;\">\n",
              "      <th></th>\n",
              "      <th>Neighbourhood</th>\n",
              "      <th>Break and Enter Commercial</th>\n",
              "      <th>Break and Enter Residential/Other</th>\n",
              "      <th>Mischief</th>\n",
              "      <th>Other Theft</th>\n",
              "      <th>Theft from Vehicle</th>\n",
              "      <th>Theft of Bicycle</th>\n",
              "      <th>Theft of Vehicle</th>\n",
              "      <th>Vehicle Collision or Pedestrian Struck (with Fatality)</th>\n",
              "      <th>Vehicle Collision or Pedestrian Struck (with Injury)</th>\n",
              "      <th>pred_kmeans</th>\n",
              "      <th>pred_agg</th>\n",
              "      <th>pred_fcm</th>\n",
              "      <th>Lat-Long</th>\n",
              "    </tr>\n",
              "  </thead>\n",
              "  <tbody>\n",
              "    <tr>\n",
              "      <th>0</th>\n",
              "      <td>Arbutus Ridge</td>\n",
              "      <td>0.032927</td>\n",
              "      <td>0.361124</td>\n",
              "      <td>0.050097</td>\n",
              "      <td>0.017461</td>\n",
              "      <td>0.034215</td>\n",
              "      <td>0.022174</td>\n",
              "      <td>0.115191</td>\n",
              "      <td>0.050</td>\n",
              "      <td>0.072228</td>\n",
              "      <td>0</td>\n",
              "      <td>1</td>\n",
              "      <td>0</td>\n",
              "      <td>(49.25484525,-123.160674)</td>\n",
              "    </tr>\n",
              "    <tr>\n",
              "      <th>2</th>\n",
              "      <td>Dunbar-Southlands</td>\n",
              "      <td>0.029613</td>\n",
              "      <td>0.400449</td>\n",
              "      <td>0.073636</td>\n",
              "      <td>0.012472</td>\n",
              "      <td>0.056125</td>\n",
              "      <td>0.033768</td>\n",
              "      <td>0.148139</td>\n",
              "      <td>0.050</td>\n",
              "      <td>0.067114</td>\n",
              "      <td>0</td>\n",
              "      <td>1</td>\n",
              "      <td>0</td>\n",
              "      <td>(49.25062249,-123.1852799)</td>\n",
              "    </tr>\n",
              "    <tr>\n",
              "      <th>7</th>\n",
              "      <td>Kerrisdale</td>\n",
              "      <td>0.033034</td>\n",
              "      <td>0.395730</td>\n",
              "      <td>0.057038</td>\n",
              "      <td>0.013719</td>\n",
              "      <td>0.054158</td>\n",
              "      <td>0.024928</td>\n",
              "      <td>0.127515</td>\n",
              "      <td>0.150</td>\n",
              "      <td>0.122723</td>\n",
              "      <td>0</td>\n",
              "      <td>1</td>\n",
              "      <td>0</td>\n",
              "      <td>(49.23550641,-123.1556061)</td>\n",
              "    </tr>\n",
              "    <tr>\n",
              "      <th>8</th>\n",
              "      <td>Killarney</td>\n",
              "      <td>0.030468</td>\n",
              "      <td>0.464045</td>\n",
              "      <td>0.100012</td>\n",
              "      <td>0.012680</td>\n",
              "      <td>0.078956</td>\n",
              "      <td>0.022609</td>\n",
              "      <td>0.317404</td>\n",
              "      <td>0.275</td>\n",
              "      <td>0.163311</td>\n",
              "      <td>0</td>\n",
              "      <td>1</td>\n",
              "      <td>0</td>\n",
              "      <td>(49.22129651,-123.0385735)</td>\n",
              "    </tr>\n",
              "    <tr>\n",
              "      <th>10</th>\n",
              "      <td>Marpole</td>\n",
              "      <td>0.115566</td>\n",
              "      <td>0.553258</td>\n",
              "      <td>0.108704</td>\n",
              "      <td>0.031752</td>\n",
              "      <td>0.082325</td>\n",
              "      <td>0.032609</td>\n",
              "      <td>0.396630</td>\n",
              "      <td>0.225</td>\n",
              "      <td>0.278683</td>\n",
              "      <td>0</td>\n",
              "      <td>1</td>\n",
              "      <td>0</td>\n",
              "      <td>(49.21087024,-123.12959)</td>\n",
              "    </tr>\n",
              "    <tr>\n",
              "      <th>12</th>\n",
              "      <td>Musqueam</td>\n",
              "      <td>0.000000</td>\n",
              "      <td>0.004719</td>\n",
              "      <td>0.000000</td>\n",
              "      <td>0.000000</td>\n",
              "      <td>0.000000</td>\n",
              "      <td>0.000000</td>\n",
              "      <td>0.000000</td>\n",
              "      <td>0.000</td>\n",
              "      <td>0.000000</td>\n",
              "      <td>0</td>\n",
              "      <td>1</td>\n",
              "      <td>0</td>\n",
              "      <td>(49.23292287,-123.202673)</td>\n",
              "    </tr>\n",
              "    <tr>\n",
              "      <th>13</th>\n",
              "      <td>Oakridge</td>\n",
              "      <td>0.033675</td>\n",
              "      <td>0.454831</td>\n",
              "      <td>0.047380</td>\n",
              "      <td>0.061061</td>\n",
              "      <td>0.043381</td>\n",
              "      <td>0.023913</td>\n",
              "      <td>0.158199</td>\n",
              "      <td>0.125</td>\n",
              "      <td>0.113455</td>\n",
              "      <td>0</td>\n",
              "      <td>1</td>\n",
              "      <td>0</td>\n",
              "      <td>(49.22597502,-123.1166219)</td>\n",
              "    </tr>\n",
              "    <tr>\n",
              "      <th>15</th>\n",
              "      <td>Riley Park</td>\n",
              "      <td>0.088839</td>\n",
              "      <td>0.593483</td>\n",
              "      <td>0.102064</td>\n",
              "      <td>0.021254</td>\n",
              "      <td>0.084795</td>\n",
              "      <td>0.088986</td>\n",
              "      <td>0.290996</td>\n",
              "      <td>0.075</td>\n",
              "      <td>0.195590</td>\n",
              "      <td>0</td>\n",
              "      <td>1</td>\n",
              "      <td>0</td>\n",
              "      <td>(49.24082278,-123.1016128)</td>\n",
              "    </tr>\n",
              "    <tr>\n",
              "      <th>16</th>\n",
              "      <td>Shaughnessy</td>\n",
              "      <td>0.011973</td>\n",
              "      <td>0.384045</td>\n",
              "      <td>0.031929</td>\n",
              "      <td>0.001247</td>\n",
              "      <td>0.032478</td>\n",
              "      <td>0.019130</td>\n",
              "      <td>0.083249</td>\n",
              "      <td>0.150</td>\n",
              "      <td>0.166187</td>\n",
              "      <td>0</td>\n",
              "      <td>1</td>\n",
              "      <td>0</td>\n",
              "      <td>(49.24652249,-123.1413935)</td>\n",
              "    </tr>\n",
              "    <tr>\n",
              "      <th>17</th>\n",
              "      <td>South Cambie</td>\n",
              "      <td>0.031751</td>\n",
              "      <td>0.234607</td>\n",
              "      <td>0.030299</td>\n",
              "      <td>0.039391</td>\n",
              "      <td>0.027456</td>\n",
              "      <td>0.031014</td>\n",
              "      <td>0.099346</td>\n",
              "      <td>0.025</td>\n",
              "      <td>0.056887</td>\n",
              "      <td>0</td>\n",
              "      <td>1</td>\n",
              "      <td>0</td>\n",
              "      <td>(49.24518588,-123.1219242)</td>\n",
              "    </tr>\n",
              "    <tr>\n",
              "      <th>18</th>\n",
              "      <td>Stanley Park</td>\n",
              "      <td>0.005880</td>\n",
              "      <td>0.000000</td>\n",
              "      <td>0.008571</td>\n",
              "      <td>0.000624</td>\n",
              "      <td>0.055476</td>\n",
              "      <td>0.030000</td>\n",
              "      <td>0.008551</td>\n",
              "      <td>0.125</td>\n",
              "      <td>0.050495</td>\n",
              "      <td>0</td>\n",
              "      <td>1</td>\n",
              "      <td>0</td>\n",
              "      <td>(49.30441928,-123.144338)</td>\n",
              "    </tr>\n",
              "    <tr>\n",
              "      <th>21</th>\n",
              "      <td>Victoria-Fraserview</td>\n",
              "      <td>0.039448</td>\n",
              "      <td>0.546966</td>\n",
              "      <td>0.100012</td>\n",
              "      <td>0.025048</td>\n",
              "      <td>0.066400</td>\n",
              "      <td>0.018116</td>\n",
              "      <td>0.335010</td>\n",
              "      <td>0.225</td>\n",
              "      <td>0.232343</td>\n",
              "      <td>0</td>\n",
              "      <td>1</td>\n",
              "      <td>0</td>\n",
              "      <td>(49.21859145,-123.0661391)</td>\n",
              "    </tr>\n",
              "    <tr>\n",
              "      <th>23</th>\n",
              "      <td>West Point Grey</td>\n",
              "      <td>0.033569</td>\n",
              "      <td>0.277303</td>\n",
              "      <td>0.046777</td>\n",
              "      <td>0.013459</td>\n",
              "      <td>0.036705</td>\n",
              "      <td>0.052899</td>\n",
              "      <td>0.103119</td>\n",
              "      <td>0.075</td>\n",
              "      <td>0.078619</td>\n",
              "      <td>0</td>\n",
              "      <td>1</td>\n",
              "      <td>0</td>\n",
              "      <td>(49.26096227,-123.2019571)</td>\n",
              "    </tr>\n",
              "  </tbody>\n",
              "</table>\n",
              "</div>"
            ],
            "text/plain": [
              "          Neighbourhood  ...                    Lat-Long\n",
              "0         Arbutus Ridge  ...   (49.25484525,-123.160674)\n",
              "2     Dunbar-Southlands  ...  (49.25062249,-123.1852799)\n",
              "7            Kerrisdale  ...  (49.23550641,-123.1556061)\n",
              "8             Killarney  ...  (49.22129651,-123.0385735)\n",
              "10              Marpole  ...    (49.21087024,-123.12959)\n",
              "12             Musqueam  ...   (49.23292287,-123.202673)\n",
              "13             Oakridge  ...  (49.22597502,-123.1166219)\n",
              "15           Riley Park  ...  (49.24082278,-123.1016128)\n",
              "16          Shaughnessy  ...  (49.24652249,-123.1413935)\n",
              "17         South Cambie  ...  (49.24518588,-123.1219242)\n",
              "18         Stanley Park  ...   (49.30441928,-123.144338)\n",
              "21  Victoria-Fraserview  ...  (49.21859145,-123.0661391)\n",
              "23      West Point Grey  ...  (49.26096227,-123.2019571)\n",
              "\n",
              "[13 rows x 14 columns]"
            ]
          },
          "metadata": {
            "tags": []
          },
          "execution_count": 139
        }
      ]
    },
    {
      "cell_type": "code",
      "metadata": {
        "id": "gCXIBBd1-TGs",
        "colab": {
          "base_uri": "https://localhost:8080/",
          "height": 413
        },
        "outputId": "8837312c-82a5-4ec2-f23e-a8c3365e0b9a"
      },
      "source": [
        "# Renaming the clusters as discussed before\n",
        "df['pred_kmeans_label']=df.pred_kmeans.map({0:'Low Crime Rate', 1:'Moderate Crime Rate', 2:'High Crime Rate'})\n",
        "df.head()"
      ],
      "execution_count": null,
      "outputs": [
        {
          "output_type": "execute_result",
          "data": {
            "text/html": [
              "<div>\n",
              "<style scoped>\n",
              "    .dataframe tbody tr th:only-of-type {\n",
              "        vertical-align: middle;\n",
              "    }\n",
              "\n",
              "    .dataframe tbody tr th {\n",
              "        vertical-align: top;\n",
              "    }\n",
              "\n",
              "    .dataframe thead th {\n",
              "        text-align: right;\n",
              "    }\n",
              "</style>\n",
              "<table border=\"1\" class=\"dataframe\">\n",
              "  <thead>\n",
              "    <tr style=\"text-align: right;\">\n",
              "      <th></th>\n",
              "      <th>Neighbourhood</th>\n",
              "      <th>Break and Enter Commercial</th>\n",
              "      <th>Break and Enter Residential/Other</th>\n",
              "      <th>Mischief</th>\n",
              "      <th>Other Theft</th>\n",
              "      <th>Theft from Vehicle</th>\n",
              "      <th>Theft of Bicycle</th>\n",
              "      <th>Theft of Vehicle</th>\n",
              "      <th>Vehicle Collision or Pedestrian Struck (with Fatality)</th>\n",
              "      <th>Vehicle Collision or Pedestrian Struck (with Injury)</th>\n",
              "      <th>pred_kmeans</th>\n",
              "      <th>pred_agg</th>\n",
              "      <th>pred_fcm</th>\n",
              "      <th>Lat-Long</th>\n",
              "      <th>pred_kmeans_label</th>\n",
              "    </tr>\n",
              "  </thead>\n",
              "  <tbody>\n",
              "    <tr>\n",
              "      <th>0</th>\n",
              "      <td>Arbutus Ridge</td>\n",
              "      <td>0.032927</td>\n",
              "      <td>0.361124</td>\n",
              "      <td>0.050097</td>\n",
              "      <td>0.017461</td>\n",
              "      <td>0.034215</td>\n",
              "      <td>0.022174</td>\n",
              "      <td>0.115191</td>\n",
              "      <td>0.050</td>\n",
              "      <td>0.072228</td>\n",
              "      <td>0</td>\n",
              "      <td>1</td>\n",
              "      <td>0</td>\n",
              "      <td>(49.25484525,-123.160674)</td>\n",
              "      <td>Low Crime Rate</td>\n",
              "    </tr>\n",
              "    <tr>\n",
              "      <th>1</th>\n",
              "      <td>Central Business District</td>\n",
              "      <td>1.000000</td>\n",
              "      <td>0.773034</td>\n",
              "      <td>1.000000</td>\n",
              "      <td>1.000000</td>\n",
              "      <td>1.000000</td>\n",
              "      <td>1.000000</td>\n",
              "      <td>1.000000</td>\n",
              "      <td>1.000</td>\n",
              "      <td>1.000000</td>\n",
              "      <td>2</td>\n",
              "      <td>2</td>\n",
              "      <td>2</td>\n",
              "      <td>(49.2857901,-123.115764)</td>\n",
              "      <td>High Crime Rate</td>\n",
              "    </tr>\n",
              "    <tr>\n",
              "      <th>2</th>\n",
              "      <td>Dunbar-Southlands</td>\n",
              "      <td>0.029613</td>\n",
              "      <td>0.400449</td>\n",
              "      <td>0.073636</td>\n",
              "      <td>0.012472</td>\n",
              "      <td>0.056125</td>\n",
              "      <td>0.033768</td>\n",
              "      <td>0.148139</td>\n",
              "      <td>0.050</td>\n",
              "      <td>0.067114</td>\n",
              "      <td>0</td>\n",
              "      <td>1</td>\n",
              "      <td>0</td>\n",
              "      <td>(49.25062249,-123.1852799)</td>\n",
              "      <td>Low Crime Rate</td>\n",
              "    </tr>\n",
              "    <tr>\n",
              "      <th>3</th>\n",
              "      <td>Fairview</td>\n",
              "      <td>0.351294</td>\n",
              "      <td>0.846966</td>\n",
              "      <td>0.186625</td>\n",
              "      <td>0.169828</td>\n",
              "      <td>0.245197</td>\n",
              "      <td>0.490870</td>\n",
              "      <td>0.502264</td>\n",
              "      <td>0.325</td>\n",
              "      <td>0.358261</td>\n",
              "      <td>1</td>\n",
              "      <td>0</td>\n",
              "      <td>1</td>\n",
              "      <td>(49.26736012,-123.1292449)</td>\n",
              "      <td>Moderate Crime Rate</td>\n",
              "    </tr>\n",
              "    <tr>\n",
              "      <th>4</th>\n",
              "      <td>Grandview-Woodland</td>\n",
              "      <td>0.220761</td>\n",
              "      <td>1.000000</td>\n",
              "      <td>0.293699</td>\n",
              "      <td>0.130281</td>\n",
              "      <td>0.149102</td>\n",
              "      <td>0.202319</td>\n",
              "      <td>0.772384</td>\n",
              "      <td>0.200</td>\n",
              "      <td>0.377437</td>\n",
              "      <td>1</td>\n",
              "      <td>0</td>\n",
              "      <td>1</td>\n",
              "      <td>(49.27475329,-123.0673365)</td>\n",
              "      <td>Moderate Crime Rate</td>\n",
              "    </tr>\n",
              "  </tbody>\n",
              "</table>\n",
              "</div>"
            ],
            "text/plain": [
              "               Neighbourhood  ...    pred_kmeans_label\n",
              "0              Arbutus Ridge  ...       Low Crime Rate\n",
              "1  Central Business District  ...      High Crime Rate\n",
              "2          Dunbar-Southlands  ...       Low Crime Rate\n",
              "3                   Fairview  ...  Moderate Crime Rate\n",
              "4         Grandview-Woodland  ...  Moderate Crime Rate\n",
              "\n",
              "[5 rows x 15 columns]"
            ]
          },
          "metadata": {
            "tags": []
          },
          "execution_count": 140
        }
      ]
    },
    {
      "cell_type": "code",
      "metadata": {
        "id": "6qguteZAtkSv"
      },
      "source": [
        "import math\n",
        "from ast import literal_eval\n",
        "def merc(Coords):\n",
        "    Coordinates = literal_eval(Coords)\n",
        "    \n",
        "    lat = Coordinates[0]\n",
        "    lon = Coordinates[1]\n",
        "\n",
        "    r_major = 6378137.000\n",
        "    \n",
        "    x = r_major * math.radians(lon)\n",
        "    scale = x/lon\n",
        "    y = 180.0/math.pi * math.log(math.tan(math.pi/4.0 + \n",
        "        lat * (math.pi/180.0)/2.0)) * scale\n",
        "    \n",
        "    return (x, y)"
      ],
      "execution_count": null,
      "outputs": []
    },
    {
      "cell_type": "code",
      "metadata": {
        "id": "9wB8aTBGu6H8"
      },
      "source": [
        "df['coords_x'] = df['Lat-Long'].apply(lambda x: merc(x)[0])\n",
        "df['coords_y'] = df['Lat-Long'].apply(lambda x: merc(x)[1])"
      ],
      "execution_count": null,
      "outputs": []
    },
    {
      "cell_type": "code",
      "metadata": {
        "id": "VwnJHPJlv7LE"
      },
      "source": [
        "def crime_color(cluster_number):\n",
        "  if cluster_number == 0:\n",
        "    return 'blue'\n",
        "  elif cluster_number == 1:\n",
        "    return 'gray'\n",
        "  elif cluster_number == 2:\n",
        "    return 'red'"
      ],
      "execution_count": null,
      "outputs": []
    },
    {
      "cell_type": "code",
      "metadata": {
        "colab": {
          "base_uri": "https://localhost:8080/",
          "height": 655
        },
        "id": "IsxbJ4op2TuW",
        "outputId": "ad7f6c9b-7f37-42ed-c308-e90123279853"
      },
      "source": [
        "from bokeh.plotting import ColumnDataSource, figure, show, output_notebook, output_file\n",
        "from bokeh.models import Text, HoverTool\n",
        "from bokeh.tile_providers import get_provider, Vendors\n",
        "\n",
        "df['Grand Total'] = dfc['Grand Total']\n",
        "\n",
        "x_list = list(df['coords_x'])\n",
        "y_list = list(df['coords_y'])\n",
        "cluster_list = list(df['pred_kmeans'])\n",
        "name = list(df['Neighbourhood'])\n",
        "count = list(df['Grand Total'])\n",
        "label = list(df['pred_kmeans_label'])\n",
        "\n",
        "print(count)\n",
        "\n",
        "sources = ColumnDataSource(data=dict(\n",
        "    xcor = x_list,\n",
        "    ycor = y_list,\n",
        "    neighbourhood_name = name,\n",
        "    crime_count = count,\n",
        "    tag = label,\n",
        "))\n",
        "\n",
        "hover = HoverTool(names=['ytd_ave'],\n",
        "    tooltips=[\n",
        "        (\"Neighbourhood: \", \"@neighbourhood_name\"),\n",
        "        (\"Crime Count: \", \"@crime_count\"),\n",
        "        (\"Tag: \", \"@tag\"),\n",
        "    ]\n",
        ")\n",
        "\n",
        "p = figure(x_axis_type=\"mercator\", y_axis_type=\"mercator\", title=\"Crime Hotspots in Vancouver\", tools=['pan', 'box_zoom', 'wheel_zoom', 'save',\n",
        "                                 'reset',hover])\n",
        "\n",
        "p.add_tile(get_provider(Vendors.CARTODBPOSITRON))\n",
        "\n",
        "p.circle('xcor', 'ycor', size = 20, source = sources, name='ytd_ave')\n",
        "\n",
        "for xcor, ycor, c in zip(x_list, y_list, cluster_list):\n",
        "  p.circle(x = xcor, y = ycor, size = 20, fill_color = crime_color(c))\n",
        "\n",
        "glyph = Text(x=\"xcor\", y=\"ycor\", text=\"neighbourhood_name\", text_color=\"#000000\", text_font_size = \"10px\", x_offset = -10, y_offset = 25)\n",
        "p.add_glyph(sources, glyph)\n",
        "\n",
        "output_notebook()\n",
        "show(p)"
      ],
      "execution_count": null,
      "outputs": [
        {
          "output_type": "stream",
          "text": [
            "[6066, 110947, 7746, 32161, 27180, 18126, 24941, 7447, 10475, 26699, 13083, 30536, 532, 8037, 26761, 12521, 5426, 5212, 3775, 20919, 17396, 10819, 41352, 5871]\n"
          ],
          "name": "stdout"
        },
        {
          "output_type": "display_data",
          "data": {
            "application/javascript": [
              "\n",
              "(function(root) {\n",
              "  function now() {\n",
              "    return new Date();\n",
              "  }\n",
              "\n",
              "  var force = true;\n",
              "\n",
              "  if (typeof root._bokeh_onload_callbacks === \"undefined\" || force === true) {\n",
              "    root._bokeh_onload_callbacks = [];\n",
              "    root._bokeh_is_loading = undefined;\n",
              "  }\n",
              "\n",
              "  var JS_MIME_TYPE = 'application/javascript';\n",
              "  var HTML_MIME_TYPE = 'text/html';\n",
              "  var EXEC_MIME_TYPE = 'application/vnd.bokehjs_exec.v0+json';\n",
              "  var CLASS_NAME = 'output_bokeh rendered_html';\n",
              "\n",
              "  /**\n",
              "   * Render data to the DOM node\n",
              "   */\n",
              "  function render(props, node) {\n",
              "    var script = document.createElement(\"script\");\n",
              "    node.appendChild(script);\n",
              "  }\n",
              "\n",
              "  /**\n",
              "   * Handle when an output is cleared or removed\n",
              "   */\n",
              "  function handleClearOutput(event, handle) {\n",
              "    var cell = handle.cell;\n",
              "\n",
              "    var id = cell.output_area._bokeh_element_id;\n",
              "    var server_id = cell.output_area._bokeh_server_id;\n",
              "    // Clean up Bokeh references\n",
              "    if (id != null && id in Bokeh.index) {\n",
              "      Bokeh.index[id].model.document.clear();\n",
              "      delete Bokeh.index[id];\n",
              "    }\n",
              "\n",
              "    if (server_id !== undefined) {\n",
              "      // Clean up Bokeh references\n",
              "      var cmd = \"from bokeh.io.state import curstate; print(curstate().uuid_to_server['\" + server_id + \"'].get_sessions()[0].document.roots[0]._id)\";\n",
              "      cell.notebook.kernel.execute(cmd, {\n",
              "        iopub: {\n",
              "          output: function(msg) {\n",
              "            var id = msg.content.text.trim();\n",
              "            if (id in Bokeh.index) {\n",
              "              Bokeh.index[id].model.document.clear();\n",
              "              delete Bokeh.index[id];\n",
              "            }\n",
              "          }\n",
              "        }\n",
              "      });\n",
              "      // Destroy server and session\n",
              "      var cmd = \"import bokeh.io.notebook as ion; ion.destroy_server('\" + server_id + \"')\";\n",
              "      cell.notebook.kernel.execute(cmd);\n",
              "    }\n",
              "  }\n",
              "\n",
              "  /**\n",
              "   * Handle when a new output is added\n",
              "   */\n",
              "  function handleAddOutput(event, handle) {\n",
              "    var output_area = handle.output_area;\n",
              "    var output = handle.output;\n",
              "\n",
              "    // limit handleAddOutput to display_data with EXEC_MIME_TYPE content only\n",
              "    if ((output.output_type != \"display_data\") || (!output.data.hasOwnProperty(EXEC_MIME_TYPE))) {\n",
              "      return\n",
              "    }\n",
              "\n",
              "    var toinsert = output_area.element.find(\".\" + CLASS_NAME.split(' ')[0]);\n",
              "\n",
              "    if (output.metadata[EXEC_MIME_TYPE][\"id\"] !== undefined) {\n",
              "      toinsert[toinsert.length - 1].firstChild.textContent = output.data[JS_MIME_TYPE];\n",
              "      // store reference to embed id on output_area\n",
              "      output_area._bokeh_element_id = output.metadata[EXEC_MIME_TYPE][\"id\"];\n",
              "    }\n",
              "    if (output.metadata[EXEC_MIME_TYPE][\"server_id\"] !== undefined) {\n",
              "      var bk_div = document.createElement(\"div\");\n",
              "      bk_div.innerHTML = output.data[HTML_MIME_TYPE];\n",
              "      var script_attrs = bk_div.children[0].attributes;\n",
              "      for (var i = 0; i < script_attrs.length; i++) {\n",
              "        toinsert[toinsert.length - 1].firstChild.setAttribute(script_attrs[i].name, script_attrs[i].value);\n",
              "        toinsert[toinsert.length - 1].firstChild.textContent = bk_div.children[0].textContent\n",
              "      }\n",
              "      // store reference to server id on output_area\n",
              "      output_area._bokeh_server_id = output.metadata[EXEC_MIME_TYPE][\"server_id\"];\n",
              "    }\n",
              "  }\n",
              "\n",
              "  function register_renderer(events, OutputArea) {\n",
              "\n",
              "    function append_mime(data, metadata, element) {\n",
              "      // create a DOM node to render to\n",
              "      var toinsert = this.create_output_subarea(\n",
              "        metadata,\n",
              "        CLASS_NAME,\n",
              "        EXEC_MIME_TYPE\n",
              "      );\n",
              "      this.keyboard_manager.register_events(toinsert);\n",
              "      // Render to node\n",
              "      var props = {data: data, metadata: metadata[EXEC_MIME_TYPE]};\n",
              "      render(props, toinsert[toinsert.length - 1]);\n",
              "      element.append(toinsert);\n",
              "      return toinsert\n",
              "    }\n",
              "\n",
              "    /* Handle when an output is cleared or removed */\n",
              "    events.on('clear_output.CodeCell', handleClearOutput);\n",
              "    events.on('delete.Cell', handleClearOutput);\n",
              "\n",
              "    /* Handle when a new output is added */\n",
              "    events.on('output_added.OutputArea', handleAddOutput);\n",
              "\n",
              "    /**\n",
              "     * Register the mime type and append_mime function with output_area\n",
              "     */\n",
              "    OutputArea.prototype.register_mime_type(EXEC_MIME_TYPE, append_mime, {\n",
              "      /* Is output safe? */\n",
              "      safe: true,\n",
              "      /* Index of renderer in `output_area.display_order` */\n",
              "      index: 0\n",
              "    });\n",
              "  }\n",
              "\n",
              "  // register the mime type if in Jupyter Notebook environment and previously unregistered\n",
              "  if (root.Jupyter !== undefined) {\n",
              "    var events = require('base/js/events');\n",
              "    var OutputArea = require('notebook/js/outputarea').OutputArea;\n",
              "\n",
              "    if (OutputArea.prototype.mime_types().indexOf(EXEC_MIME_TYPE) == -1) {\n",
              "      register_renderer(events, OutputArea);\n",
              "    }\n",
              "  }\n",
              "\n",
              "  \n",
              "  if (typeof (root._bokeh_timeout) === \"undefined\" || force === true) {\n",
              "    root._bokeh_timeout = Date.now() + 5000;\n",
              "    root._bokeh_failed_load = false;\n",
              "  }\n",
              "\n",
              "  var NB_LOAD_WARNING = {'data': {'text/html':\n",
              "     \"<div style='background-color: #fdd'>\\n\"+\n",
              "     \"<p>\\n\"+\n",
              "     \"BokehJS does not appear to have successfully loaded. If loading BokehJS from CDN, this \\n\"+\n",
              "     \"may be due to a slow or bad network connection. Possible fixes:\\n\"+\n",
              "     \"</p>\\n\"+\n",
              "     \"<ul>\\n\"+\n",
              "     \"<li>re-rerun `output_notebook()` to attempt to load from CDN again, or</li>\\n\"+\n",
              "     \"<li>use INLINE resources instead, as so:</li>\\n\"+\n",
              "     \"</ul>\\n\"+\n",
              "     \"<code>\\n\"+\n",
              "     \"from bokeh.resources import INLINE\\n\"+\n",
              "     \"output_notebook(resources=INLINE)\\n\"+\n",
              "     \"</code>\\n\"+\n",
              "     \"</div>\"}};\n",
              "\n",
              "  function display_loaded() {\n",
              "    var el = document.getElementById(null);\n",
              "    if (el != null) {\n",
              "      el.textContent = \"BokehJS is loading...\";\n",
              "    }\n",
              "    if (root.Bokeh !== undefined) {\n",
              "      if (el != null) {\n",
              "        el.textContent = \"BokehJS \" + root.Bokeh.version + \" successfully loaded.\";\n",
              "      }\n",
              "    } else if (Date.now() < root._bokeh_timeout) {\n",
              "      setTimeout(display_loaded, 100)\n",
              "    }\n",
              "  }\n",
              "\n",
              "\n",
              "  function run_callbacks() {\n",
              "    try {\n",
              "      root._bokeh_onload_callbacks.forEach(function(callback) {\n",
              "        if (callback != null)\n",
              "          callback();\n",
              "      });\n",
              "    } finally {\n",
              "      delete root._bokeh_onload_callbacks\n",
              "    }\n",
              "    console.debug(\"Bokeh: all callbacks have finished\");\n",
              "  }\n",
              "\n",
              "  function load_libs(css_urls, js_urls, callback) {\n",
              "    if (css_urls == null) css_urls = [];\n",
              "    if (js_urls == null) js_urls = [];\n",
              "\n",
              "    root._bokeh_onload_callbacks.push(callback);\n",
              "    if (root._bokeh_is_loading > 0) {\n",
              "      console.debug(\"Bokeh: BokehJS is being loaded, scheduling callback at\", now());\n",
              "      return null;\n",
              "    }\n",
              "    if (js_urls == null || js_urls.length === 0) {\n",
              "      run_callbacks();\n",
              "      return null;\n",
              "    }\n",
              "    console.debug(\"Bokeh: BokehJS not loaded, scheduling load and callback at\", now());\n",
              "    root._bokeh_is_loading = css_urls.length + js_urls.length;\n",
              "\n",
              "    function on_load() {\n",
              "      root._bokeh_is_loading--;\n",
              "      if (root._bokeh_is_loading === 0) {\n",
              "        console.debug(\"Bokeh: all BokehJS libraries/stylesheets loaded\");\n",
              "        run_callbacks()\n",
              "      }\n",
              "    }\n",
              "\n",
              "    function on_error() {\n",
              "      console.error(\"failed to load \" + url);\n",
              "    }\n",
              "\n",
              "    for (var i = 0; i < css_urls.length; i++) {\n",
              "      var url = css_urls[i];\n",
              "      const element = document.createElement(\"link\");\n",
              "      element.onload = on_load;\n",
              "      element.onerror = on_error;\n",
              "      element.rel = \"stylesheet\";\n",
              "      element.type = \"text/css\";\n",
              "      element.href = url;\n",
              "      console.debug(\"Bokeh: injecting link tag for BokehJS stylesheet: \", url);\n",
              "      document.body.appendChild(element);\n",
              "    }\n",
              "\n",
              "    const hashes = {\"https://cdn.bokeh.org/bokeh/release/bokeh-2.1.1.min.js\": \"kLr4fYcqcSpbuI95brIH3vnnYCquzzSxHPU6XGQCIkQRGJwhg0StNbj1eegrHs12\", \"https://cdn.bokeh.org/bokeh/release/bokeh-widgets-2.1.1.min.js\": \"xIGPmVtaOm+z0BqfSOMn4lOR6ciex448GIKG4eE61LsAvmGj48XcMQZtKcE/UXZe\", \"https://cdn.bokeh.org/bokeh/release/bokeh-tables-2.1.1.min.js\": \"Dc9u1wF/0zApGIWoBbH77iWEHtdmkuYWG839Uzmv8y8yBLXebjO9ZnERsde5Ln/P\", \"https://cdn.bokeh.org/bokeh/release/bokeh-gl-2.1.1.min.js\": \"cT9JaBz7GiRXdENrJLZNSC6eMNF3nh3fa5fTF51Svp+ukxPdwcU5kGXGPBgDCa2j\"};\n",
              "\n",
              "    for (var i = 0; i < js_urls.length; i++) {\n",
              "      var url = js_urls[i];\n",
              "      var element = document.createElement('script');\n",
              "      element.onload = on_load;\n",
              "      element.onerror = on_error;\n",
              "      element.async = false;\n",
              "      element.src = url;\n",
              "      if (url in hashes) {\n",
              "        element.crossOrigin = \"anonymous\";\n",
              "        element.integrity = \"sha384-\" + hashes[url];\n",
              "      }\n",
              "      console.debug(\"Bokeh: injecting script tag for BokehJS library: \", url);\n",
              "      document.head.appendChild(element);\n",
              "    }\n",
              "  };\n",
              "\n",
              "  function inject_raw_css(css) {\n",
              "    const element = document.createElement(\"style\");\n",
              "    element.appendChild(document.createTextNode(css));\n",
              "    document.body.appendChild(element);\n",
              "  }\n",
              "\n",
              "  \n",
              "  var js_urls = [\"https://cdn.bokeh.org/bokeh/release/bokeh-2.1.1.min.js\", \"https://cdn.bokeh.org/bokeh/release/bokeh-widgets-2.1.1.min.js\", \"https://cdn.bokeh.org/bokeh/release/bokeh-tables-2.1.1.min.js\", \"https://cdn.bokeh.org/bokeh/release/bokeh-gl-2.1.1.min.js\"];\n",
              "  var css_urls = [];\n",
              "  \n",
              "\n",
              "  var inline_js = [\n",
              "    function(Bokeh) {\n",
              "      Bokeh.set_log_level(\"info\");\n",
              "    },\n",
              "    function(Bokeh) {\n",
              "    \n",
              "    \n",
              "    }\n",
              "  ];\n",
              "\n",
              "  function run_inline_js() {\n",
              "    \n",
              "    if (root.Bokeh !== undefined || force === true) {\n",
              "      \n",
              "    for (var i = 0; i < inline_js.length; i++) {\n",
              "      inline_js[i].call(root, root.Bokeh);\n",
              "    }\n",
              "    } else if (Date.now() < root._bokeh_timeout) {\n",
              "      setTimeout(run_inline_js, 100);\n",
              "    } else if (!root._bokeh_failed_load) {\n",
              "      console.log(\"Bokeh: BokehJS failed to load within specified timeout.\");\n",
              "      root._bokeh_failed_load = true;\n",
              "    } else if (force !== true) {\n",
              "      var cell = $(document.getElementById(null)).parents('.cell').data().cell;\n",
              "      cell.output_area.append_execute_result(NB_LOAD_WARNING)\n",
              "    }\n",
              "\n",
              "  }\n",
              "\n",
              "  if (root._bokeh_is_loading === 0) {\n",
              "    console.debug(\"Bokeh: BokehJS loaded, going straight to plotting\");\n",
              "    run_inline_js();\n",
              "  } else {\n",
              "    load_libs(css_urls, js_urls, function() {\n",
              "      console.debug(\"Bokeh: BokehJS plotting callback run at\", now());\n",
              "      run_inline_js();\n",
              "    });\n",
              "  }\n",
              "}(window));"
            ],
            "application/vnd.bokehjs_load.v0+json": "\n(function(root) {\n  function now() {\n    return new Date();\n  }\n\n  var force = true;\n\n  if (typeof root._bokeh_onload_callbacks === \"undefined\" || force === true) {\n    root._bokeh_onload_callbacks = [];\n    root._bokeh_is_loading = undefined;\n  }\n\n  \n\n  \n  if (typeof (root._bokeh_timeout) === \"undefined\" || force === true) {\n    root._bokeh_timeout = Date.now() + 5000;\n    root._bokeh_failed_load = false;\n  }\n\n  var NB_LOAD_WARNING = {'data': {'text/html':\n     \"<div style='background-color: #fdd'>\\n\"+\n     \"<p>\\n\"+\n     \"BokehJS does not appear to have successfully loaded. If loading BokehJS from CDN, this \\n\"+\n     \"may be due to a slow or bad network connection. Possible fixes:\\n\"+\n     \"</p>\\n\"+\n     \"<ul>\\n\"+\n     \"<li>re-rerun `output_notebook()` to attempt to load from CDN again, or</li>\\n\"+\n     \"<li>use INLINE resources instead, as so:</li>\\n\"+\n     \"</ul>\\n\"+\n     \"<code>\\n\"+\n     \"from bokeh.resources import INLINE\\n\"+\n     \"output_notebook(resources=INLINE)\\n\"+\n     \"</code>\\n\"+\n     \"</div>\"}};\n\n  function display_loaded() {\n    var el = document.getElementById(null);\n    if (el != null) {\n      el.textContent = \"BokehJS is loading...\";\n    }\n    if (root.Bokeh !== undefined) {\n      if (el != null) {\n        el.textContent = \"BokehJS \" + root.Bokeh.version + \" successfully loaded.\";\n      }\n    } else if (Date.now() < root._bokeh_timeout) {\n      setTimeout(display_loaded, 100)\n    }\n  }\n\n\n  function run_callbacks() {\n    try {\n      root._bokeh_onload_callbacks.forEach(function(callback) {\n        if (callback != null)\n          callback();\n      });\n    } finally {\n      delete root._bokeh_onload_callbacks\n    }\n    console.debug(\"Bokeh: all callbacks have finished\");\n  }\n\n  function load_libs(css_urls, js_urls, callback) {\n    if (css_urls == null) css_urls = [];\n    if (js_urls == null) js_urls = [];\n\n    root._bokeh_onload_callbacks.push(callback);\n    if (root._bokeh_is_loading > 0) {\n      console.debug(\"Bokeh: BokehJS is being loaded, scheduling callback at\", now());\n      return null;\n    }\n    if (js_urls == null || js_urls.length === 0) {\n      run_callbacks();\n      return null;\n    }\n    console.debug(\"Bokeh: BokehJS not loaded, scheduling load and callback at\", now());\n    root._bokeh_is_loading = css_urls.length + js_urls.length;\n\n    function on_load() {\n      root._bokeh_is_loading--;\n      if (root._bokeh_is_loading === 0) {\n        console.debug(\"Bokeh: all BokehJS libraries/stylesheets loaded\");\n        run_callbacks()\n      }\n    }\n\n    function on_error() {\n      console.error(\"failed to load \" + url);\n    }\n\n    for (var i = 0; i < css_urls.length; i++) {\n      var url = css_urls[i];\n      const element = document.createElement(\"link\");\n      element.onload = on_load;\n      element.onerror = on_error;\n      element.rel = \"stylesheet\";\n      element.type = \"text/css\";\n      element.href = url;\n      console.debug(\"Bokeh: injecting link tag for BokehJS stylesheet: \", url);\n      document.body.appendChild(element);\n    }\n\n    const hashes = {\"https://cdn.bokeh.org/bokeh/release/bokeh-2.1.1.min.js\": \"kLr4fYcqcSpbuI95brIH3vnnYCquzzSxHPU6XGQCIkQRGJwhg0StNbj1eegrHs12\", \"https://cdn.bokeh.org/bokeh/release/bokeh-widgets-2.1.1.min.js\": \"xIGPmVtaOm+z0BqfSOMn4lOR6ciex448GIKG4eE61LsAvmGj48XcMQZtKcE/UXZe\", \"https://cdn.bokeh.org/bokeh/release/bokeh-tables-2.1.1.min.js\": \"Dc9u1wF/0zApGIWoBbH77iWEHtdmkuYWG839Uzmv8y8yBLXebjO9ZnERsde5Ln/P\", \"https://cdn.bokeh.org/bokeh/release/bokeh-gl-2.1.1.min.js\": \"cT9JaBz7GiRXdENrJLZNSC6eMNF3nh3fa5fTF51Svp+ukxPdwcU5kGXGPBgDCa2j\"};\n\n    for (var i = 0; i < js_urls.length; i++) {\n      var url = js_urls[i];\n      var element = document.createElement('script');\n      element.onload = on_load;\n      element.onerror = on_error;\n      element.async = false;\n      element.src = url;\n      if (url in hashes) {\n        element.crossOrigin = \"anonymous\";\n        element.integrity = \"sha384-\" + hashes[url];\n      }\n      console.debug(\"Bokeh: injecting script tag for BokehJS library: \", url);\n      document.head.appendChild(element);\n    }\n  };\n\n  function inject_raw_css(css) {\n    const element = document.createElement(\"style\");\n    element.appendChild(document.createTextNode(css));\n    document.body.appendChild(element);\n  }\n\n  \n  var js_urls = [\"https://cdn.bokeh.org/bokeh/release/bokeh-2.1.1.min.js\", \"https://cdn.bokeh.org/bokeh/release/bokeh-widgets-2.1.1.min.js\", \"https://cdn.bokeh.org/bokeh/release/bokeh-tables-2.1.1.min.js\", \"https://cdn.bokeh.org/bokeh/release/bokeh-gl-2.1.1.min.js\"];\n  var css_urls = [];\n  \n\n  var inline_js = [\n    function(Bokeh) {\n      Bokeh.set_log_level(\"info\");\n    },\n    function(Bokeh) {\n    \n    \n    }\n  ];\n\n  function run_inline_js() {\n    \n    if (root.Bokeh !== undefined || force === true) {\n      \n    for (var i = 0; i < inline_js.length; i++) {\n      inline_js[i].call(root, root.Bokeh);\n    }\n    } else if (Date.now() < root._bokeh_timeout) {\n      setTimeout(run_inline_js, 100);\n    } else if (!root._bokeh_failed_load) {\n      console.log(\"Bokeh: BokehJS failed to load within specified timeout.\");\n      root._bokeh_failed_load = true;\n    } else if (force !== true) {\n      var cell = $(document.getElementById(null)).parents('.cell').data().cell;\n      cell.output_area.append_execute_result(NB_LOAD_WARNING)\n    }\n\n  }\n\n  if (root._bokeh_is_loading === 0) {\n    console.debug(\"Bokeh: BokehJS loaded, going straight to plotting\");\n    run_inline_js();\n  } else {\n    load_libs(css_urls, js_urls, function() {\n      console.debug(\"Bokeh: BokehJS plotting callback run at\", now());\n      run_inline_js();\n    });\n  }\n}(window));"
          },
          "metadata": {
            "tags": []
          }
        },
        {
          "output_type": "display_data",
          "data": {
            "text/html": [
              "\n",
              "\n",
              "\n",
              "\n",
              "\n",
              "\n",
              "  <div class=\"bk-root\" id=\"a0e521f9-c972-433a-b421-fc0a91c059ef\" data-root-id=\"2189\"></div>\n"
            ]
          },
          "metadata": {
            "tags": []
          }
        },
        {
          "output_type": "display_data",
          "data": {
            "application/javascript": [
              "(function(root) {\n",
              "  function embed_document(root) {\n",
              "    \n",
              "  var docs_json = {\"8e192a9f-a076-49e3-a803-538526bfdef5\":{\"roots\":{\"references\":[{\"attributes\":{\"below\":[{\"id\":\"2200\"}],\"center\":[{\"id\":\"2207\"},{\"id\":\"2215\"}],\"left\":[{\"id\":\"2208\"}],\"renderers\":[{\"id\":\"2230\"},{\"id\":\"2235\"},{\"id\":\"2240\"},{\"id\":\"2245\"},{\"id\":\"2250\"},{\"id\":\"2255\"},{\"id\":\"2260\"},{\"id\":\"2265\"},{\"id\":\"2270\"},{\"id\":\"2275\"},{\"id\":\"2280\"},{\"id\":\"2285\"},{\"id\":\"2290\"},{\"id\":\"2295\"},{\"id\":\"2300\"},{\"id\":\"2305\"},{\"id\":\"2310\"},{\"id\":\"2315\"},{\"id\":\"2320\"},{\"id\":\"2325\"},{\"id\":\"2330\"},{\"id\":\"2335\"},{\"id\":\"2340\"},{\"id\":\"2345\"},{\"id\":\"2350\"},{\"id\":\"2355\"},{\"id\":\"2358\"}],\"title\":{\"id\":\"2190\"},\"toolbar\":{\"id\":\"2222\"},\"x_range\":{\"id\":\"2192\"},\"x_scale\":{\"id\":\"2196\"},\"y_range\":{\"id\":\"2194\"},\"y_scale\":{\"id\":\"2198\"}},\"id\":\"2189\",\"subtype\":\"Figure\",\"type\":\"Plot\"},{\"attributes\":{\"source\":{\"id\":\"2267\"}},\"id\":\"2271\",\"type\":\"CDSView\"},{\"attributes\":{},\"id\":\"2489\",\"type\":\"UnionRenderers\"},{\"attributes\":{\"fill_alpha\":{\"value\":0.1},\"line_alpha\":{\"value\":0.1},\"line_color\":{\"value\":\"#1f77b4\"},\"size\":{\"units\":\"screen\",\"value\":20},\"x\":{\"value\":-13697052.001135616},\"y\":{\"value\":6321881.13050272}},\"id\":\"2264\",\"type\":\"Circle\"},{\"attributes\":{\"fill_color\":{\"value\":\"blue\"},\"line_color\":{\"value\":\"#1f77b4\"},\"size\":{\"units\":\"screen\",\"value\":20},\"x\":{\"value\":-13699659.938506175},\"y\":{\"value\":6312033.510464615}},\"id\":\"2343\",\"type\":\"Circle\"},{\"attributes\":{},\"id\":\"2490\",\"type\":\"Selection\"},{\"attributes\":{\"data\":{},\"selected\":{\"id\":\"2522\"},\"selection_policy\":{\"id\":\"2521\"}},\"id\":\"2342\",\"type\":\"ColumnDataSource\"},{\"attributes\":{\"overlay\":{\"id\":\"2221\"}},\"id\":\"2217\",\"type\":\"BoxZoomTool\"},{\"attributes\":{\"fill_alpha\":{\"value\":0.1},\"fill_color\":{\"value\":\"red\"},\"line_alpha\":{\"value\":0.1},\"line_color\":{\"value\":\"#1f77b4\"},\"size\":{\"units\":\"screen\",\"value\":20},\"x\":{\"value\":-13705184.15710484},\"y\":{\"value\":6323493.85713348}},\"id\":\"2244\",\"type\":\"Circle\"},{\"attributes\":{},\"id\":\"2491\",\"type\":\"UnionRenderers\"},{\"attributes\":{\"line_color\":{\"value\":\"#1f77b4\"},\"size\":{\"units\":\"screen\",\"value\":20},\"x\":{\"value\":-13710725.196078567},\"y\":{\"value\":6320112.894476248}},\"id\":\"2283\",\"type\":\"Circle\"},{\"attributes\":{\"data\":{},\"selected\":{\"id\":\"2524\"},\"selection_policy\":{\"id\":\"2523\"}},\"id\":\"2347\",\"type\":\"ColumnDataSource\"},{\"attributes\":{},\"id\":\"2219\",\"type\":\"SaveTool\"},{\"attributes\":{},\"id\":\"2492\",\"type\":\"Selection\"},{\"attributes\":{\"fill_alpha\":{\"value\":0.1},\"fill_color\":{\"value\":\"blue\"},\"line_alpha\":{\"value\":0.1},\"line_color\":{\"value\":\"#1f77b4\"},\"size\":{\"units\":\"screen\",\"value\":20},\"x\":{\"value\":-13699659.938506175},\"y\":{\"value\":6312033.510464615}},\"id\":\"2344\",\"type\":\"Circle\"},{\"attributes\":{},\"id\":\"2493\",\"type\":\"UnionRenderers\"},{\"attributes\":{\"data_source\":{\"id\":\"2342\"},\"glyph\":{\"id\":\"2343\"},\"hover_glyph\":null,\"muted_glyph\":null,\"nonselection_glyph\":{\"id\":\"2344\"},\"selection_glyph\":null,\"view\":{\"id\":\"2346\"}},\"id\":\"2345\",\"type\":\"GlyphRenderer\"},{\"attributes\":{},\"id\":\"2494\",\"type\":\"Selection\"},{\"attributes\":{\"fill_color\":{\"value\":\"blue\"},\"line_color\":{\"value\":\"#1f77b4\"},\"size\":{\"units\":\"screen\",\"value\":20},\"x\":{\"value\":-13696591.349950764},\"y\":{\"value\":6312494.541843947}},\"id\":\"2278\",\"type\":\"Circle\"},{\"attributes\":{\"source\":{\"id\":\"2342\"}},\"id\":\"2346\",\"type\":\"CDSView\"},{\"attributes\":{\"data\":{},\"selected\":{\"id\":\"2494\"},\"selection_policy\":{\"id\":\"2493\"}},\"id\":\"2272\",\"type\":\"ColumnDataSource\"},{\"attributes\":{},\"id\":\"2495\",\"type\":\"UnionRenderers\"},{\"attributes\":{\"fill_alpha\":{\"value\":0.1},\"line_alpha\":{\"value\":0.1},\"line_color\":{\"value\":\"#1f77b4\"},\"size\":{\"units\":\"screen\",\"value\":20},\"x\":{\"value\":-13700546.052784838},\"y\":{\"value\":6316760.598681136}},\"id\":\"2269\",\"type\":\"Circle\"},{\"attributes\":{\"line_color\":{\"value\":\"#1f77b4\"},\"size\":{\"units\":\"screen\",\"value\":20},\"x\":{\"value\":-13707440.35828034},\"y\":{\"value\":6324224.030528297}},\"id\":\"2348\",\"type\":\"Circle\"},{\"attributes\":{\"data_source\":{\"id\":\"2257\"},\"glyph\":{\"id\":\"2258\"},\"hover_glyph\":null,\"muted_glyph\":null,\"nonselection_glyph\":{\"id\":\"2259\"},\"selection_glyph\":null,\"view\":{\"id\":\"2261\"}},\"id\":\"2260\",\"type\":\"GlyphRenderer\"},{\"attributes\":{\"fill_color\":{\"value\":\"blue\"},\"line_color\":{\"value\":\"#1f77b4\"},\"size\":{\"units\":\"screen\",\"value\":20},\"x\":{\"value\":-13714779.129106734},\"y\":{\"value\":6319257.794822874}},\"id\":\"2353\",\"type\":\"Circle\"},{\"attributes\":{},\"id\":\"2496\",\"type\":\"Selection\"},{\"attributes\":{\"source\":{\"id\":\"2252\"}},\"id\":\"2256\",\"type\":\"CDSView\"},{\"attributes\":{\"data\":{},\"selected\":{\"id\":\"2526\"},\"selection_policy\":{\"id\":\"2525\"}},\"id\":\"2352\",\"type\":\"ColumnDataSource\"},{\"attributes\":{},\"id\":\"2497\",\"type\":\"UnionRenderers\"},{\"attributes\":{\"data_source\":{\"id\":\"2347\"},\"glyph\":{\"id\":\"2348\"},\"hover_glyph\":null,\"muted_glyph\":null,\"nonselection_glyph\":{\"id\":\"2349\"},\"selection_glyph\":null,\"view\":{\"id\":\"2351\"}},\"id\":\"2350\",\"type\":\"GlyphRenderer\"},{\"attributes\":{\"fill_alpha\":{\"value\":0.1},\"line_alpha\":{\"value\":0.1},\"line_color\":{\"value\":\"#1f77b4\"},\"size\":{\"units\":\"screen\",\"value\":20},\"x\":{\"value\":-13707440.35828034},\"y\":{\"value\":6324224.030528297}},\"id\":\"2349\",\"type\":\"Circle\"},{\"attributes\":{},\"id\":\"2498\",\"type\":\"Selection\"},{\"attributes\":{\"source\":{\"id\":\"2347\"}},\"id\":\"2351\",\"type\":\"CDSView\"},{\"attributes\":{},\"id\":\"2220\",\"type\":\"ResetTool\"},{\"attributes\":{},\"id\":\"2499\",\"type\":\"UnionRenderers\"},{\"attributes\":{\"source\":{\"id\":\"2247\"}},\"id\":\"2251\",\"type\":\"CDSView\"},{\"attributes\":{\"source\":{\"id\":\"2262\"}},\"id\":\"2266\",\"type\":\"CDSView\"},{\"attributes\":{},\"id\":\"2500\",\"type\":\"Selection\"},{\"attributes\":{\"data_source\":{\"id\":\"2277\"},\"glyph\":{\"id\":\"2278\"},\"hover_glyph\":null,\"muted_glyph\":null,\"nonselection_glyph\":{\"id\":\"2279\"},\"selection_glyph\":null,\"view\":{\"id\":\"2281\"}},\"id\":\"2280\",\"type\":\"GlyphRenderer\"},{\"attributes\":{\"data\":{},\"selected\":{\"id\":\"2488\"},\"selection_policy\":{\"id\":\"2487\"}},\"id\":\"2257\",\"type\":\"ColumnDataSource\"},{\"attributes\":{\"data\":{},\"selected\":{\"id\":\"2490\"},\"selection_policy\":{\"id\":\"2489\"}},\"id\":\"2262\",\"type\":\"ColumnDataSource\"},{\"attributes\":{\"data\":{},\"selected\":{\"id\":\"2492\"},\"selection_policy\":{\"id\":\"2491\"}},\"id\":\"2267\",\"type\":\"ColumnDataSource\"},{\"attributes\":{},\"id\":\"2501\",\"type\":\"UnionRenderers\"},{\"attributes\":{\"line_color\":{\"value\":\"#1f77b4\"},\"size\":{\"units\":\"screen\",\"value\":20},\"x\":{\"value\":-13697052.001135616},\"y\":{\"value\":6321881.13050272}},\"id\":\"2263\",\"type\":\"Circle\"},{\"attributes\":{\"fill_alpha\":{\"value\":0.1},\"line_alpha\":{\"value\":0.1},\"line_color\":{\"value\":\"#1f77b4\"},\"size\":{\"units\":\"screen\",\"value\":20},\"x\":{\"value\":-13710725.196078567},\"y\":{\"value\":6320112.894476248}},\"id\":\"2284\",\"type\":\"Circle\"},{\"attributes\":{},\"id\":\"2477\",\"type\":\"UnionRenderers\"},{\"attributes\":{},\"id\":\"2502\",\"type\":\"Selection\"},{\"attributes\":{\"fill_alpha\":{\"value\":0.1},\"fill_color\":{\"value\":\"blue\"},\"line_alpha\":{\"value\":0.1},\"line_color\":{\"value\":\"#1f77b4\"},\"size\":{\"units\":\"screen\",\"value\":20},\"x\":{\"value\":-13714779.129106734},\"y\":{\"value\":6319257.794822874}},\"id\":\"2354\",\"type\":\"Circle\"},{\"attributes\":{},\"id\":\"2503\",\"type\":\"UnionRenderers\"},{\"attributes\":{\"data\":{},\"selected\":{\"id\":\"2498\"},\"selection_policy\":{\"id\":\"2497\"}},\"id\":\"2282\",\"type\":\"ColumnDataSource\"},{\"attributes\":{\"data_source\":{\"id\":\"2352\"},\"glyph\":{\"id\":\"2353\"},\"hover_glyph\":null,\"muted_glyph\":null,\"nonselection_glyph\":{\"id\":\"2354\"},\"selection_glyph\":null,\"view\":{\"id\":\"2356\"}},\"id\":\"2355\",\"type\":\"GlyphRenderer\"},{\"attributes\":{\"fill_alpha\":{\"value\":0.1},\"fill_color\":{\"value\":\"blue\"},\"line_alpha\":{\"value\":0.1},\"line_color\":{\"value\":\"#1f77b4\"},\"size\":{\"units\":\"screen\",\"value\":20},\"x\":{\"value\":-13712922.63169488},\"y\":{\"value\":6317494.275987332}},\"id\":\"2249\",\"type\":\"Circle\"},{\"attributes\":{},\"id\":\"2504\",\"type\":\"Selection\"},{\"attributes\":{\"source\":{\"id\":\"2352\"}},\"id\":\"2356\",\"type\":\"CDSView\"},{\"attributes\":{},\"id\":\"2505\",\"type\":\"UnionRenderers\"},{\"attributes\":{},\"id\":\"2482\",\"type\":\"Selection\"},{\"attributes\":{},\"id\":\"2506\",\"type\":\"Selection\"},{\"attributes\":{\"source\":{\"id\":\"2187\"}},\"id\":\"2359\",\"type\":\"CDSView\"},{\"attributes\":{\"fill_alpha\":{\"value\":0.1},\"fill_color\":{\"value\":\"blue\"},\"line_alpha\":{\"value\":0.1},\"line_color\":{\"value\":\"#1f77b4\"},\"size\":{\"units\":\"screen\",\"value\":20},\"x\":{\"value\":-13709619.359388975},\"y\":{\"value\":6314916.791710343}},\"id\":\"2274\",\"type\":\"Circle\"},{\"attributes\":{},\"id\":\"2507\",\"type\":\"UnionRenderers\"},{\"attributes\":{},\"id\":\"2480\",\"type\":\"Selection\"},{\"attributes\":{},\"id\":\"2508\",\"type\":\"Selection\"},{\"attributes\":{\"source\":{\"id\":\"2272\"}},\"id\":\"2276\",\"type\":\"CDSView\"},{\"attributes\":{},\"id\":\"2479\",\"type\":\"UnionRenderers\"},{\"attributes\":{},\"id\":\"2509\",\"type\":\"UnionRenderers\"},{\"attributes\":{\"data_source\":{\"id\":\"2267\"},\"glyph\":{\"id\":\"2268\"},\"hover_glyph\":null,\"muted_glyph\":null,\"nonselection_glyph\":{\"id\":\"2269\"},\"selection_glyph\":null,\"view\":{\"id\":\"2271\"}},\"id\":\"2270\",\"type\":\"GlyphRenderer\"},{\"attributes\":{\"fill_alpha\":{\"value\":0.1},\"line_alpha\":{\"value\":0.1},\"line_color\":{\"value\":\"#1f77b4\"},\"size\":{\"units\":\"screen\",\"value\":20},\"x\":{\"value\":-13699793.23246445},\"y\":{\"value\":6321610.520954982}},\"id\":\"2259\",\"type\":\"Circle\"},{\"attributes\":{},\"id\":\"2510\",\"type\":\"Selection\"},{\"attributes\":{},\"id\":\"2478\",\"type\":\"Selection\"},{\"attributes\":{},\"id\":\"2511\",\"type\":\"UnionRenderers\"},{\"attributes\":{\"fill_alpha\":{\"value\":0.1},\"fill_color\":{\"value\":\"blue\"},\"line_alpha\":{\"value\":0.1},\"line_color\":{\"value\":\"#1f77b4\"},\"size\":{\"units\":\"screen\",\"value\":20},\"x\":{\"value\":-13696591.349950764},\"y\":{\"value\":6312494.541843947}},\"id\":\"2279\",\"type\":\"Circle\"},{\"attributes\":{},\"id\":\"2481\",\"type\":\"UnionRenderers\"},{\"attributes\":{},\"id\":\"2512\",\"type\":\"Selection\"},{\"attributes\":{\"data_source\":{\"id\":\"2262\"},\"glyph\":{\"id\":\"2263\"},\"hover_glyph\":null,\"muted_glyph\":null,\"nonselection_glyph\":{\"id\":\"2264\"},\"selection_glyph\":null,\"view\":{\"id\":\"2266\"}},\"id\":\"2265\",\"type\":\"GlyphRenderer\"},{\"attributes\":{\"line_color\":{\"value\":\"#1f77b4\"},\"size\":{\"units\":\"screen\",\"value\":20},\"x\":{\"value\":-13699793.23246445},\"y\":{\"value\":6321610.520954982}},\"id\":\"2258\",\"type\":\"Circle\"},{\"attributes\":{},\"id\":\"2513\",\"type\":\"UnionRenderers\"},{\"attributes\":{\"fill_color\":{\"value\":\"blue\"},\"line_color\":{\"value\":\"#1f77b4\"},\"size\":{\"units\":\"screen\",\"value\":20},\"x\":{\"value\":-13709619.359388975},\"y\":{\"value\":6314916.791710343}},\"id\":\"2273\",\"type\":\"Circle\"},{\"attributes\":{\"source\":{\"id\":\"2277\"}},\"id\":\"2281\",\"type\":\"CDSView\"},{\"attributes\":{},\"id\":\"2514\",\"type\":\"Selection\"},{\"attributes\":{},\"id\":\"2483\",\"type\":\"UnionRenderers\"},{\"attributes\":{\"fill_alpha\":{\"value\":0.1},\"line_alpha\":{\"value\":0.1},\"line_color\":{\"value\":\"#1f77b4\"},\"size\":{\"units\":\"screen\",\"value\":20},\"x\":{\"value\":-13706684.844028275},\"y\":{\"value\":6320349.176106949}},\"id\":\"2254\",\"type\":\"Circle\"},{\"attributes\":{},\"id\":\"2515\",\"type\":\"UnionRenderers\"},{\"attributes\":{},\"id\":\"2484\",\"type\":\"Selection\"},{\"attributes\":{},\"id\":\"2516\",\"type\":\"Selection\"},{\"attributes\":{},\"id\":\"2485\",\"type\":\"UnionRenderers\"},{\"attributes\":{},\"id\":\"2517\",\"type\":\"UnionRenderers\"},{\"attributes\":{},\"id\":\"2486\",\"type\":\"Selection\"},{\"attributes\":{\"line_color\":{\"value\":\"#1f77b4\"},\"size\":{\"units\":\"screen\",\"value\":20},\"x\":{\"value\":-13700546.052784838},\"y\":{\"value\":6316760.598681136}},\"id\":\"2268\",\"type\":\"Circle\"},{\"attributes\":{},\"id\":\"2518\",\"type\":\"Selection\"},{\"attributes\":{\"data_source\":{\"id\":\"2252\"},\"glyph\":{\"id\":\"2253\"},\"hover_glyph\":null,\"muted_glyph\":null,\"nonselection_glyph\":{\"id\":\"2254\"},\"selection_glyph\":null,\"view\":{\"id\":\"2256\"}},\"id\":\"2255\",\"type\":\"GlyphRenderer\"},{\"attributes\":{},\"id\":\"2487\",\"type\":\"UnionRenderers\"},{\"attributes\":{},\"id\":\"2519\",\"type\":\"UnionRenderers\"},{\"attributes\":{\"data\":{},\"selected\":{\"id\":\"2496\"},\"selection_policy\":{\"id\":\"2495\"}},\"id\":\"2277\",\"type\":\"ColumnDataSource\"},{\"attributes\":{},\"id\":\"2488\",\"type\":\"Selection\"},{\"attributes\":{\"data_source\":{\"id\":\"2272\"},\"glyph\":{\"id\":\"2273\"},\"hover_glyph\":null,\"muted_glyph\":null,\"nonselection_glyph\":{\"id\":\"2274\"},\"selection_glyph\":null,\"view\":{\"id\":\"2276\"}},\"id\":\"2275\",\"type\":\"GlyphRenderer\"},{\"attributes\":{},\"id\":\"2520\",\"type\":\"Selection\"},{\"attributes\":{\"data\":{},\"selected\":{\"id\":\"2510\"},\"selection_policy\":{\"id\":\"2509\"}},\"id\":\"2312\",\"type\":\"ColumnDataSource\"},{\"attributes\":{},\"id\":\"2521\",\"type\":\"UnionRenderers\"},{\"attributes\":{\"fill_color\":{\"value\":\"blue\"},\"line_color\":{\"value\":\"#1f77b4\"},\"size\":{\"units\":\"screen\",\"value\":20},\"x\":{\"value\":-13703608.852726728},\"y\":{\"value\":6315823.210601795}},\"id\":\"2313\",\"type\":\"Circle\"},{\"attributes\":{\"fill_color\":{\"value\":\"#1f77b4\"},\"line_color\":{\"value\":\"#1f77b4\"},\"size\":{\"units\":\"screen\",\"value\":20},\"x\":{\"field\":\"xcor\"},\"y\":{\"field\":\"ycor\"}},\"id\":\"2233\",\"type\":\"Circle\"},{\"attributes\":{},\"id\":\"2522\",\"type\":\"Selection\"},{\"attributes\":{\"data\":{},\"selected\":{\"id\":\"2486\"},\"selection_policy\":{\"id\":\"2485\"}},\"id\":\"2252\",\"type\":\"ColumnDataSource\"},{\"attributes\":{\"source\":{\"id\":\"2307\"}},\"id\":\"2311\",\"type\":\"CDSView\"},{\"attributes\":{\"dimension\":\"lat\"},\"id\":\"2209\",\"type\":\"MercatorTicker\"},{\"attributes\":{},\"id\":\"2218\",\"type\":\"WheelZoomTool\"},{\"attributes\":{},\"id\":\"2523\",\"type\":\"UnionRenderers\"},{\"attributes\":{},\"id\":\"2524\",\"type\":\"Selection\"},{\"attributes\":{\"axis\":{\"id\":\"2208\"},\"dimension\":1,\"ticker\":null},\"id\":\"2215\",\"type\":\"Grid\"},{\"attributes\":{\"active_drag\":\"auto\",\"active_inspect\":\"auto\",\"active_multi\":null,\"active_scroll\":\"auto\",\"active_tap\":\"auto\",\"tools\":[{\"id\":\"2188\"},{\"id\":\"2216\"},{\"id\":\"2217\"},{\"id\":\"2218\"},{\"id\":\"2219\"},{\"id\":\"2220\"}]},\"id\":\"2222\",\"type\":\"Toolbar\"},{\"attributes\":{\"data\":{},\"selected\":{\"id\":\"2512\"},\"selection_policy\":{\"id\":\"2511\"}},\"id\":\"2317\",\"type\":\"ColumnDataSource\"},{\"attributes\":{},\"id\":\"2525\",\"type\":\"UnionRenderers\"},{\"attributes\":{\"fill_alpha\":{\"value\":0.1},\"fill_color\":{\"value\":\"blue\"},\"line_alpha\":{\"value\":0.1},\"line_color\":{\"value\":\"#1f77b4\"},\"size\":{\"units\":\"screen\",\"value\":20},\"x\":{\"value\":-13703608.852726728},\"y\":{\"value\":6315823.210601795}},\"id\":\"2314\",\"type\":\"Circle\"},{\"attributes\":{},\"id\":\"2526\",\"type\":\"Selection\"},{\"attributes\":{\"formatter\":{\"id\":\"2211\"},\"ticker\":{\"id\":\"2209\"}},\"id\":\"2208\",\"type\":\"MercatorAxis\"},{\"attributes\":{\"data_source\":{\"id\":\"2312\"},\"glyph\":{\"id\":\"2313\"},\"hover_glyph\":null,\"muted_glyph\":null,\"nonselection_glyph\":{\"id\":\"2314\"},\"selection_glyph\":null,\"view\":{\"id\":\"2316\"}},\"id\":\"2315\",\"type\":\"GlyphRenderer\"},{\"attributes\":{\"dimension\":\"lon\"},\"id\":\"2201\",\"type\":\"MercatorTicker\"},{\"attributes\":{\"source\":{\"id\":\"2237\"}},\"id\":\"2241\",\"type\":\"CDSView\"},{\"attributes\":{\"source\":{\"id\":\"2312\"}},\"id\":\"2316\",\"type\":\"CDSView\"},{\"attributes\":{\"dimension\":\"lon\"},\"id\":\"2203\",\"type\":\"MercatorTickFormatter\"},{\"attributes\":{\"data_source\":{\"id\":\"2282\"},\"glyph\":{\"id\":\"2283\"},\"hover_glyph\":null,\"muted_glyph\":null,\"nonselection_glyph\":{\"id\":\"2284\"},\"selection_glyph\":null,\"view\":{\"id\":\"2286\"}},\"id\":\"2285\",\"type\":\"GlyphRenderer\"},{\"attributes\":{\"axis\":{\"id\":\"2200\"},\"ticker\":null},\"id\":\"2207\",\"type\":\"Grid\"},{\"attributes\":{\"fill_color\":{\"value\":\"blue\"},\"line_color\":{\"value\":\"#1f77b4\"},\"size\":{\"units\":\"screen\",\"value\":20},\"x\":{\"value\":-13712922.63169488},\"y\":{\"value\":6317494.275987332}},\"id\":\"2248\",\"type\":\"Circle\"},{\"attributes\":{\"data_source\":{\"id\":\"2247\"},\"glyph\":{\"id\":\"2248\"},\"hover_glyph\":null,\"muted_glyph\":null,\"nonselection_glyph\":{\"id\":\"2249\"},\"selection_glyph\":null,\"view\":{\"id\":\"2251\"}},\"id\":\"2250\",\"type\":\"GlyphRenderer\"},{\"attributes\":{\"fill_alpha\":{\"value\":0.1},\"fill_color\":{\"value\":\"blue\"},\"line_alpha\":{\"value\":0.1},\"line_color\":{\"value\":\"#1f77b4\"},\"size\":{\"units\":\"screen\",\"value\":20},\"x\":{\"value\":-13710183.515436366},\"y\":{\"value\":6318214.451403247}},\"id\":\"2239\",\"type\":\"Circle\"},{\"attributes\":{\"fill_color\":{\"value\":\"blue\"},\"line_color\":{\"value\":\"#1f77b4\"},\"size\":{\"units\":\"screen\",\"value\":20},\"x\":{\"value\":-13708037.219994128},\"y\":{\"value\":6316795.095753983}},\"id\":\"2318\",\"type\":\"Circle\"},{\"attributes\":{\"tile_source\":{\"id\":\"2229\"}},\"id\":\"2230\",\"type\":\"TileRenderer\"},{\"attributes\":{\"dimension\":\"lat\"},\"id\":\"2211\",\"type\":\"MercatorTickFormatter\"},{\"attributes\":{\"attribution\":\"&copy; <a href=\\\"https://www.openstreetmap.org/copyright\\\">OpenStreetMap</a> contributors,&copy; <a href=\\\"https://cartodb.com/attributions\\\">CartoDB</a>\",\"url\":\"https://tiles.basemaps.cartocdn.com/light_all/{z}/{x}/{y}.png\"},\"id\":\"2229\",\"type\":\"WMTSTileSource\"},{\"attributes\":{\"data\":{},\"selected\":{\"id\":\"2500\"},\"selection_policy\":{\"id\":\"2499\"}},\"id\":\"2287\",\"type\":\"ColumnDataSource\"},{\"attributes\":{\"data\":{},\"selected\":{\"id\":\"2514\"},\"selection_policy\":{\"id\":\"2513\"}},\"id\":\"2322\",\"type\":\"ColumnDataSource\"},{\"attributes\":{},\"id\":\"2198\",\"type\":\"LinearScale\"},{\"attributes\":{\"formatter\":{\"id\":\"2203\"},\"ticker\":{\"id\":\"2201\"}},\"id\":\"2200\",\"type\":\"MercatorAxis\"},{\"attributes\":{\"fill_alpha\":{\"value\":0.1},\"fill_color\":{\"value\":\"blue\"},\"line_alpha\":{\"value\":0.1},\"line_color\":{\"value\":\"#1f77b4\"},\"size\":{\"units\":\"screen\",\"value\":20},\"x\":{\"value\":-13708037.219994128},\"y\":{\"value\":6316795.095753983}},\"id\":\"2319\",\"type\":\"Circle\"},{\"attributes\":{\"line_color\":{\"value\":\"#1f77b4\"},\"size\":{\"units\":\"screen\",\"value\":20},\"x\":{\"value\":-13706684.844028275},\"y\":{\"value\":6320349.176106949}},\"id\":\"2253\",\"type\":\"Circle\"},{\"attributes\":{\"data\":{},\"selected\":{\"id\":\"2502\"},\"selection_policy\":{\"id\":\"2501\"}},\"id\":\"2292\",\"type\":\"ColumnDataSource\"},{\"attributes\":{\"data_source\":{\"id\":\"2317\"},\"glyph\":{\"id\":\"2318\"},\"hover_glyph\":null,\"muted_glyph\":null,\"nonselection_glyph\":{\"id\":\"2319\"},\"selection_glyph\":null,\"view\":{\"id\":\"2321\"}},\"id\":\"2320\",\"type\":\"GlyphRenderer\"},{\"attributes\":{\"fill_alpha\":{\"value\":0.1},\"fill_color\":{\"value\":\"blue\"},\"line_alpha\":{\"value\":0.1},\"line_color\":{\"value\":\"#1f77b4\"},\"size\":{\"units\":\"screen\",\"value\":20},\"x\":{\"value\":-13706723.26038455},\"y\":{\"value\":6310717.7005862035}},\"id\":\"2289\",\"type\":\"Circle\"},{\"attributes\":{\"source\":{\"id\":\"2317\"}},\"id\":\"2321\",\"type\":\"CDSView\"},{\"attributes\":{\"fill_color\":{\"value\":\"blue\"},\"line_color\":{\"value\":\"#1f77b4\"},\"size\":{\"units\":\"screen\",\"value\":20},\"x\":{\"value\":-13710183.515436366},\"y\":{\"value\":6318214.451403247}},\"id\":\"2238\",\"type\":\"Circle\"},{\"attributes\":{\"data_source\":{\"id\":\"2287\"},\"glyph\":{\"id\":\"2288\"},\"hover_glyph\":null,\"muted_glyph\":null,\"nonselection_glyph\":{\"id\":\"2289\"},\"selection_glyph\":null,\"view\":{\"id\":\"2291\"}},\"id\":\"2290\",\"type\":\"GlyphRenderer\"},{\"attributes\":{\"fill_color\":{\"value\":\"blue\"},\"line_color\":{\"value\":\"#1f77b4\"},\"size\":{\"units\":\"screen\",\"value\":20},\"x\":{\"value\":-13705869.907432025},\"y\":{\"value\":6316567.173841415}},\"id\":\"2323\",\"type\":\"Circle\"},{\"attributes\":{},\"id\":\"2194\",\"type\":\"DataRange1d\"},{\"attributes\":{\"source\":{\"id\":\"2287\"}},\"id\":\"2291\",\"type\":\"CDSView\"},{\"attributes\":{\"data_source\":{\"id\":\"2187\"},\"glyph\":{\"id\":\"2233\"},\"hover_glyph\":null,\"muted_glyph\":null,\"name\":\"ytd_ave\",\"nonselection_glyph\":{\"id\":\"2234\"},\"selection_glyph\":null,\"view\":{\"id\":\"2236\"}},\"id\":\"2235\",\"type\":\"GlyphRenderer\"},{\"attributes\":{\"fill_alpha\":{\"value\":0.1},\"fill_color\":{\"value\":\"#1f77b4\"},\"line_alpha\":{\"value\":0.1},\"line_color\":{\"value\":\"#1f77b4\"},\"size\":{\"units\":\"screen\",\"value\":20},\"x\":{\"field\":\"xcor\"},\"y\":{\"field\":\"ycor\"}},\"id\":\"2234\",\"type\":\"Circle\"},{\"attributes\":{},\"id\":\"2196\",\"type\":\"LinearScale\"},{\"attributes\":{\"data_source\":{\"id\":\"2237\"},\"glyph\":{\"id\":\"2238\"},\"hover_glyph\":null,\"muted_glyph\":null,\"nonselection_glyph\":{\"id\":\"2239\"},\"selection_glyph\":null,\"view\":{\"id\":\"2241\"}},\"id\":\"2240\",\"type\":\"GlyphRenderer\"},{\"attributes\":{\"line_color\":{\"value\":\"#1f77b4\"},\"size\":{\"units\":\"screen\",\"value\":20},\"x\":{\"value\":-13703608.34065707},\"y\":{\"value\":6319567.1187321255}},\"id\":\"2293\",\"type\":\"Circle\"},{\"attributes\":{\"data\":{},\"selected\":{\"id\":\"2516\"},\"selection_policy\":{\"id\":\"2515\"}},\"id\":\"2327\",\"type\":\"ColumnDataSource\"},{\"attributes\":{\"fill_color\":{\"value\":\"blue\"},\"line_color\":{\"value\":\"#1f77b4\"},\"size\":{\"units\":\"screen\",\"value\":20},\"x\":{\"value\":-13714858.822730195},\"y\":{\"value\":6314476.344149734}},\"id\":\"2298\",\"type\":\"Circle\"},{\"attributes\":{\"fill_alpha\":{\"value\":0.1},\"fill_color\":{\"value\":\"blue\"},\"line_alpha\":{\"value\":0.1},\"line_color\":{\"value\":\"#1f77b4\"},\"size\":{\"units\":\"screen\",\"value\":20},\"x\":{\"value\":-13705869.907432025},\"y\":{\"value\":6316567.173841415}},\"id\":\"2324\",\"type\":\"Circle\"},{\"attributes\":{\"fill_color\":{\"value\":\"red\"},\"line_color\":{\"value\":\"#1f77b4\"},\"size\":{\"units\":\"screen\",\"value\":20},\"x\":{\"value\":-13705184.15710484},\"y\":{\"value\":6323493.85713348}},\"id\":\"2243\",\"type\":\"Circle\"},{\"attributes\":{\"data\":{},\"selected\":{\"id\":\"2504\"},\"selection_policy\":{\"id\":\"2503\"}},\"id\":\"2297\",\"type\":\"ColumnDataSource\"},{\"attributes\":{\"data_source\":{\"id\":\"2292\"},\"glyph\":{\"id\":\"2293\"},\"hover_glyph\":null,\"muted_glyph\":null,\"nonselection_glyph\":{\"id\":\"2294\"},\"selection_glyph\":null,\"view\":{\"id\":\"2296\"}},\"id\":\"2295\",\"type\":\"GlyphRenderer\"},{\"attributes\":{\"data_source\":{\"id\":\"2322\"},\"glyph\":{\"id\":\"2323\"},\"hover_glyph\":null,\"muted_glyph\":null,\"nonselection_glyph\":{\"id\":\"2324\"},\"selection_glyph\":null,\"view\":{\"id\":\"2326\"}},\"id\":\"2325\",\"type\":\"GlyphRenderer\"},{\"attributes\":{\"text\":\"Crime Hotspots in Vancouver\"},\"id\":\"2190\",\"type\":\"Title\"},{\"attributes\":{\"data\":{},\"selected\":{\"id\":\"2482\"},\"selection_policy\":{\"id\":\"2481\"}},\"id\":\"2242\",\"type\":\"ColumnDataSource\"},{\"attributes\":{\"fill_alpha\":{\"value\":0.1},\"line_alpha\":{\"value\":0.1},\"line_color\":{\"value\":\"#1f77b4\"},\"size\":{\"units\":\"screen\",\"value\":20},\"x\":{\"value\":-13703608.34065707},\"y\":{\"value\":6319567.1187321255}},\"id\":\"2294\",\"type\":\"Circle\"},{\"attributes\":{\"source\":{\"id\":\"2322\"}},\"id\":\"2326\",\"type\":\"CDSView\"},{\"attributes\":{\"source\":{\"id\":\"2292\"}},\"id\":\"2296\",\"type\":\"CDSView\"},{\"attributes\":{},\"id\":\"2192\",\"type\":\"DataRange1d\"},{\"attributes\":{\"fill_color\":{\"value\":\"blue\"},\"line_color\":{\"value\":\"#1f77b4\"},\"size\":{\"units\":\"screen\",\"value\":20},\"x\":{\"value\":-13708365.000234768},\"y\":{\"value\":6326673.722145718}},\"id\":\"2328\",\"type\":\"Circle\"},{\"attributes\":{\"text\":{\"field\":\"neighbourhood_name\"},\"text_color\":{\"value\":\"#000000\"},\"text_font_size\":{\"value\":\"10px\"},\"x\":{\"field\":\"xcor\"},\"x_offset\":{\"value\":-10},\"y\":{\"field\":\"ycor\"},\"y_offset\":{\"value\":25}},\"id\":\"2357\",\"type\":\"Text\"},{\"attributes\":{\"source\":{\"id\":\"2187\"}},\"id\":\"2236\",\"type\":\"CDSView\"},{\"attributes\":{\"data\":{},\"selected\":{\"id\":\"2518\"},\"selection_policy\":{\"id\":\"2517\"}},\"id\":\"2332\",\"type\":\"ColumnDataSource\"},{\"attributes\":{\"fill_alpha\":{\"value\":0.1},\"fill_color\":{\"value\":\"blue\"},\"line_alpha\":{\"value\":0.1},\"line_color\":{\"value\":\"#1f77b4\"},\"size\":{\"units\":\"screen\",\"value\":20},\"x\":{\"value\":-13708365.000234768},\"y\":{\"value\":6326673.722145718}},\"id\":\"2329\",\"type\":\"Circle\"},{\"attributes\":{\"data\":{},\"selected\":{\"id\":\"2506\"},\"selection_policy\":{\"id\":\"2505\"}},\"id\":\"2302\",\"type\":\"ColumnDataSource\"},{\"attributes\":{\"data_source\":{\"id\":\"2327\"},\"glyph\":{\"id\":\"2328\"},\"hover_glyph\":null,\"muted_glyph\":null,\"nonselection_glyph\":{\"id\":\"2329\"},\"selection_glyph\":null,\"view\":{\"id\":\"2331\"}},\"id\":\"2330\",\"type\":\"GlyphRenderer\"},{\"attributes\":{\"data\":{\"crime_count\":[6066,110947,7746,32161,27180,18126,24941,7447,10475,26699,13083,30536,532,8037,26761,12521,5426,5212,3775,20919,17396,10819,41352,5871],\"neighbourhood_name\":[\"Arbutus Ridge\",\"Central Business District\",\"Dunbar-Southlands\",\"Fairview\",\"Grandview-Woodland\",\"Hastings-Sunrise\",\"Kensington-Cedar Cottage\",\"Kerrisdale\",\"Killarney\",\"Kitsilano\",\"Marpole\",\"Mount Pleasant\",\"Musqueam\",\"Oakridge\",\"Renfrew-Collingwood\",\"Riley Park\",\"Shaughnessy\",\"South Cambie\",\"Stanley Park\",\"Strathcona\",\"Sunset\",\"Victoria-Fraserview\",\"West End\",\"West Point Grey\"],\"tag\":[\"Low Crime Rate\",\"High Crime Rate\",\"Low Crime Rate\",\"Moderate Crime Rate\",\"Moderate Crime Rate\",\"Moderate Crime Rate\",\"Moderate Crime Rate\",\"Low Crime Rate\",\"Low Crime Rate\",\"Moderate Crime Rate\",\"Low Crime Rate\",\"Moderate Crime Rate\",\"Low Crime Rate\",\"Low Crime Rate\",\"Moderate Crime Rate\",\"Low Crime Rate\",\"Low Crime Rate\",\"Low Crime Rate\",\"Low Crime Rate\",\"Moderate Crime Rate\",\"Moderate Crime Rate\",\"Low Crime Rate\",\"Moderate Crime Rate\",\"Low Crime Rate\"],\"xcor\":[-13710183.515436366,-13705184.15710484,-13712922.63169488,-13706684.844028275,-13699793.23246445,-13697052.001135616,-13700546.052784838,-13709619.359388975,-13696591.349950764,-13710725.196078567,-13706723.26038455,-13703608.34065707,-13714858.822730195,-13705279.658095993,-13697092.376714924,-13703608.852726728,-13708037.219994128,-13705869.907432025,-13708365.000234768,-13701999.39552884,-13702549.224757766,-13699659.938506175,-13707440.35828034,-13714779.129106734],\"ycor\":[6318214.451403247,6323493.85713348,6317494.275987332,6320349.176106949,6321610.520954982,6321881.13050272,6316760.598681136,6314916.791710343,6312494.541843947,6320112.894476248,6310717.7005862035,6319567.1187321255,6314476.344149734,6313291.973715891,6316505.948833702,6315823.210601795,6316795.095753983,6316567.173841415,6326673.722145718,6321909.944459462,6311990.354722418,6312033.510464615,6324224.030528297,6319257.794822874]},\"selected\":{\"id\":\"2478\"},\"selection_policy\":{\"id\":\"2477\"}},\"id\":\"2187\",\"type\":\"ColumnDataSource\"},{\"attributes\":{\"fill_color\":{\"value\":\"blue\"},\"line_color\":{\"value\":\"#1f77b4\"},\"size\":{\"units\":\"screen\",\"value\":20},\"x\":{\"value\":-13706723.26038455},\"y\":{\"value\":6310717.7005862035}},\"id\":\"2288\",\"type\":\"Circle\"},{\"attributes\":{\"fill_alpha\":{\"value\":0.1},\"fill_color\":{\"value\":\"blue\"},\"line_alpha\":{\"value\":0.1},\"line_color\":{\"value\":\"#1f77b4\"},\"size\":{\"units\":\"screen\",\"value\":20},\"x\":{\"value\":-13714858.822730195},\"y\":{\"value\":6314476.344149734}},\"id\":\"2299\",\"type\":\"Circle\"},{\"attributes\":{\"source\":{\"id\":\"2327\"}},\"id\":\"2331\",\"type\":\"CDSView\"},{\"attributes\":{\"callback\":null,\"names\":[\"ytd_ave\"],\"tooltips\":[[\"Neighbourhood: \",\"@neighbourhood_name\"],[\"Crime Count: \",\"@crime_count\"],[\"Tag: \",\"@tag\"]]},\"id\":\"2188\",\"type\":\"HoverTool\"},{\"attributes\":{\"data_source\":{\"id\":\"2297\"},\"glyph\":{\"id\":\"2298\"},\"hover_glyph\":null,\"muted_glyph\":null,\"nonselection_glyph\":{\"id\":\"2299\"},\"selection_glyph\":null,\"view\":{\"id\":\"2301\"}},\"id\":\"2300\",\"type\":\"GlyphRenderer\"},{\"attributes\":{\"line_color\":{\"value\":\"#1f77b4\"},\"size\":{\"units\":\"screen\",\"value\":20},\"x\":{\"value\":-13701999.39552884},\"y\":{\"value\":6321909.944459462}},\"id\":\"2333\",\"type\":\"Circle\"},{\"attributes\":{\"data_source\":{\"id\":\"2187\"},\"glyph\":{\"id\":\"2357\"},\"hover_glyph\":null,\"muted_glyph\":null,\"view\":{\"id\":\"2359\"}},\"id\":\"2358\",\"type\":\"GlyphRenderer\"},{\"attributes\":{\"source\":{\"id\":\"2297\"}},\"id\":\"2301\",\"type\":\"CDSView\"},{\"attributes\":{\"line_color\":{\"value\":\"#1f77b4\"},\"size\":{\"units\":\"screen\",\"value\":20},\"x\":{\"value\":-13702549.224757766},\"y\":{\"value\":6311990.354722418}},\"id\":\"2338\",\"type\":\"Circle\"},{\"attributes\":{\"fill_color\":{\"value\":\"blue\"},\"line_color\":{\"value\":\"#1f77b4\"},\"size\":{\"units\":\"screen\",\"value\":20},\"x\":{\"value\":-13705279.658095993},\"y\":{\"value\":6313291.973715891}},\"id\":\"2303\",\"type\":\"Circle\"},{\"attributes\":{\"data\":{},\"selected\":{\"id\":\"2520\"},\"selection_policy\":{\"id\":\"2519\"}},\"id\":\"2337\",\"type\":\"ColumnDataSource\"},{\"attributes\":{\"data_source\":{\"id\":\"2332\"},\"glyph\":{\"id\":\"2333\"},\"hover_glyph\":null,\"muted_glyph\":null,\"nonselection_glyph\":{\"id\":\"2334\"},\"selection_glyph\":null,\"view\":{\"id\":\"2336\"}},\"id\":\"2335\",\"type\":\"GlyphRenderer\"},{\"attributes\":{\"source\":{\"id\":\"2242\"}},\"id\":\"2246\",\"type\":\"CDSView\"},{\"attributes\":{\"data\":{},\"selected\":{\"id\":\"2480\"},\"selection_policy\":{\"id\":\"2479\"}},\"id\":\"2237\",\"type\":\"ColumnDataSource\"},{\"attributes\":{\"source\":{\"id\":\"2257\"}},\"id\":\"2261\",\"type\":\"CDSView\"},{\"attributes\":{\"fill_alpha\":{\"value\":0.1},\"line_alpha\":{\"value\":0.1},\"line_color\":{\"value\":\"#1f77b4\"},\"size\":{\"units\":\"screen\",\"value\":20},\"x\":{\"value\":-13701999.39552884},\"y\":{\"value\":6321909.944459462}},\"id\":\"2334\",\"type\":\"Circle\"},{\"attributes\":{},\"id\":\"2216\",\"type\":\"PanTool\"},{\"attributes\":{\"data\":{},\"selected\":{\"id\":\"2508\"},\"selection_policy\":{\"id\":\"2507\"}},\"id\":\"2307\",\"type\":\"ColumnDataSource\"},{\"attributes\":{\"source\":{\"id\":\"2332\"}},\"id\":\"2336\",\"type\":\"CDSView\"},{\"attributes\":{\"data_source\":{\"id\":\"2242\"},\"glyph\":{\"id\":\"2243\"},\"hover_glyph\":null,\"muted_glyph\":null,\"nonselection_glyph\":{\"id\":\"2244\"},\"selection_glyph\":null,\"view\":{\"id\":\"2246\"}},\"id\":\"2245\",\"type\":\"GlyphRenderer\"},{\"attributes\":{\"fill_alpha\":{\"value\":0.1},\"fill_color\":{\"value\":\"blue\"},\"line_alpha\":{\"value\":0.1},\"line_color\":{\"value\":\"#1f77b4\"},\"size\":{\"units\":\"screen\",\"value\":20},\"x\":{\"value\":-13705279.658095993},\"y\":{\"value\":6313291.973715891}},\"id\":\"2304\",\"type\":\"Circle\"},{\"attributes\":{\"bottom_units\":\"screen\",\"fill_alpha\":0.5,\"fill_color\":\"lightgrey\",\"left_units\":\"screen\",\"level\":\"overlay\",\"line_alpha\":1.0,\"line_color\":\"black\",\"line_dash\":[4,4],\"line_width\":2,\"right_units\":\"screen\",\"top_units\":\"screen\"},\"id\":\"2221\",\"type\":\"BoxAnnotation\"},{\"attributes\":{\"data_source\":{\"id\":\"2302\"},\"glyph\":{\"id\":\"2303\"},\"hover_glyph\":null,\"muted_glyph\":null,\"nonselection_glyph\":{\"id\":\"2304\"},\"selection_glyph\":null,\"view\":{\"id\":\"2306\"}},\"id\":\"2305\",\"type\":\"GlyphRenderer\"},{\"attributes\":{\"source\":{\"id\":\"2282\"}},\"id\":\"2286\",\"type\":\"CDSView\"},{\"attributes\":{\"source\":{\"id\":\"2302\"}},\"id\":\"2306\",\"type\":\"CDSView\"},{\"attributes\":{\"data\":{},\"selected\":{\"id\":\"2484\"},\"selection_policy\":{\"id\":\"2483\"}},\"id\":\"2247\",\"type\":\"ColumnDataSource\"},{\"attributes\":{\"line_color\":{\"value\":\"#1f77b4\"},\"size\":{\"units\":\"screen\",\"value\":20},\"x\":{\"value\":-13697092.376714924},\"y\":{\"value\":6316505.948833702}},\"id\":\"2308\",\"type\":\"Circle\"},{\"attributes\":{\"fill_alpha\":{\"value\":0.1},\"line_alpha\":{\"value\":0.1},\"line_color\":{\"value\":\"#1f77b4\"},\"size\":{\"units\":\"screen\",\"value\":20},\"x\":{\"value\":-13702549.224757766},\"y\":{\"value\":6311990.354722418}},\"id\":\"2339\",\"type\":\"Circle\"},{\"attributes\":{\"data_source\":{\"id\":\"2307\"},\"glyph\":{\"id\":\"2308\"},\"hover_glyph\":null,\"muted_glyph\":null,\"nonselection_glyph\":{\"id\":\"2309\"},\"selection_glyph\":null,\"view\":{\"id\":\"2311\"}},\"id\":\"2310\",\"type\":\"GlyphRenderer\"},{\"attributes\":{\"data_source\":{\"id\":\"2337\"},\"glyph\":{\"id\":\"2338\"},\"hover_glyph\":null,\"muted_glyph\":null,\"nonselection_glyph\":{\"id\":\"2339\"},\"selection_glyph\":null,\"view\":{\"id\":\"2341\"}},\"id\":\"2340\",\"type\":\"GlyphRenderer\"},{\"attributes\":{\"source\":{\"id\":\"2337\"}},\"id\":\"2341\",\"type\":\"CDSView\"},{\"attributes\":{\"fill_alpha\":{\"value\":0.1},\"line_alpha\":{\"value\":0.1},\"line_color\":{\"value\":\"#1f77b4\"},\"size\":{\"units\":\"screen\",\"value\":20},\"x\":{\"value\":-13697092.376714924},\"y\":{\"value\":6316505.948833702}},\"id\":\"2309\",\"type\":\"Circle\"}],\"root_ids\":[\"2189\"]},\"title\":\"Bokeh Application\",\"version\":\"2.1.1\"}};\n",
              "  var render_items = [{\"docid\":\"8e192a9f-a076-49e3-a803-538526bfdef5\",\"root_ids\":[\"2189\"],\"roots\":{\"2189\":\"a0e521f9-c972-433a-b421-fc0a91c059ef\"}}];\n",
              "  root.Bokeh.embed.embed_items_notebook(docs_json, render_items);\n",
              "\n",
              "  }\n",
              "  if (root.Bokeh !== undefined) {\n",
              "    embed_document(root);\n",
              "  } else {\n",
              "    var attempts = 0;\n",
              "    var timer = setInterval(function(root) {\n",
              "      if (root.Bokeh !== undefined) {\n",
              "        clearInterval(timer);\n",
              "        embed_document(root);\n",
              "      } else {\n",
              "        attempts++;\n",
              "        if (attempts > 100) {\n",
              "          clearInterval(timer);\n",
              "          console.log(\"Bokeh: ERROR: Unable to run BokehJS code because BokehJS library is missing\");\n",
              "        }\n",
              "      }\n",
              "    }, 10, root)\n",
              "  }\n",
              "})(window);"
            ],
            "application/vnd.bokehjs_exec.v0+json": ""
          },
          "metadata": {
            "tags": [],
            "application/vnd.bokehjs_exec.v0+json": {
              "id": "2189"
            }
          }
        }
      ]
    },
    {
      "cell_type": "code",
      "metadata": {
        "id": "G9FrRr1kNbCq"
      },
      "source": [
        ""
      ],
      "execution_count": null,
      "outputs": []
    }
  ]
}